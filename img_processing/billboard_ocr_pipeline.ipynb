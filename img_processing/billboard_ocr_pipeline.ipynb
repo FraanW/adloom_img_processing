{
 "cells": [
  {
   "cell_type": "markdown",
   "id": "2ac04a1e",
   "metadata": {},
   "source": [
    "# 🧠 Billboard OCR Pipeline\n",
    "This notebook runs a YOLOv8 detection model on raw OOH ad images, crops billboards, runs OCR, and outputs a structured JSON file."
   ]
  },
  {
   "cell_type": "code",
   "execution_count": null,
   "id": "ec7f73f5",
   "metadata": {},
   "outputs": [],
   "source": [
    "!pip install ultralytics opencv-python pillow pytesseract"
   ]
  },
  {
   "cell_type": "code",
   "execution_count": 1,
   "id": "9922ef5e",
   "metadata": {},
   "outputs": [],
   "source": [
    "from ultralytics import YOLO\n",
    "import cv2\n",
    "import os\n",
    "import pytesseract\n",
    "from PIL import Image\n",
    "from pathlib import Path\n",
    "\n",
    "# Paths\n",
    "model_path = \"runs/detect/train/weights/best.pt\"\n",
    "input_dir = \"raw_images\"\n",
    "output_dir = \"cropped_billboards\"\n",
    "os.makedirs(output_dir, exist_ok=True)\n",
    "\n",
    "# Load model\n",
    "model = YOLO(model_path)"
   ]
  },
  {
   "cell_type": "code",
   "execution_count": 2,
   "id": "afcea167",
   "metadata": {},
   "outputs": [],
   "source": [
    "def crop_and_save_billboards(image_path, model, output_folder):\n",
    "    results = model(image_path)\n",
    "    image = cv2.imread(image_path)\n",
    "    basename = Path(image_path).stem\n",
    "    cropped_paths = []\n",
    "    for i, r in enumerate(results):\n",
    "        boxes = r.boxes.xyxy.cpu().numpy().astype(int)\n",
    "        for j, (x1, y1, x2, y2) in enumerate(boxes):\n",
    "            cropped = image[y1:y2, x1:x2]\n",
    "            crop_path = os.path.join(output_folder, f\"{basename}_{j}.jpg\")\n",
    "            cv2.imwrite(crop_path, cropped)\n",
    "            cropped_paths.append(crop_path)\n",
    "    return cropped_paths"
   ]
  },
  {
   "cell_type": "code",
   "execution_count": 3,
   "id": "d004f096",
   "metadata": {},
   "outputs": [],
   "source": [
    "def extract_text(image_path):\n",
    "    img = Image.open(image_path)\n",
    "    text = pytesseract.image_to_string(img)\n",
    "    return text.strip()"
   ]
  },
  {
   "cell_type": "code",
   "execution_count": 15,
   "id": "7a2fa454",
   "metadata": {},
   "outputs": [
    {
     "name": "stderr",
     "output_type": "stream",
     "text": [
      "  0%|          | 0/470 [00:00<?, ?it/s]"
     ]
    },
    {
     "name": "stdout",
     "output_type": "stream",
     "text": [
      "\n",
      "image 1/1 d:\\img_processing\\raw_images\\006a2bc2-4b0c-4d6f-8d7f-c4da51b1c826.jpg: 640x480 1 mupi, 59.1ms\n",
      "Speed: 1.8ms preprocess, 59.1ms inference, 1.1ms postprocess per image at shape (1, 3, 640, 480)\n"
     ]
    },
    {
     "name": "stderr",
     "output_type": "stream",
     "text": [
      "  0%|          | 1/470 [00:00<01:34,  4.98it/s]"
     ]
    },
    {
     "name": "stdout",
     "output_type": "stream",
     "text": [
      "\n",
      "image 1/1 d:\\img_processing\\raw_images\\015ce3e6-4f63-4547-8e06-3b3ca5896d8a.jpg: 640x480 1 mupi, 61.2ms\n",
      "Speed: 1.9ms preprocess, 61.2ms inference, 0.9ms postprocess per image at shape (1, 3, 640, 480)\n"
     ]
    },
    {
     "name": "stderr",
     "output_type": "stream",
     "text": [
      "  0%|          | 2/470 [00:00<01:33,  5.02it/s]"
     ]
    },
    {
     "name": "stdout",
     "output_type": "stream",
     "text": [
      "\n",
      "image 1/1 d:\\img_processing\\raw_images\\0188702c-e5c8-401c-8850-41c8024027eb.jpg: 640x480 1 mupi, 54.0ms\n",
      "Speed: 1.8ms preprocess, 54.0ms inference, 0.7ms postprocess per image at shape (1, 3, 640, 480)\n"
     ]
    },
    {
     "name": "stderr",
     "output_type": "stream",
     "text": [
      "  1%|          | 3/470 [00:00<01:41,  4.61it/s]"
     ]
    },
    {
     "name": "stdout",
     "output_type": "stream",
     "text": [
      "\n",
      "image 1/1 d:\\img_processing\\raw_images\\01a54d78-b747-41b7-ba7d-50eb66322c10.jpg: 640x480 1 mupi, 54.5ms\n",
      "Speed: 1.7ms preprocess, 54.5ms inference, 0.7ms postprocess per image at shape (1, 3, 640, 480)\n"
     ]
    },
    {
     "name": "stderr",
     "output_type": "stream",
     "text": [
      "  1%|          | 4/470 [00:00<01:34,  4.92it/s]"
     ]
    },
    {
     "name": "stdout",
     "output_type": "stream",
     "text": [
      "\n",
      "image 1/1 d:\\img_processing\\raw_images\\01a659df-2e94-4c7a-a6c8-ab797e2954d4.jpg: 480x640 1 rectangle-wide-board, 73.7ms\n",
      "Speed: 1.8ms preprocess, 73.7ms inference, 0.7ms postprocess per image at shape (1, 3, 480, 640)\n"
     ]
    },
    {
     "name": "stderr",
     "output_type": "stream",
     "text": [
      "  1%|          | 5/470 [00:01<01:37,  4.77it/s]"
     ]
    },
    {
     "name": "stdout",
     "output_type": "stream",
     "text": [
      "\n",
      "image 1/1 d:\\img_processing\\raw_images\\02bf305a-6aba-451d-9ffe-419030460485.jpg: 640x480 (no detections), 62.2ms\n",
      "Speed: 2.5ms preprocess, 62.2ms inference, 0.9ms postprocess per image at shape (1, 3, 640, 480)\n",
      "\n",
      "image 1/1 d:\\img_processing\\raw_images\\030e2006-24dc-4a83-a703-4b22830695a5.jpg: 640x480 1 digital-board, 55.2ms\n",
      "Speed: 1.6ms preprocess, 55.2ms inference, 0.8ms postprocess per image at shape (1, 3, 640, 480)\n"
     ]
    },
    {
     "name": "stderr",
     "output_type": "stream",
     "text": [
      "  1%|▏         | 7/470 [00:01<01:19,  5.82it/s]"
     ]
    },
    {
     "name": "stdout",
     "output_type": "stream",
     "text": [
      "\n",
      "image 1/1 d:\\img_processing\\raw_images\\036e3039-5ad8-4702-b956-6740bf5a8c4c.jpg: 640x480 1 poster, 55.0ms\n",
      "Speed: 1.8ms preprocess, 55.0ms inference, 0.7ms postprocess per image at shape (1, 3, 640, 480)\n"
     ]
    },
    {
     "name": "stderr",
     "output_type": "stream",
     "text": [
      "  2%|▏         | 8/470 [00:01<01:22,  5.61it/s]"
     ]
    },
    {
     "name": "stdout",
     "output_type": "stream",
     "text": [
      "\n",
      "image 1/1 d:\\img_processing\\raw_images\\04396f15-71b5-41cb-a0dc-c526865caba8.jpg: 640x320 1 mupi, 56.6ms\n",
      "Speed: 1.2ms preprocess, 56.6ms inference, 0.8ms postprocess per image at shape (1, 3, 640, 320)\n"
     ]
    },
    {
     "name": "stderr",
     "output_type": "stream",
     "text": [
      "  2%|▏         | 9/470 [00:01<01:23,  5.51it/s]"
     ]
    },
    {
     "name": "stdout",
     "output_type": "stream",
     "text": [
      "\n",
      "image 1/1 d:\\img_processing\\raw_images\\0467d8a8-3418-4480-b50f-95e857831dce.jpg: 640x480 1 digital-board-medium, 53.7ms\n",
      "Speed: 1.8ms preprocess, 53.7ms inference, 0.7ms postprocess per image at shape (1, 3, 640, 480)\n"
     ]
    },
    {
     "name": "stderr",
     "output_type": "stream",
     "text": [
      "  2%|▏         | 10/470 [00:01<01:29,  5.15it/s]"
     ]
    },
    {
     "name": "stdout",
     "output_type": "stream",
     "text": [
      "\n",
      "image 1/1 d:\\img_processing\\raw_images\\04dd725e-e0f8-4496-9aaa-bcc4cda7f7e9.jpg: 320x640 (no detections), 53.5ms\n",
      "Speed: 1.2ms preprocess, 53.5ms inference, 0.4ms postprocess per image at shape (1, 3, 320, 640)\n",
      "\n",
      "image 1/1 d:\\img_processing\\raw_images\\063e151e-46c6-4ffe-84a7-0558b7552f5a.jpg: 640x480 1 mupi, 55.9ms\n",
      "Speed: 2.0ms preprocess, 55.9ms inference, 0.7ms postprocess per image at shape (1, 3, 640, 480)\n"
     ]
    },
    {
     "name": "stderr",
     "output_type": "stream",
     "text": [
      "  3%|▎         | 12/470 [00:02<01:17,  5.89it/s]"
     ]
    },
    {
     "name": "stdout",
     "output_type": "stream",
     "text": [
      "\n",
      "image 1/1 d:\\img_processing\\raw_images\\066f0dc4-18a8-4440-a4a2-cc139b52b705.jpg: 640x480 1 digital-board, 65.0ms\n",
      "Speed: 1.5ms preprocess, 65.0ms inference, 1.0ms postprocess per image at shape (1, 3, 640, 480)\n"
     ]
    },
    {
     "name": "stderr",
     "output_type": "stream",
     "text": [
      "  3%|▎         | 13/470 [00:02<01:20,  5.68it/s]"
     ]
    },
    {
     "name": "stdout",
     "output_type": "stream",
     "text": [
      "\n",
      "image 1/1 d:\\img_processing\\raw_images\\06db063d-7261-413b-9cf4-270263e95f1c.jpg: 640x480 1 mupi, 55.0ms\n",
      "Speed: 1.9ms preprocess, 55.0ms inference, 0.8ms postprocess per image at shape (1, 3, 640, 480)\n"
     ]
    },
    {
     "name": "stderr",
     "output_type": "stream",
     "text": [
      "  3%|▎         | 14/470 [00:02<01:23,  5.46it/s]"
     ]
    },
    {
     "name": "stdout",
     "output_type": "stream",
     "text": [
      "\n",
      "image 1/1 d:\\img_processing\\raw_images\\06fdd995-08f3-41fd-ad54-2229f14646af.jpg: 640x480 1 digital-board-medium, 56.4ms\n",
      "Speed: 1.6ms preprocess, 56.4ms inference, 1.3ms postprocess per image at shape (1, 3, 640, 480)\n"
     ]
    },
    {
     "name": "stderr",
     "output_type": "stream",
     "text": [
      "  3%|▎         | 15/470 [00:02<01:26,  5.26it/s]"
     ]
    },
    {
     "name": "stdout",
     "output_type": "stream",
     "text": [
      "\n",
      "image 1/1 d:\\img_processing\\raw_images\\07550f68-8fd0-4746-a326-c741c4666160.jpg: 640x480 1 poster, 53.1ms\n",
      "Speed: 1.7ms preprocess, 53.1ms inference, 0.8ms postprocess per image at shape (1, 3, 640, 480)\n"
     ]
    },
    {
     "name": "stderr",
     "output_type": "stream",
     "text": [
      "  3%|▎         | 16/470 [00:03<01:28,  5.14it/s]"
     ]
    },
    {
     "name": "stdout",
     "output_type": "stream",
     "text": [
      "\n",
      "image 1/1 d:\\img_processing\\raw_images\\0783cbf6-13f2-4ee2-94ec-5eee423e6c5d.jpg: 640x480 1 digital-board, 56.1ms\n",
      "Speed: 1.6ms preprocess, 56.1ms inference, 0.9ms postprocess per image at shape (1, 3, 640, 480)\n"
     ]
    },
    {
     "name": "stderr",
     "output_type": "stream",
     "text": [
      "  4%|▎         | 17/470 [00:03<01:27,  5.16it/s]"
     ]
    },
    {
     "name": "stdout",
     "output_type": "stream",
     "text": [
      "\n",
      "image 1/1 d:\\img_processing\\raw_images\\07d67b5b-7e87-4faa-9ab1-3e28658b4467.jpg: 640x480 1 digital-board, 55.9ms\n",
      "Speed: 2.1ms preprocess, 55.9ms inference, 0.8ms postprocess per image at shape (1, 3, 640, 480)\n"
     ]
    },
    {
     "name": "stderr",
     "output_type": "stream",
     "text": [
      "  4%|▍         | 18/470 [00:03<01:32,  4.88it/s]"
     ]
    },
    {
     "name": "stdout",
     "output_type": "stream",
     "text": [
      "\n",
      "image 1/1 d:\\img_processing\\raw_images\\08c0da82-6086-4140-9816-906dfff45bb6.jpg: 640x480 1 mupi, 56.6ms\n",
      "Speed: 1.8ms preprocess, 56.6ms inference, 1.2ms postprocess per image at shape (1, 3, 640, 480)\n"
     ]
    },
    {
     "name": "stderr",
     "output_type": "stream",
     "text": [
      "  4%|▍         | 19/470 [00:03<01:30,  4.99it/s]"
     ]
    },
    {
     "name": "stdout",
     "output_type": "stream",
     "text": [
      "\n",
      "image 1/1 d:\\img_processing\\raw_images\\0b3ee01a-83d7-4894-96e2-b2125aea0947.jpg: 640x480 1 rectangle-wide-board, 55.5ms\n",
      "Speed: 2.0ms preprocess, 55.5ms inference, 0.8ms postprocess per image at shape (1, 3, 640, 480)\n"
     ]
    },
    {
     "name": "stderr",
     "output_type": "stream",
     "text": [
      "  4%|▍         | 20/470 [00:03<01:29,  5.04it/s]"
     ]
    },
    {
     "name": "stdout",
     "output_type": "stream",
     "text": [
      "\n",
      "image 1/1 d:\\img_processing\\raw_images\\0c6644ad-10bb-4584-8e2f-6753bbbfdc51.jpg: 640x480 1 mupi, 65.5ms\n",
      "Speed: 1.7ms preprocess, 65.5ms inference, 0.7ms postprocess per image at shape (1, 3, 640, 480)\n"
     ]
    },
    {
     "name": "stderr",
     "output_type": "stream",
     "text": [
      "  4%|▍         | 21/470 [00:04<01:32,  4.88it/s]"
     ]
    },
    {
     "name": "stdout",
     "output_type": "stream",
     "text": [
      "\n",
      "image 1/1 d:\\img_processing\\raw_images\\0c78f2ff-c9c8-455b-916e-53c31929b03c.jpg: 640x480 1 mupi, 53.8ms\n",
      "Speed: 1.6ms preprocess, 53.8ms inference, 0.7ms postprocess per image at shape (1, 3, 640, 480)\n"
     ]
    },
    {
     "name": "stderr",
     "output_type": "stream",
     "text": [
      "  5%|▍         | 22/470 [00:04<01:31,  4.91it/s]"
     ]
    },
    {
     "name": "stdout",
     "output_type": "stream",
     "text": [
      "\n",
      "image 1/1 d:\\img_processing\\raw_images\\0cae86e5-856f-4275-b8a2-6bf617c19e57.jpg: 640x480 1 digital-board-medium, 52.6ms\n",
      "Speed: 1.5ms preprocess, 52.6ms inference, 0.9ms postprocess per image at shape (1, 3, 640, 480)\n"
     ]
    },
    {
     "name": "stderr",
     "output_type": "stream",
     "text": [
      "  5%|▍         | 23/470 [00:04<01:30,  4.96it/s]"
     ]
    },
    {
     "name": "stdout",
     "output_type": "stream",
     "text": [
      "\n",
      "image 1/1 d:\\img_processing\\raw_images\\0d726ebf-be54-490d-96c1-76dee61e0e90.jpg: 640x480 1 mupi, 54.5ms\n",
      "Speed: 1.7ms preprocess, 54.5ms inference, 0.8ms postprocess per image at shape (1, 3, 640, 480)\n"
     ]
    },
    {
     "name": "stderr",
     "output_type": "stream",
     "text": [
      "  5%|▌         | 24/470 [00:04<01:28,  5.01it/s]"
     ]
    },
    {
     "name": "stdout",
     "output_type": "stream",
     "text": [
      "\n",
      "image 1/1 d:\\img_processing\\raw_images\\0e1e21a2-03be-4dc2-95d3-0d89bf8b7d37.jpg: 640x480 1 digital-board, 59.0ms\n",
      "Speed: 2.1ms preprocess, 59.0ms inference, 0.9ms postprocess per image at shape (1, 3, 640, 480)\n"
     ]
    },
    {
     "name": "stderr",
     "output_type": "stream",
     "text": [
      "  5%|▌         | 25/470 [00:04<01:27,  5.06it/s]"
     ]
    },
    {
     "name": "stdout",
     "output_type": "stream",
     "text": [
      "\n",
      "image 1/1 d:\\img_processing\\raw_images\\0e4ab477-ddcc-4906-b5a7-932b53c31b35.jpg: 640x480 1 poster, 53.9ms\n",
      "Speed: 1.6ms preprocess, 53.9ms inference, 0.8ms postprocess per image at shape (1, 3, 640, 480)\n"
     ]
    },
    {
     "name": "stderr",
     "output_type": "stream",
     "text": [
      "  6%|▌         | 26/470 [00:05<01:27,  5.10it/s]"
     ]
    },
    {
     "name": "stdout",
     "output_type": "stream",
     "text": [
      "\n",
      "image 1/1 d:\\img_processing\\raw_images\\0e8f87ae-c78e-45fd-a231-19d19b7c88c8.jpg: 640x480 1 digital-board, 58.8ms\n",
      "Speed: 2.0ms preprocess, 58.8ms inference, 0.8ms postprocess per image at shape (1, 3, 640, 480)\n"
     ]
    },
    {
     "name": "stderr",
     "output_type": "stream",
     "text": [
      "  6%|▌         | 27/470 [00:05<01:27,  5.08it/s]"
     ]
    },
    {
     "name": "stdout",
     "output_type": "stream",
     "text": [
      "\n",
      "image 1/1 d:\\img_processing\\raw_images\\0ee06cfe-e66b-4c20-bc68-b33a4cf9c633.jpg: 480x640 2 rectangle-wide-boards, 57.2ms\n",
      "Speed: 2.1ms preprocess, 57.2ms inference, 0.9ms postprocess per image at shape (1, 3, 480, 640)\n"
     ]
    },
    {
     "name": "stderr",
     "output_type": "stream",
     "text": [
      "  6%|▌         | 28/470 [00:05<01:42,  4.32it/s]"
     ]
    },
    {
     "name": "stdout",
     "output_type": "stream",
     "text": [
      "\n",
      "image 1/1 d:\\img_processing\\raw_images\\0f7f7dc5-d846-49aa-b9b2-41e4c41404bd.jpg: 640x320 (no detections), 43.9ms\n",
      "Speed: 1.5ms preprocess, 43.9ms inference, 0.4ms postprocess per image at shape (1, 3, 640, 320)\n",
      "\n",
      "image 1/1 d:\\img_processing\\raw_images\\1056d0a5-123e-4f16-800d-5822dd9eeaa8.jpg: 640x480 (no detections), 52.3ms\n",
      "Speed: 1.5ms preprocess, 52.3ms inference, 0.4ms postprocess per image at shape (1, 3, 640, 480)\n"
     ]
    },
    {
     "name": "stderr",
     "output_type": "stream",
     "text": [
      "  6%|▋         | 30/470 [00:05<01:07,  6.52it/s]"
     ]
    },
    {
     "name": "stdout",
     "output_type": "stream",
     "text": [
      "\n",
      "image 1/1 d:\\img_processing\\raw_images\\1066f071-bd9a-4699-80f1-8eeee7a86c1d.jpg: 640x480 1 digital-board-medium, 53.0ms\n",
      "Speed: 1.5ms preprocess, 53.0ms inference, 0.7ms postprocess per image at shape (1, 3, 640, 480)\n"
     ]
    },
    {
     "name": "stderr",
     "output_type": "stream",
     "text": [
      "  7%|▋         | 31/470 [00:05<01:11,  6.11it/s]"
     ]
    },
    {
     "name": "stdout",
     "output_type": "stream",
     "text": [
      "\n",
      "image 1/1 d:\\img_processing\\raw_images\\10b08126-1d03-44a5-92ef-234103adf857.jpg: 640x480 1 mupi, 56.8ms\n",
      "Speed: 2.1ms preprocess, 56.8ms inference, 0.8ms postprocess per image at shape (1, 3, 640, 480)\n"
     ]
    },
    {
     "name": "stderr",
     "output_type": "stream",
     "text": [
      "  7%|▋         | 32/470 [00:06<01:16,  5.71it/s]"
     ]
    },
    {
     "name": "stdout",
     "output_type": "stream",
     "text": [
      "\n",
      "image 1/1 d:\\img_processing\\raw_images\\11a58aae-6bae-4590-8f8e-7f6a58f549ce.jpg: 640x480 1 mupi, 74.5ms\n",
      "Speed: 1.7ms preprocess, 74.5ms inference, 1.3ms postprocess per image at shape (1, 3, 640, 480)\n"
     ]
    },
    {
     "name": "stderr",
     "output_type": "stream",
     "text": [
      "  7%|▋         | 33/470 [00:06<01:22,  5.30it/s]"
     ]
    },
    {
     "name": "stdout",
     "output_type": "stream",
     "text": [
      "\n",
      "image 1/1 d:\\img_processing\\raw_images\\11c98e24-43bc-40a5-89cb-2f1c1b3778fc.jpg: 640x480 1 mupi, 67.6ms\n",
      "Speed: 1.7ms preprocess, 67.6ms inference, 0.8ms postprocess per image at shape (1, 3, 640, 480)\n"
     ]
    },
    {
     "name": "stderr",
     "output_type": "stream",
     "text": [
      "  7%|▋         | 34/470 [00:06<01:25,  5.10it/s]"
     ]
    },
    {
     "name": "stdout",
     "output_type": "stream",
     "text": [
      "\n",
      "image 1/1 d:\\img_processing\\raw_images\\129315e9-e5c1-4ddc-a38d-8d3e190e172f.jpg: 640x320 1 mupi, 47.8ms\n",
      "Speed: 1.3ms preprocess, 47.8ms inference, 0.7ms postprocess per image at shape (1, 3, 640, 320)\n"
     ]
    },
    {
     "name": "stderr",
     "output_type": "stream",
     "text": [
      "  7%|▋         | 35/470 [00:06<01:23,  5.19it/s]"
     ]
    },
    {
     "name": "stdout",
     "output_type": "stream",
     "text": [
      "\n",
      "image 1/1 d:\\img_processing\\raw_images\\12990536-40e2-4236-acb0-93eac0ad2a5d.jpg: 640x480 1 rectangle-wide-board, 55.5ms\n",
      "Speed: 1.5ms preprocess, 55.5ms inference, 0.7ms postprocess per image at shape (1, 3, 640, 480)\n"
     ]
    },
    {
     "name": "stderr",
     "output_type": "stream",
     "text": [
      "  8%|▊         | 36/470 [00:06<01:26,  5.03it/s]"
     ]
    },
    {
     "name": "stdout",
     "output_type": "stream",
     "text": [
      "\n",
      "image 1/1 d:\\img_processing\\raw_images\\13f75edf-a1b1-4c34-8c1e-edeb09311465.jpg: 640x480 1 rectangle-wide-board, 56.5ms\n",
      "Speed: 1.6ms preprocess, 56.5ms inference, 0.7ms postprocess per image at shape (1, 3, 640, 480)\n"
     ]
    },
    {
     "name": "stderr",
     "output_type": "stream",
     "text": [
      "  8%|▊         | 37/470 [00:07<01:25,  5.04it/s]"
     ]
    },
    {
     "name": "stdout",
     "output_type": "stream",
     "text": [
      "\n",
      "image 1/1 d:\\img_processing\\raw_images\\14617690-5b08-4b6b-857e-1766accd5d79.jpg: 640x320 1 mupi, 49.2ms\n",
      "Speed: 1.5ms preprocess, 49.2ms inference, 0.7ms postprocess per image at shape (1, 3, 640, 320)\n"
     ]
    },
    {
     "name": "stderr",
     "output_type": "stream",
     "text": [
      "  8%|▊         | 38/470 [00:07<01:23,  5.16it/s]"
     ]
    },
    {
     "name": "stdout",
     "output_type": "stream",
     "text": [
      "\n",
      "image 1/1 d:\\img_processing\\raw_images\\14aaddfc-48bf-4978-9c93-9d6196bf49cb.jpg: 640x480 1 mupi, 57.5ms\n",
      "Speed: 1.7ms preprocess, 57.5ms inference, 0.9ms postprocess per image at shape (1, 3, 640, 480)\n"
     ]
    },
    {
     "name": "stderr",
     "output_type": "stream",
     "text": [
      "  8%|▊         | 39/470 [00:07<01:23,  5.14it/s]"
     ]
    },
    {
     "name": "stdout",
     "output_type": "stream",
     "text": [
      "\n",
      "image 1/1 d:\\img_processing\\raw_images\\1575a4e1-2dac-4bc2-9b8d-d27fea186ad2.jpg: 640x480 1 digital-board, 55.3ms\n",
      "Speed: 1.9ms preprocess, 55.3ms inference, 0.7ms postprocess per image at shape (1, 3, 640, 480)\n"
     ]
    },
    {
     "name": "stderr",
     "output_type": "stream",
     "text": [
      "  9%|▊         | 40/470 [00:07<01:23,  5.15it/s]"
     ]
    },
    {
     "name": "stdout",
     "output_type": "stream",
     "text": [
      "\n",
      "image 1/1 d:\\img_processing\\raw_images\\1590a0c6-6d4a-4923-adba-1ad154ef1c70.jpg: 640x480 1 digital-board-medium, 57.0ms\n",
      "Speed: 1.6ms preprocess, 57.0ms inference, 0.8ms postprocess per image at shape (1, 3, 640, 480)\n"
     ]
    },
    {
     "name": "stderr",
     "output_type": "stream",
     "text": [
      "  9%|▊         | 41/470 [00:07<01:23,  5.13it/s]"
     ]
    },
    {
     "name": "stdout",
     "output_type": "stream",
     "text": [
      "\n",
      "image 1/1 d:\\img_processing\\raw_images\\15ce9e97-81ca-4a5b-b3c6-8fd04aea5f16.jpg: 640x320 1 mupi, 49.4ms\n",
      "Speed: 1.3ms preprocess, 49.4ms inference, 0.7ms postprocess per image at shape (1, 3, 640, 320)\n"
     ]
    },
    {
     "name": "stderr",
     "output_type": "stream",
     "text": [
      "  9%|▉         | 42/470 [00:08<01:23,  5.13it/s]"
     ]
    },
    {
     "name": "stdout",
     "output_type": "stream",
     "text": [
      "\n",
      "image 1/1 d:\\img_processing\\raw_images\\1649aba0-cdb9-4aeb-b0d8-8b23cae1fc5e.jpg: 320x640 (no detections), 47.8ms\n",
      "Speed: 1.4ms preprocess, 47.8ms inference, 0.3ms postprocess per image at shape (1, 3, 320, 640)\n",
      "\n",
      "image 1/1 d:\\img_processing\\raw_images\\16f1f354-9606-4955-a4b8-abda979587b5.jpg: 640x320 1 mupi, 45.5ms\n",
      "Speed: 1.2ms preprocess, 45.5ms inference, 0.7ms postprocess per image at shape (1, 3, 640, 320)\n"
     ]
    },
    {
     "name": "stderr",
     "output_type": "stream",
     "text": [
      "  9%|▉         | 44/470 [00:08<01:08,  6.19it/s]"
     ]
    },
    {
     "name": "stdout",
     "output_type": "stream",
     "text": [
      "\n",
      "image 1/1 d:\\img_processing\\raw_images\\17054aad-a8ca-48ec-8850-849945b2ef11.jpg: 640x480 1 digital-board-medium, 60.0ms\n",
      "Speed: 1.7ms preprocess, 60.0ms inference, 0.8ms postprocess per image at shape (1, 3, 640, 480)\n"
     ]
    },
    {
     "name": "stderr",
     "output_type": "stream",
     "text": [
      " 10%|▉         | 45/470 [00:08<01:12,  5.83it/s]"
     ]
    },
    {
     "name": "stdout",
     "output_type": "stream",
     "text": [
      "\n",
      "image 1/1 d:\\img_processing\\raw_images\\172de53b-29ce-4371-9ebd-66d609024e42.jpg: 640x480 1 digital-board, 56.8ms\n",
      "Speed: 1.8ms preprocess, 56.8ms inference, 0.8ms postprocess per image at shape (1, 3, 640, 480)\n"
     ]
    },
    {
     "name": "stderr",
     "output_type": "stream",
     "text": [
      " 10%|▉         | 46/470 [00:08<01:14,  5.68it/s]"
     ]
    },
    {
     "name": "stdout",
     "output_type": "stream",
     "text": [
      "\n",
      "image 1/1 d:\\img_processing\\raw_images\\17f3f4cc-0f18-4bd0-83a1-561fca0fd785.jpg: 480x640 1 digital-board-big, 53.7ms\n",
      "Speed: 1.3ms preprocess, 53.7ms inference, 1.1ms postprocess per image at shape (1, 3, 480, 640)\n"
     ]
    },
    {
     "name": "stderr",
     "output_type": "stream",
     "text": [
      " 10%|█         | 47/470 [00:08<01:23,  5.07it/s]"
     ]
    },
    {
     "name": "stdout",
     "output_type": "stream",
     "text": [
      "\n",
      "image 1/1 d:\\img_processing\\raw_images\\182721ca-d50c-4ea1-9261-daef90757eae.jpg: 640x480 1 rectangle-wide-board, 52.0ms\n",
      "Speed: 1.7ms preprocess, 52.0ms inference, 0.7ms postprocess per image at shape (1, 3, 640, 480)\n"
     ]
    },
    {
     "name": "stderr",
     "output_type": "stream",
     "text": [
      " 10%|█         | 48/470 [00:09<01:22,  5.14it/s]"
     ]
    },
    {
     "name": "stdout",
     "output_type": "stream",
     "text": [
      "\n",
      "image 1/1 d:\\img_processing\\raw_images\\188ce5ef-d71b-436e-b5bb-34e3a3aa0fd0.jpg: 640x480 1 poster, 53.7ms\n",
      "Speed: 1.8ms preprocess, 53.7ms inference, 1.0ms postprocess per image at shape (1, 3, 640, 480)\n"
     ]
    },
    {
     "name": "stderr",
     "output_type": "stream",
     "text": [
      " 10%|█         | 49/470 [00:09<01:42,  4.12it/s]"
     ]
    },
    {
     "name": "stdout",
     "output_type": "stream",
     "text": [
      "\n",
      "image 1/1 d:\\img_processing\\raw_images\\19995934-8522-40fb-bc45-cd3574870b02.jpg: 640x480 1 digital-board-medium, 57.0ms\n",
      "Speed: 1.8ms preprocess, 57.0ms inference, 0.7ms postprocess per image at shape (1, 3, 640, 480)\n"
     ]
    },
    {
     "name": "stderr",
     "output_type": "stream",
     "text": [
      " 11%|█         | 50/470 [00:09<01:35,  4.39it/s]"
     ]
    },
    {
     "name": "stdout",
     "output_type": "stream",
     "text": [
      "\n",
      "image 1/1 d:\\img_processing\\raw_images\\1a99ff57-c1fc-4efb-ade2-c4f5b4d4f400.jpg: 640x480 1 mupi, 56.8ms\n",
      "Speed: 1.9ms preprocess, 56.8ms inference, 0.9ms postprocess per image at shape (1, 3, 640, 480)\n"
     ]
    },
    {
     "name": "stderr",
     "output_type": "stream",
     "text": [
      " 11%|█         | 51/470 [00:09<01:31,  4.57it/s]"
     ]
    },
    {
     "name": "stdout",
     "output_type": "stream",
     "text": [
      "\n",
      "image 1/1 d:\\img_processing\\raw_images\\1aa0f758-6bdf-4358-a823-88f0f115a8f8.jpg: 640x480 1 mupi, 55.5ms\n",
      "Speed: 1.8ms preprocess, 55.5ms inference, 0.9ms postprocess per image at shape (1, 3, 640, 480)\n"
     ]
    },
    {
     "name": "stderr",
     "output_type": "stream",
     "text": [
      " 11%|█         | 52/470 [00:10<01:29,  4.66it/s]"
     ]
    },
    {
     "name": "stdout",
     "output_type": "stream",
     "text": [
      "\n",
      "image 1/1 d:\\img_processing\\raw_images\\1bf3fff3-c69e-4319-b4e9-52ed34cd3369.jpg: 640x320 1 mupi, 63.9ms\n",
      "Speed: 1.4ms preprocess, 63.9ms inference, 0.8ms postprocess per image at shape (1, 3, 640, 320)\n"
     ]
    },
    {
     "name": "stderr",
     "output_type": "stream",
     "text": [
      " 11%|█▏        | 53/470 [00:10<01:26,  4.82it/s]"
     ]
    },
    {
     "name": "stdout",
     "output_type": "stream",
     "text": [
      "\n",
      "image 1/1 d:\\img_processing\\raw_images\\1c225c07-2e40-45d9-bb69-83ae9f923462.jpg: 640x320 1 mupi, 47.4ms\n",
      "Speed: 1.4ms preprocess, 47.4ms inference, 0.8ms postprocess per image at shape (1, 3, 640, 320)\n"
     ]
    },
    {
     "name": "stderr",
     "output_type": "stream",
     "text": [
      " 11%|█▏        | 54/470 [00:10<01:22,  5.03it/s]"
     ]
    },
    {
     "name": "stdout",
     "output_type": "stream",
     "text": [
      "\n",
      "image 1/1 d:\\img_processing\\raw_images\\1c71d864-2adb-403e-8396-6b0f7fcf8686.jpg: 640x320 1 mupi, 44.1ms\n",
      "Speed: 1.4ms preprocess, 44.1ms inference, 0.9ms postprocess per image at shape (1, 3, 640, 320)\n"
     ]
    },
    {
     "name": "stderr",
     "output_type": "stream",
     "text": [
      " 12%|█▏        | 55/470 [00:10<01:22,  5.05it/s]"
     ]
    },
    {
     "name": "stdout",
     "output_type": "stream",
     "text": [
      "\n",
      "image 1/1 d:\\img_processing\\raw_images\\1cc80c55-6d77-4762-a4ce-7fe1c2127b0d.jpg: 640x480 1 mupi, 55.2ms\n",
      "Speed: 1.7ms preprocess, 55.2ms inference, 0.8ms postprocess per image at shape (1, 3, 640, 480)\n"
     ]
    },
    {
     "name": "stderr",
     "output_type": "stream",
     "text": [
      " 12%|█▏        | 56/470 [00:10<01:23,  4.98it/s]"
     ]
    },
    {
     "name": "stdout",
     "output_type": "stream",
     "text": [
      "\n",
      "image 1/1 d:\\img_processing\\raw_images\\1ccdd84d-af41-440a-9d26-54c935c2126c.jpg: 640x480 (no detections), 53.8ms\n",
      "Speed: 1.8ms preprocess, 53.8ms inference, 0.6ms postprocess per image at shape (1, 3, 640, 480)\n",
      "\n",
      "image 1/1 d:\\img_processing\\raw_images\\1d2a13a6-4948-4919-b686-aed20684b3ac.jpg: 640x480 (no detections), 50.7ms\n",
      "Speed: 1.5ms preprocess, 50.7ms inference, 0.6ms postprocess per image at shape (1, 3, 640, 480)\n"
     ]
    },
    {
     "name": "stderr",
     "output_type": "stream",
     "text": [
      " 12%|█▏        | 58/470 [00:11<00:57,  7.12it/s]"
     ]
    },
    {
     "name": "stdout",
     "output_type": "stream",
     "text": [
      "\n",
      "image 1/1 d:\\img_processing\\raw_images\\1dac1898-f437-4089-9d19-c0f914fec2b6.jpg: 640x480 (no detections), 56.2ms\n",
      "Speed: 1.6ms preprocess, 56.2ms inference, 0.6ms postprocess per image at shape (1, 3, 640, 480)\n",
      "\n",
      "image 1/1 d:\\img_processing\\raw_images\\1eaf7d8c-5bd1-4458-9c04-c40353e7693e.jpg: 640x480 1 mupi, 55.2ms\n",
      "Speed: 1.5ms preprocess, 55.2ms inference, 1.0ms postprocess per image at shape (1, 3, 640, 480)\n"
     ]
    },
    {
     "name": "stderr",
     "output_type": "stream",
     "text": [
      " 13%|█▎        | 60/470 [00:11<00:57,  7.16it/s]"
     ]
    },
    {
     "name": "stdout",
     "output_type": "stream",
     "text": [
      "\n",
      "image 1/1 d:\\img_processing\\raw_images\\20dd207a-e49c-413f-9c20-c8c33dd6ab20.jpg: 640x480 1 digital-board-medium, 53.8ms\n",
      "Speed: 1.6ms preprocess, 53.8ms inference, 0.8ms postprocess per image at shape (1, 3, 640, 480)\n"
     ]
    },
    {
     "name": "stderr",
     "output_type": "stream",
     "text": [
      " 13%|█▎        | 61/470 [00:11<01:06,  6.15it/s]"
     ]
    },
    {
     "name": "stdout",
     "output_type": "stream",
     "text": [
      "\n",
      "image 1/1 d:\\img_processing\\raw_images\\20f651dc-6d4a-498c-949b-a4b3858d428c.jpg: 320x640 1 poster, 52.5ms\n",
      "Speed: 1.2ms preprocess, 52.5ms inference, 0.8ms postprocess per image at shape (1, 3, 320, 640)\n"
     ]
    },
    {
     "name": "stderr",
     "output_type": "stream",
     "text": [
      " 13%|█▎        | 62/470 [00:11<01:10,  5.79it/s]"
     ]
    },
    {
     "name": "stdout",
     "output_type": "stream",
     "text": [
      "\n",
      "image 1/1 d:\\img_processing\\raw_images\\21bc7cfe-3b90-467f-94e2-a781174e685d.jpg: 640x480 1 digital-board-medium, 53.5ms\n",
      "Speed: 1.5ms preprocess, 53.5ms inference, 0.7ms postprocess per image at shape (1, 3, 640, 480)\n"
     ]
    },
    {
     "name": "stderr",
     "output_type": "stream",
     "text": [
      " 13%|█▎        | 63/470 [00:11<01:12,  5.61it/s]"
     ]
    },
    {
     "name": "stdout",
     "output_type": "stream",
     "text": [
      "\n",
      "image 1/1 d:\\img_processing\\raw_images\\21cd2be6-75fe-4d03-8454-6659937da408.jpg: 480x640 1 rectangle-wide-board, 58.6ms\n",
      "Speed: 1.5ms preprocess, 58.6ms inference, 0.8ms postprocess per image at shape (1, 3, 480, 640)\n"
     ]
    },
    {
     "name": "stderr",
     "output_type": "stream",
     "text": [
      " 14%|█▎        | 64/470 [00:12<01:15,  5.39it/s]"
     ]
    },
    {
     "name": "stdout",
     "output_type": "stream",
     "text": [
      "\n",
      "image 1/1 d:\\img_processing\\raw_images\\22736f9c-dd66-4b14-995e-0fb34a3efbad.jpg: 640x480 1 mupi, 70.0ms\n",
      "Speed: 1.8ms preprocess, 70.0ms inference, 0.9ms postprocess per image at shape (1, 3, 640, 480)\n"
     ]
    },
    {
     "name": "stderr",
     "output_type": "stream",
     "text": [
      " 14%|█▍        | 65/470 [00:12<01:17,  5.24it/s]"
     ]
    },
    {
     "name": "stdout",
     "output_type": "stream",
     "text": [
      "\n",
      "image 1/1 d:\\img_processing\\raw_images\\23cb6924-ff31-4f8a-83e4-2bd366d80460.jpg: 640x480 1 digital-board-medium, 54.5ms\n",
      "Speed: 1.6ms preprocess, 54.5ms inference, 0.8ms postprocess per image at shape (1, 3, 640, 480)\n"
     ]
    },
    {
     "name": "stderr",
     "output_type": "stream",
     "text": [
      " 14%|█▍        | 66/470 [00:12<01:19,  5.05it/s]"
     ]
    },
    {
     "name": "stdout",
     "output_type": "stream",
     "text": [
      "\n",
      "image 1/1 d:\\img_processing\\raw_images\\23d20049-9845-447b-9478-ed3cac0819e8.jpg: 640x320 1 mupi, 47.8ms\n",
      "Speed: 1.3ms preprocess, 47.8ms inference, 0.8ms postprocess per image at shape (1, 3, 640, 320)\n"
     ]
    },
    {
     "name": "stderr",
     "output_type": "stream",
     "text": [
      " 14%|█▍        | 67/470 [00:12<01:18,  5.13it/s]"
     ]
    },
    {
     "name": "stdout",
     "output_type": "stream",
     "text": [
      "\n",
      "image 1/1 d:\\img_processing\\raw_images\\248aadb6-87ef-404c-ae63-9ec30c7b7473.jpg: 640x480 (no detections), 56.9ms\n",
      "Speed: 1.6ms preprocess, 56.9ms inference, 0.8ms postprocess per image at shape (1, 3, 640, 480)\n",
      "\n",
      "image 1/1 d:\\img_processing\\raw_images\\24e38a04-1780-4b1b-92dc-6b85cf6b1d88.jpg: 640x480 1 mupi, 56.3ms\n",
      "Speed: 1.6ms preprocess, 56.3ms inference, 1.0ms postprocess per image at shape (1, 3, 640, 480)\n"
     ]
    },
    {
     "name": "stderr",
     "output_type": "stream",
     "text": [
      " 15%|█▍        | 69/470 [00:13<01:08,  5.85it/s]"
     ]
    },
    {
     "name": "stdout",
     "output_type": "stream",
     "text": [
      "\n",
      "image 1/1 d:\\img_processing\\raw_images\\253d4a12-8cf7-483f-93d1-637dd0940983.jpg: 640x480 1 digital-board, 59.0ms\n",
      "Speed: 1.6ms preprocess, 59.0ms inference, 1.0ms postprocess per image at shape (1, 3, 640, 480)\n"
     ]
    },
    {
     "name": "stderr",
     "output_type": "stream",
     "text": [
      " 15%|█▍        | 70/470 [00:13<01:12,  5.53it/s]"
     ]
    },
    {
     "name": "stdout",
     "output_type": "stream",
     "text": [
      "\n",
      "image 1/1 d:\\img_processing\\raw_images\\25c2842a-64eb-4e3e-acba-027db23fb326.jpg: 640x480 (no detections), 58.7ms\n",
      "Speed: 1.6ms preprocess, 58.7ms inference, 0.7ms postprocess per image at shape (1, 3, 640, 480)\n",
      "\n",
      "image 1/1 d:\\img_processing\\raw_images\\2628920e-2652-4378-b676-77f37d894bdf.jpg: 640x480 1 mupi, 63.2ms\n",
      "Speed: 1.6ms preprocess, 63.2ms inference, 0.9ms postprocess per image at shape (1, 3, 640, 480)\n"
     ]
    },
    {
     "name": "stderr",
     "output_type": "stream",
     "text": [
      " 15%|█▌        | 72/470 [00:13<01:07,  5.89it/s]"
     ]
    },
    {
     "name": "stdout",
     "output_type": "stream",
     "text": [
      "\n",
      "image 1/1 d:\\img_processing\\raw_images\\27623434-b91b-4728-8ee3-aa9cf602017f.jpg: 640x480 1 mupi, 58.9ms\n",
      "Speed: 1.6ms preprocess, 58.9ms inference, 0.8ms postprocess per image at shape (1, 3, 640, 480)\n"
     ]
    },
    {
     "name": "stderr",
     "output_type": "stream",
     "text": [
      " 16%|█▌        | 73/470 [00:13<01:11,  5.56it/s]"
     ]
    },
    {
     "name": "stdout",
     "output_type": "stream",
     "text": [
      "\n",
      "image 1/1 d:\\img_processing\\raw_images\\2774539f-a910-4d0f-ad7d-c2efda287d1c.jpg: 480x640 1 rectangle-wide-board, 68.4ms\n",
      "Speed: 1.7ms preprocess, 68.4ms inference, 1.1ms postprocess per image at shape (1, 3, 480, 640)\n"
     ]
    },
    {
     "name": "stderr",
     "output_type": "stream",
     "text": [
      " 16%|█▌        | 74/470 [00:13<01:16,  5.16it/s]"
     ]
    },
    {
     "name": "stdout",
     "output_type": "stream",
     "text": [
      "\n",
      "image 1/1 d:\\img_processing\\raw_images\\27b460f6-e061-4d52-9271-abeb848f5e92.jpg: 640x320 1 mupi, 51.3ms\n",
      "Speed: 1.6ms preprocess, 51.3ms inference, 1.2ms postprocess per image at shape (1, 3, 640, 320)\n"
     ]
    },
    {
     "name": "stderr",
     "output_type": "stream",
     "text": [
      " 16%|█▌        | 75/470 [00:14<01:17,  5.09it/s]"
     ]
    },
    {
     "name": "stdout",
     "output_type": "stream",
     "text": [
      "\n",
      "image 1/1 d:\\img_processing\\raw_images\\27f37a3b-e33f-440c-b3be-0191128aef3c.jpg: 640x320 1 mupi, 43.9ms\n",
      "Speed: 1.2ms preprocess, 43.9ms inference, 0.8ms postprocess per image at shape (1, 3, 640, 320)\n"
     ]
    },
    {
     "name": "stderr",
     "output_type": "stream",
     "text": [
      " 16%|█▌        | 76/470 [00:14<01:20,  4.87it/s]"
     ]
    },
    {
     "name": "stdout",
     "output_type": "stream",
     "text": [
      "\n",
      "image 1/1 d:\\img_processing\\raw_images\\2825cdeb-544b-4ec8-b04c-99d8e3b18174.jpg: 640x480 1 digital-board-medium, 58.0ms\n",
      "Speed: 1.6ms preprocess, 58.0ms inference, 0.7ms postprocess per image at shape (1, 3, 640, 480)\n"
     ]
    },
    {
     "name": "stderr",
     "output_type": "stream",
     "text": [
      " 16%|█▋        | 77/470 [00:14<01:19,  4.92it/s]"
     ]
    },
    {
     "name": "stdout",
     "output_type": "stream",
     "text": [
      "\n",
      "image 1/1 d:\\img_processing\\raw_images\\284d214c-3385-4143-a7c9-2d296fd3171e.jpg: 640x480 1 digital-board-big, 55.2ms\n",
      "Speed: 1.5ms preprocess, 55.2ms inference, 0.9ms postprocess per image at shape (1, 3, 640, 480)\n"
     ]
    },
    {
     "name": "stderr",
     "output_type": "stream",
     "text": [
      " 17%|█▋        | 78/470 [00:14<01:18,  5.02it/s]"
     ]
    },
    {
     "name": "stdout",
     "output_type": "stream",
     "text": [
      "\n",
      "image 1/1 d:\\img_processing\\raw_images\\287cbb2c-c977-4708-b746-dc74370a69bf.jpg: 640x320 (no detections), 42.9ms\n",
      "Speed: 1.3ms preprocess, 42.9ms inference, 0.5ms postprocess per image at shape (1, 3, 640, 320)\n",
      "\n",
      "image 1/1 d:\\img_processing\\raw_images\\294ccaeb-0392-49b8-a774-814cf0c12c3b.jpg: 640x320 1 mupi, 41.6ms\n",
      "Speed: 1.0ms preprocess, 41.6ms inference, 0.6ms postprocess per image at shape (1, 3, 640, 320)\n"
     ]
    },
    {
     "name": "stderr",
     "output_type": "stream",
     "text": [
      " 17%|█▋        | 80/470 [00:15<01:04,  6.06it/s]"
     ]
    },
    {
     "name": "stdout",
     "output_type": "stream",
     "text": [
      "\n",
      "image 1/1 d:\\img_processing\\raw_images\\29a6250f-788a-44be-bed3-dca276fb9cc6.jpg: 640x480 (no detections), 50.5ms\n",
      "Speed: 1.7ms preprocess, 50.5ms inference, 0.5ms postprocess per image at shape (1, 3, 640, 480)\n",
      "\n",
      "image 1/1 d:\\img_processing\\raw_images\\29fa0d1b-2e3d-49fe-a8b4-bf8c6b0c1a40.jpg: 640x480 1 poster, 52.5ms\n",
      "Speed: 1.4ms preprocess, 52.5ms inference, 0.9ms postprocess per image at shape (1, 3, 640, 480)\n"
     ]
    },
    {
     "name": "stderr",
     "output_type": "stream",
     "text": [
      " 17%|█▋        | 82/470 [00:15<01:10,  5.48it/s]"
     ]
    },
    {
     "name": "stdout",
     "output_type": "stream",
     "text": [
      "\n",
      "image 1/1 d:\\img_processing\\raw_images\\2aca89fa-8855-4f30-aafb-cf408ae3783d.jpg: 640x320 1 mupi, 42.2ms\n",
      "Speed: 1.3ms preprocess, 42.2ms inference, 0.9ms postprocess per image at shape (1, 3, 640, 320)\n"
     ]
    },
    {
     "name": "stderr",
     "output_type": "stream",
     "text": [
      " 18%|█▊        | 83/470 [00:15<01:09,  5.56it/s]"
     ]
    },
    {
     "name": "stdout",
     "output_type": "stream",
     "text": [
      "\n",
      "image 1/1 d:\\img_processing\\raw_images\\2cd20c74-c7ab-4e01-b21c-96d05972566b.jpg: 480x640 1 rectangle-wide-board, 55.1ms\n",
      "Speed: 1.8ms preprocess, 55.1ms inference, 1.0ms postprocess per image at shape (1, 3, 480, 640)\n"
     ]
    },
    {
     "name": "stderr",
     "output_type": "stream",
     "text": [
      " 18%|█▊        | 84/470 [00:15<01:12,  5.34it/s]"
     ]
    },
    {
     "name": "stdout",
     "output_type": "stream",
     "text": [
      "\n",
      "image 1/1 d:\\img_processing\\raw_images\\2ce4d995-c577-4717-8f60-8aabdd7895f8.jpg: 640x480 1 digital-board, 55.4ms\n",
      "Speed: 1.7ms preprocess, 55.4ms inference, 0.8ms postprocess per image at shape (1, 3, 640, 480)\n"
     ]
    },
    {
     "name": "stderr",
     "output_type": "stream",
     "text": [
      " 18%|█▊        | 85/470 [00:16<01:15,  5.08it/s]"
     ]
    },
    {
     "name": "stdout",
     "output_type": "stream",
     "text": [
      "\n",
      "image 1/1 d:\\img_processing\\raw_images\\2e48f81a-6c8b-4f2b-9e3d-88199f540292.jpg: 640x480 1 mupi, 60.0ms\n",
      "Speed: 1.4ms preprocess, 60.0ms inference, 0.9ms postprocess per image at shape (1, 3, 640, 480)\n"
     ]
    },
    {
     "name": "stderr",
     "output_type": "stream",
     "text": [
      " 18%|█▊        | 86/470 [00:16<01:15,  5.09it/s]"
     ]
    },
    {
     "name": "stdout",
     "output_type": "stream",
     "text": [
      "\n",
      "image 1/1 d:\\img_processing\\raw_images\\2f2e371a-17d9-48c4-a05a-308be50e019d.jpg: 640x480 (no detections), 55.7ms\n",
      "Speed: 1.5ms preprocess, 55.7ms inference, 0.5ms postprocess per image at shape (1, 3, 640, 480)\n",
      "\n",
      "image 1/1 d:\\img_processing\\raw_images\\2f5fee9d-c726-439f-b42b-1dba41264261.jpg: 640x480 1 digital-board, 53.1ms\n",
      "Speed: 1.6ms preprocess, 53.1ms inference, 1.1ms postprocess per image at shape (1, 3, 640, 480)\n"
     ]
    },
    {
     "name": "stderr",
     "output_type": "stream",
     "text": [
      " 19%|█▊        | 88/470 [00:16<01:04,  5.93it/s]"
     ]
    },
    {
     "name": "stdout",
     "output_type": "stream",
     "text": [
      "\n",
      "image 1/1 d:\\img_processing\\raw_images\\3064e17c-f238-406b-a3d4-d95299bd6dd9.jpg: 640x480 1 digital-board-medium, 56.5ms\n",
      "Speed: 1.7ms preprocess, 56.5ms inference, 0.8ms postprocess per image at shape (1, 3, 640, 480)\n"
     ]
    },
    {
     "name": "stderr",
     "output_type": "stream",
     "text": [
      " 19%|█▉        | 89/470 [00:16<01:12,  5.26it/s]"
     ]
    },
    {
     "name": "stdout",
     "output_type": "stream",
     "text": [
      "\n",
      "image 1/1 d:\\img_processing\\raw_images\\3074d355-a804-48dc-816f-7e259d4c1d8c.jpg: 640x480 1 digital-board, 63.5ms\n",
      "Speed: 1.8ms preprocess, 63.5ms inference, 0.8ms postprocess per image at shape (1, 3, 640, 480)\n"
     ]
    },
    {
     "name": "stderr",
     "output_type": "stream",
     "text": [
      " 19%|█▉        | 90/470 [00:17<01:13,  5.17it/s]"
     ]
    },
    {
     "name": "stdout",
     "output_type": "stream",
     "text": [
      "\n",
      "image 1/1 d:\\img_processing\\raw_images\\3144a59e-9512-4e78-8e37-6b073d54088f.jpg: 640x480 1 digital-board-medium, 57.4ms\n",
      "Speed: 1.8ms preprocess, 57.4ms inference, 1.1ms postprocess per image at shape (1, 3, 640, 480)\n"
     ]
    },
    {
     "name": "stderr",
     "output_type": "stream",
     "text": [
      " 19%|█▉        | 91/470 [00:17<01:14,  5.09it/s]"
     ]
    },
    {
     "name": "stdout",
     "output_type": "stream",
     "text": [
      "\n",
      "image 1/1 d:\\img_processing\\raw_images\\31716d54-90ad-4565-a4aa-d0aa55d63dcf.jpg: 640x480 1 mupi, 57.5ms\n",
      "Speed: 1.7ms preprocess, 57.5ms inference, 0.8ms postprocess per image at shape (1, 3, 640, 480)\n"
     ]
    },
    {
     "name": "stderr",
     "output_type": "stream",
     "text": [
      " 20%|█▉        | 92/470 [00:17<01:14,  5.05it/s]"
     ]
    },
    {
     "name": "stdout",
     "output_type": "stream",
     "text": [
      "\n",
      "image 1/1 d:\\img_processing\\raw_images\\31815c3c-eff6-41cd-864a-35183c3f30c7.jpg: 640x480 1 rectangle-wide-board, 61.4ms\n",
      "Speed: 1.9ms preprocess, 61.4ms inference, 1.0ms postprocess per image at shape (1, 3, 640, 480)\n"
     ]
    },
    {
     "name": "stderr",
     "output_type": "stream",
     "text": [
      " 20%|█▉        | 93/470 [00:17<01:20,  4.70it/s]"
     ]
    },
    {
     "name": "stdout",
     "output_type": "stream",
     "text": [
      "\n",
      "image 1/1 d:\\img_processing\\raw_images\\324146d4-2292-4f8c-866a-5d24e17304e6.jpg: 640x480 1 digital-board, 69.4ms\n",
      "Speed: 1.9ms preprocess, 69.4ms inference, 1.2ms postprocess per image at shape (1, 3, 640, 480)\n"
     ]
    },
    {
     "name": "stderr",
     "output_type": "stream",
     "text": [
      " 20%|██        | 94/470 [00:17<01:21,  4.64it/s]"
     ]
    },
    {
     "name": "stdout",
     "output_type": "stream",
     "text": [
      "\n",
      "image 1/1 d:\\img_processing\\raw_images\\3243b058-8036-4987-bc31-e2f1c75e485f.jpg: 640x480 1 digital-board, 54.8ms\n",
      "Speed: 1.7ms preprocess, 54.8ms inference, 1.5ms postprocess per image at shape (1, 3, 640, 480)\n"
     ]
    },
    {
     "name": "stderr",
     "output_type": "stream",
     "text": [
      " 20%|██        | 95/470 [00:18<01:18,  4.80it/s]"
     ]
    },
    {
     "name": "stdout",
     "output_type": "stream",
     "text": [
      "\n",
      "image 1/1 d:\\img_processing\\raw_images\\3269860f-8167-4d1c-a780-e3a625d3b42e.jpg: 640x480 1 mupi, 52.4ms\n",
      "Speed: 1.6ms preprocess, 52.4ms inference, 0.8ms postprocess per image at shape (1, 3, 640, 480)\n"
     ]
    },
    {
     "name": "stderr",
     "output_type": "stream",
     "text": [
      " 20%|██        | 96/470 [00:18<01:16,  4.88it/s]"
     ]
    },
    {
     "name": "stdout",
     "output_type": "stream",
     "text": [
      "\n",
      "image 1/1 d:\\img_processing\\raw_images\\32d8800f-52cd-4a96-b666-8325133cd4c8.jpg: 640x480 1 digital-board-medium, 56.4ms\n",
      "Speed: 1.7ms preprocess, 56.4ms inference, 0.9ms postprocess per image at shape (1, 3, 640, 480)\n"
     ]
    },
    {
     "name": "stderr",
     "output_type": "stream",
     "text": [
      " 21%|██        | 97/470 [00:18<01:16,  4.86it/s]"
     ]
    },
    {
     "name": "stdout",
     "output_type": "stream",
     "text": [
      "\n",
      "image 1/1 d:\\img_processing\\raw_images\\332e11ce-07f9-4db9-92a0-b14221473499.jpg: 640x480 1 rectangle-wide-board, 64.1ms\n",
      "Speed: 2.2ms preprocess, 64.1ms inference, 1.0ms postprocess per image at shape (1, 3, 640, 480)\n"
     ]
    },
    {
     "name": "stderr",
     "output_type": "stream",
     "text": [
      " 21%|██        | 98/470 [00:18<01:17,  4.82it/s]"
     ]
    },
    {
     "name": "stdout",
     "output_type": "stream",
     "text": [
      "\n",
      "image 1/1 d:\\img_processing\\raw_images\\33b6d407-bb16-4370-a15b-c946b7413434.jpg: 480x640 1 rectangle-wide-board, 55.1ms\n",
      "Speed: 1.6ms preprocess, 55.1ms inference, 0.8ms postprocess per image at shape (1, 3, 480, 640)\n"
     ]
    },
    {
     "name": "stderr",
     "output_type": "stream",
     "text": [
      " 21%|██        | 99/470 [00:18<01:15,  4.90it/s]"
     ]
    },
    {
     "name": "stdout",
     "output_type": "stream",
     "text": [
      "\n",
      "image 1/1 d:\\img_processing\\raw_images\\364b16d4-488c-4d3d-be3f-5a4386fb8c5c.jpg: 640x480 1 digital-board-medium, 53.9ms\n",
      "Speed: 1.6ms preprocess, 53.9ms inference, 0.8ms postprocess per image at shape (1, 3, 640, 480)\n"
     ]
    },
    {
     "name": "stderr",
     "output_type": "stream",
     "text": [
      " 21%|██▏       | 100/470 [00:19<01:14,  4.96it/s]"
     ]
    },
    {
     "name": "stdout",
     "output_type": "stream",
     "text": [
      "\n",
      "image 1/1 d:\\img_processing\\raw_images\\36561cd8-3f5d-4a8d-ba9f-b68345f3eccb.jpg: 640x480 1 rectangle-wide-board, 57.6ms\n",
      "Speed: 1.6ms preprocess, 57.6ms inference, 1.0ms postprocess per image at shape (1, 3, 640, 480)\n"
     ]
    },
    {
     "name": "stderr",
     "output_type": "stream",
     "text": [
      " 21%|██▏       | 101/470 [00:19<01:13,  5.02it/s]"
     ]
    },
    {
     "name": "stdout",
     "output_type": "stream",
     "text": [
      "\n",
      "image 1/1 d:\\img_processing\\raw_images\\38097428-17d2-43e6-9f25-b7d2bfd63b57.jpg: 640x480 1 mupi, 55.2ms\n",
      "Speed: 1.9ms preprocess, 55.2ms inference, 1.4ms postprocess per image at shape (1, 3, 640, 480)\n"
     ]
    },
    {
     "name": "stderr",
     "output_type": "stream",
     "text": [
      " 22%|██▏       | 102/470 [00:19<01:17,  4.78it/s]"
     ]
    },
    {
     "name": "stdout",
     "output_type": "stream",
     "text": [
      "\n",
      "image 1/1 d:\\img_processing\\raw_images\\38740043-4440-4cd8-9d3b-2c095da5a212.jpg: 640x480 1 digital-board, 70.3ms\n",
      "Speed: 1.5ms preprocess, 70.3ms inference, 0.9ms postprocess per image at shape (1, 3, 640, 480)\n"
     ]
    },
    {
     "name": "stderr",
     "output_type": "stream",
     "text": [
      " 22%|██▏       | 103/470 [00:19<01:17,  4.75it/s]"
     ]
    },
    {
     "name": "stdout",
     "output_type": "stream",
     "text": [
      "\n",
      "image 1/1 d:\\img_processing\\raw_images\\3888876d-c695-497b-8d67-8ead52cc9212.jpg: 640x480 1 poster, 58.1ms\n",
      "Speed: 1.5ms preprocess, 58.1ms inference, 0.8ms postprocess per image at shape (1, 3, 640, 480)\n"
     ]
    },
    {
     "name": "stderr",
     "output_type": "stream",
     "text": [
      " 22%|██▏       | 104/470 [00:19<01:19,  4.61it/s]"
     ]
    },
    {
     "name": "stdout",
     "output_type": "stream",
     "text": [
      "\n",
      "image 1/1 d:\\img_processing\\raw_images\\38aa9ca4-839c-48af-9124-eba273c35c9d.jpg: 640x480 1 mupi, 56.7ms\n",
      "Speed: 1.6ms preprocess, 56.7ms inference, 1.1ms postprocess per image at shape (1, 3, 640, 480)\n"
     ]
    },
    {
     "name": "stderr",
     "output_type": "stream",
     "text": [
      " 22%|██▏       | 105/470 [00:20<01:18,  4.62it/s]"
     ]
    },
    {
     "name": "stdout",
     "output_type": "stream",
     "text": [
      "\n",
      "image 1/1 d:\\img_processing\\raw_images\\393abd03-d1fd-4cde-a4fd-9e53455302ac.jpg: 640x480 1 mupi, 56.8ms\n",
      "Speed: 1.5ms preprocess, 56.8ms inference, 0.8ms postprocess per image at shape (1, 3, 640, 480)\n"
     ]
    },
    {
     "name": "stderr",
     "output_type": "stream",
     "text": [
      " 23%|██▎       | 106/470 [00:20<01:18,  4.67it/s]"
     ]
    },
    {
     "name": "stdout",
     "output_type": "stream",
     "text": [
      "\n",
      "image 1/1 d:\\img_processing\\raw_images\\3aa21f13-e09a-439d-b2d2-26626f847ace.jpg: 640x480 1 mupi, 59.8ms\n",
      "Speed: 1.5ms preprocess, 59.8ms inference, 0.9ms postprocess per image at shape (1, 3, 640, 480)\n"
     ]
    },
    {
     "name": "stderr",
     "output_type": "stream",
     "text": [
      " 23%|██▎       | 107/470 [00:20<01:17,  4.69it/s]"
     ]
    },
    {
     "name": "stdout",
     "output_type": "stream",
     "text": [
      "\n",
      "image 1/1 d:\\img_processing\\raw_images\\3b85a086-d06d-4da7-b239-1da362110011.jpg: 640x480 1 digital-board, 56.7ms\n",
      "Speed: 1.7ms preprocess, 56.7ms inference, 0.9ms postprocess per image at shape (1, 3, 640, 480)\n"
     ]
    },
    {
     "name": "stderr",
     "output_type": "stream",
     "text": [
      " 23%|██▎       | 108/470 [00:20<01:15,  4.81it/s]"
     ]
    },
    {
     "name": "stdout",
     "output_type": "stream",
     "text": [
      "\n",
      "image 1/1 d:\\img_processing\\raw_images\\3ba30fa0-88d4-4fd3-a4c4-4e01be8739d9.jpg: 640x480 1 poster, 59.7ms\n",
      "Speed: 1.7ms preprocess, 59.7ms inference, 1.1ms postprocess per image at shape (1, 3, 640, 480)\n"
     ]
    },
    {
     "name": "stderr",
     "output_type": "stream",
     "text": [
      " 23%|██▎       | 109/470 [00:21<01:23,  4.31it/s]"
     ]
    },
    {
     "name": "stdout",
     "output_type": "stream",
     "text": [
      "\n",
      "image 1/1 d:\\img_processing\\raw_images\\3bf3da04-1ea5-431f-a4ca-b4165499af7e.jpg: 640x480 1 poster, 55.8ms\n",
      "Speed: 1.6ms preprocess, 55.8ms inference, 0.8ms postprocess per image at shape (1, 3, 640, 480)\n"
     ]
    },
    {
     "name": "stderr",
     "output_type": "stream",
     "text": [
      " 23%|██▎       | 110/470 [00:21<01:28,  4.06it/s]"
     ]
    },
    {
     "name": "stdout",
     "output_type": "stream",
     "text": [
      "\n",
      "image 1/1 d:\\img_processing\\raw_images\\3bf534c0-f930-4699-86c3-afd42ac23b8c.jpg: 640x480 1 digital-board, 1 mupi, 57.0ms\n",
      "Speed: 1.9ms preprocess, 57.0ms inference, 0.8ms postprocess per image at shape (1, 3, 640, 480)\n"
     ]
    },
    {
     "name": "stderr",
     "output_type": "stream",
     "text": [
      " 24%|██▎       | 111/470 [00:21<01:38,  3.66it/s]"
     ]
    },
    {
     "name": "stdout",
     "output_type": "stream",
     "text": [
      "\n",
      "image 1/1 d:\\img_processing\\raw_images\\3c4b865b-0f14-4ff2-b679-0df2cd75b10c.jpg: 640x480 1 digital-board-medium, 65.8ms\n",
      "Speed: 1.7ms preprocess, 65.8ms inference, 1.2ms postprocess per image at shape (1, 3, 640, 480)\n"
     ]
    },
    {
     "name": "stderr",
     "output_type": "stream",
     "text": [
      " 24%|██▍       | 112/470 [00:21<01:32,  3.88it/s]"
     ]
    },
    {
     "name": "stdout",
     "output_type": "stream",
     "text": [
      "\n",
      "image 1/1 d:\\img_processing\\raw_images\\3cd96495-cbbc-47d5-8931-322538e32ea1.jpg: 640x320 1 mupi, 53.4ms\n",
      "Speed: 1.4ms preprocess, 53.4ms inference, 0.8ms postprocess per image at shape (1, 3, 640, 320)\n"
     ]
    },
    {
     "name": "stderr",
     "output_type": "stream",
     "text": [
      " 24%|██▍       | 113/470 [00:22<01:26,  4.14it/s]"
     ]
    },
    {
     "name": "stdout",
     "output_type": "stream",
     "text": [
      "\n",
      "image 1/1 d:\\img_processing\\raw_images\\3da7f954-062f-4422-9ff8-08b4b3ee6ec8.jpg: 640x480 1 digital-board, 62.1ms\n",
      "Speed: 1.8ms preprocess, 62.1ms inference, 0.7ms postprocess per image at shape (1, 3, 640, 480)\n"
     ]
    },
    {
     "name": "stderr",
     "output_type": "stream",
     "text": [
      " 24%|██▍       | 114/470 [00:22<01:21,  4.36it/s]"
     ]
    },
    {
     "name": "stdout",
     "output_type": "stream",
     "text": [
      "\n",
      "image 1/1 d:\\img_processing\\raw_images\\3f03ffa8-dd7b-4415-9af9-aa2630e53737.jpg: 640x480 1 poster, 58.5ms\n",
      "Speed: 1.6ms preprocess, 58.5ms inference, 1.0ms postprocess per image at shape (1, 3, 640, 480)\n"
     ]
    },
    {
     "name": "stderr",
     "output_type": "stream",
     "text": [
      " 24%|██▍       | 115/470 [00:22<01:21,  4.36it/s]"
     ]
    },
    {
     "name": "stdout",
     "output_type": "stream",
     "text": [
      "\n",
      "image 1/1 d:\\img_processing\\raw_images\\3fe81c5d-06c9-4c08-bf7f-8d8c7f67d454.jpg: 640x480 1 digital-board-medium, 56.9ms\n",
      "Speed: 1.5ms preprocess, 56.9ms inference, 0.9ms postprocess per image at shape (1, 3, 640, 480)\n"
     ]
    },
    {
     "name": "stderr",
     "output_type": "stream",
     "text": [
      " 25%|██▍       | 116/470 [00:22<01:19,  4.45it/s]"
     ]
    },
    {
     "name": "stdout",
     "output_type": "stream",
     "text": [
      "\n",
      "image 1/1 d:\\img_processing\\raw_images\\3fff33cc-c6fc-40e1-ab46-9128ad4277ce.jpg: 640x480 1 mupi, 58.8ms\n",
      "Speed: 1.7ms preprocess, 58.8ms inference, 1.0ms postprocess per image at shape (1, 3, 640, 480)\n"
     ]
    },
    {
     "name": "stderr",
     "output_type": "stream",
     "text": [
      " 25%|██▍       | 117/470 [00:22<01:18,  4.50it/s]"
     ]
    },
    {
     "name": "stdout",
     "output_type": "stream",
     "text": [
      "\n",
      "image 1/1 d:\\img_processing\\raw_images\\400ad1a6-9a5a-49e1-a382-3b651037decf.jpg: 640x480 1 poster, 60.7ms\n",
      "Speed: 1.5ms preprocess, 60.7ms inference, 0.9ms postprocess per image at shape (1, 3, 640, 480)\n"
     ]
    },
    {
     "name": "stderr",
     "output_type": "stream",
     "text": [
      " 25%|██▌       | 118/470 [00:23<01:16,  4.62it/s]"
     ]
    },
    {
     "name": "stdout",
     "output_type": "stream",
     "text": [
      "\n",
      "image 1/1 d:\\img_processing\\raw_images\\40db8d15-4a4c-4369-a7e3-0e06ca1671f7.jpg: 480x640 1 digital-board-big, 73.4ms\n",
      "Speed: 2.1ms preprocess, 73.4ms inference, 0.9ms postprocess per image at shape (1, 3, 480, 640)\n"
     ]
    },
    {
     "name": "stderr",
     "output_type": "stream",
     "text": [
      " 25%|██▌       | 119/470 [00:23<01:16,  4.57it/s]"
     ]
    },
    {
     "name": "stdout",
     "output_type": "stream",
     "text": [
      "\n",
      "image 1/1 d:\\img_processing\\raw_images\\42943d35-1873-4877-b165-57e7c3249b47.jpg: 640x320 1 mupi, 49.9ms\n",
      "Speed: 1.6ms preprocess, 49.9ms inference, 0.8ms postprocess per image at shape (1, 3, 640, 320)\n"
     ]
    },
    {
     "name": "stderr",
     "output_type": "stream",
     "text": [
      " 26%|██▌       | 120/470 [00:23<01:13,  4.73it/s]"
     ]
    },
    {
     "name": "stdout",
     "output_type": "stream",
     "text": [
      "\n",
      "image 1/1 d:\\img_processing\\raw_images\\438caec6-72a3-4163-b5fb-da53725c08c6.jpg: 640x320 1 mupi, 45.2ms\n",
      "Speed: 1.6ms preprocess, 45.2ms inference, 0.7ms postprocess per image at shape (1, 3, 640, 320)\n"
     ]
    },
    {
     "name": "stderr",
     "output_type": "stream",
     "text": [
      " 26%|██▌       | 121/470 [00:23<01:10,  4.95it/s]"
     ]
    },
    {
     "name": "stdout",
     "output_type": "stream",
     "text": [
      "\n",
      "image 1/1 d:\\img_processing\\raw_images\\446bbebd-1a53-4727-b908-6bd10eba6969.jpg: 640x480 1 poster, 58.4ms\n",
      "Speed: 1.5ms preprocess, 58.4ms inference, 0.8ms postprocess per image at shape (1, 3, 640, 480)\n"
     ]
    },
    {
     "name": "stderr",
     "output_type": "stream",
     "text": [
      " 26%|██▌       | 122/470 [00:24<01:17,  4.51it/s]"
     ]
    },
    {
     "name": "stdout",
     "output_type": "stream",
     "text": [
      "\n",
      "image 1/1 d:\\img_processing\\raw_images\\44df1bb4-9f72-4913-8090-50875985f8d1.jpg: 640x480 1 mupi, 57.9ms\n",
      "Speed: 1.5ms preprocess, 57.9ms inference, 0.8ms postprocess per image at shape (1, 3, 640, 480)\n"
     ]
    },
    {
     "name": "stderr",
     "output_type": "stream",
     "text": [
      " 26%|██▌       | 123/470 [00:24<01:20,  4.33it/s]"
     ]
    },
    {
     "name": "stdout",
     "output_type": "stream",
     "text": [
      "\n",
      "image 1/1 d:\\img_processing\\raw_images\\44e548d8-542c-4e1e-a44a-f717eb61adb9.jpg: 640x480 (no detections), 54.1ms\n",
      "Speed: 1.8ms preprocess, 54.1ms inference, 0.6ms postprocess per image at shape (1, 3, 640, 480)\n",
      "\n",
      "image 1/1 d:\\img_processing\\raw_images\\45b1c3cb-12d9-49b6-8eb2-2bcda4cd0584.jpg: 640x480 1 mupi, 49.9ms\n",
      "Speed: 1.7ms preprocess, 49.9ms inference, 0.8ms postprocess per image at shape (1, 3, 640, 480)\n"
     ]
    },
    {
     "name": "stderr",
     "output_type": "stream",
     "text": [
      " 27%|██▋       | 125/470 [00:24<01:03,  5.43it/s]"
     ]
    },
    {
     "name": "stdout",
     "output_type": "stream",
     "text": [
      "\n",
      "image 1/1 d:\\img_processing\\raw_images\\46d31a44-34b1-4a68-8ad1-c85472dc0af5.jpg: 640x480 (no detections), 60.2ms\n",
      "Speed: 1.7ms preprocess, 60.2ms inference, 0.6ms postprocess per image at shape (1, 3, 640, 480)\n",
      "\n",
      "image 1/1 d:\\img_processing\\raw_images\\481325e5-e48e-4784-a032-2f3a9eb2d3b7.jpg: 640x480 (no detections), 54.0ms\n",
      "Speed: 1.9ms preprocess, 54.0ms inference, 0.5ms postprocess per image at shape (1, 3, 640, 480)\n"
     ]
    },
    {
     "name": "stderr",
     "output_type": "stream",
     "text": [
      " 27%|██▋       | 127/470 [00:24<00:48,  7.10it/s]"
     ]
    },
    {
     "name": "stdout",
     "output_type": "stream",
     "text": [
      "\n",
      "image 1/1 d:\\img_processing\\raw_images\\48aea38f-5d08-4547-863b-77565b78f659.jpg: 640x480 1 mupi, 52.4ms\n",
      "Speed: 1.5ms preprocess, 52.4ms inference, 0.8ms postprocess per image at shape (1, 3, 640, 480)\n"
     ]
    },
    {
     "name": "stderr",
     "output_type": "stream",
     "text": [
      " 27%|██▋       | 128/470 [00:24<00:52,  6.52it/s]"
     ]
    },
    {
     "name": "stdout",
     "output_type": "stream",
     "text": [
      "\n",
      "image 1/1 d:\\img_processing\\raw_images\\49b36050-6c05-4584-8344-78167ea3385e.jpg: 640x480 1 mupi, 54.4ms\n",
      "Speed: 2.0ms preprocess, 54.4ms inference, 0.7ms postprocess per image at shape (1, 3, 640, 480)\n"
     ]
    },
    {
     "name": "stderr",
     "output_type": "stream",
     "text": [
      " 27%|██▋       | 129/470 [00:25<00:58,  5.79it/s]"
     ]
    },
    {
     "name": "stdout",
     "output_type": "stream",
     "text": [
      "\n",
      "image 1/1 d:\\img_processing\\raw_images\\49c7a1cd-a640-4cd9-9035-f07740b5e637.jpg: 640x480 1 digital-board-medium, 67.9ms\n",
      "Speed: 1.5ms preprocess, 67.9ms inference, 1.2ms postprocess per image at shape (1, 3, 640, 480)\n"
     ]
    },
    {
     "name": "stderr",
     "output_type": "stream",
     "text": [
      " 28%|██▊       | 130/470 [00:25<01:02,  5.41it/s]"
     ]
    },
    {
     "name": "stdout",
     "output_type": "stream",
     "text": [
      "\n",
      "image 1/1 d:\\img_processing\\raw_images\\49e1d1b8-f7e4-410a-aeae-3ce2eba5cbac.jpg: 640x480 1 poster, 62.8ms\n",
      "Speed: 1.8ms preprocess, 62.8ms inference, 1.0ms postprocess per image at shape (1, 3, 640, 480)\n"
     ]
    },
    {
     "name": "stderr",
     "output_type": "stream",
     "text": [
      " 28%|██▊       | 131/470 [00:25<01:16,  4.45it/s]"
     ]
    },
    {
     "name": "stdout",
     "output_type": "stream",
     "text": [
      "\n",
      "image 1/1 d:\\img_processing\\raw_images\\4a2d5c42-a9c3-40b6-aa63-a7d71b589949.jpg: 640x480 1 rectangle-wide-board, 58.9ms\n",
      "Speed: 1.6ms preprocess, 58.9ms inference, 0.8ms postprocess per image at shape (1, 3, 640, 480)\n"
     ]
    },
    {
     "name": "stderr",
     "output_type": "stream",
     "text": [
      " 28%|██▊       | 132/470 [00:25<01:15,  4.48it/s]"
     ]
    },
    {
     "name": "stdout",
     "output_type": "stream",
     "text": [
      "\n",
      "image 1/1 d:\\img_processing\\raw_images\\4a6a31de-c434-4386-bdb9-1b6b98e9bc64.jpg: 640x320 1 mupi, 47.5ms\n",
      "Speed: 1.3ms preprocess, 47.5ms inference, 1.1ms postprocess per image at shape (1, 3, 640, 320)\n"
     ]
    },
    {
     "name": "stderr",
     "output_type": "stream",
     "text": [
      " 28%|██▊       | 133/470 [00:26<01:13,  4.62it/s]"
     ]
    },
    {
     "name": "stdout",
     "output_type": "stream",
     "text": [
      "\n",
      "image 1/1 d:\\img_processing\\raw_images\\4a918a6e-d613-4114-bd6a-78676cb636e7.jpg: 640x480 2 digital-board-mediums, 58.4ms\n",
      "Speed: 2.1ms preprocess, 58.4ms inference, 1.4ms postprocess per image at shape (1, 3, 640, 480)\n"
     ]
    },
    {
     "name": "stderr",
     "output_type": "stream",
     "text": [
      " 29%|██▊       | 134/470 [00:26<01:21,  4.11it/s]"
     ]
    },
    {
     "name": "stdout",
     "output_type": "stream",
     "text": [
      "\n",
      "image 1/1 d:\\img_processing\\raw_images\\4b592d00-d8a2-4e43-a40b-4d558a33370f.jpg: 640x480 1 rectangle-wide-board, 56.8ms\n",
      "Speed: 2.3ms preprocess, 56.8ms inference, 0.9ms postprocess per image at shape (1, 3, 640, 480)\n"
     ]
    },
    {
     "name": "stderr",
     "output_type": "stream",
     "text": [
      " 29%|██▊       | 135/470 [00:26<01:17,  4.35it/s]"
     ]
    },
    {
     "name": "stdout",
     "output_type": "stream",
     "text": [
      "\n",
      "image 1/1 d:\\img_processing\\raw_images\\4bbe056e-2924-49e6-91b3-85f2d543555c.jpg: 640x320 1 mupi, 47.2ms\n",
      "Speed: 1.4ms preprocess, 47.2ms inference, 1.2ms postprocess per image at shape (1, 3, 640, 320)\n"
     ]
    },
    {
     "name": "stderr",
     "output_type": "stream",
     "text": [
      " 29%|██▉       | 136/470 [00:26<01:13,  4.56it/s]"
     ]
    },
    {
     "name": "stdout",
     "output_type": "stream",
     "text": [
      "\n",
      "image 1/1 d:\\img_processing\\raw_images\\4c607cba-10de-4c50-b377-95e49cb3f452.jpg: 640x480 1 digital-board, 55.1ms\n",
      "Speed: 1.4ms preprocess, 55.1ms inference, 0.7ms postprocess per image at shape (1, 3, 640, 480)\n"
     ]
    },
    {
     "name": "stderr",
     "output_type": "stream",
     "text": [
      " 29%|██▉       | 137/470 [00:27<01:11,  4.66it/s]"
     ]
    },
    {
     "name": "stdout",
     "output_type": "stream",
     "text": [
      "\n",
      "image 1/1 d:\\img_processing\\raw_images\\4c9a67b7-1b61-415b-ae26-7856fad72c23.jpg: 480x640 1 rectangle-wide-board, 62.2ms\n",
      "Speed: 1.8ms preprocess, 62.2ms inference, 0.8ms postprocess per image at shape (1, 3, 480, 640)\n"
     ]
    },
    {
     "name": "stderr",
     "output_type": "stream",
     "text": [
      " 29%|██▉       | 138/470 [00:27<01:11,  4.63it/s]"
     ]
    },
    {
     "name": "stdout",
     "output_type": "stream",
     "text": [
      "\n",
      "image 1/1 d:\\img_processing\\raw_images\\4c9a9bfd-e0d3-4768-a179-52c4fdb54fa7.jpg: 640x480 1 rectangle-wide-board, 83.3ms\n",
      "Speed: 2.1ms preprocess, 83.3ms inference, 0.9ms postprocess per image at shape (1, 3, 640, 480)\n"
     ]
    },
    {
     "name": "stderr",
     "output_type": "stream",
     "text": [
      " 30%|██▉       | 139/470 [00:27<01:12,  4.54it/s]"
     ]
    },
    {
     "name": "stdout",
     "output_type": "stream",
     "text": [
      "\n",
      "image 1/1 d:\\img_processing\\raw_images\\4cacc624-a6c5-4d20-86b6-b2f98dcef70f.jpg: 640x480 1 mupi, 58.1ms\n",
      "Speed: 1.9ms preprocess, 58.1ms inference, 0.9ms postprocess per image at shape (1, 3, 640, 480)\n"
     ]
    },
    {
     "name": "stderr",
     "output_type": "stream",
     "text": [
      " 30%|██▉       | 140/470 [00:27<01:11,  4.62it/s]"
     ]
    },
    {
     "name": "stdout",
     "output_type": "stream",
     "text": [
      "\n",
      "image 1/1 d:\\img_processing\\raw_images\\4cddc771-c096-461a-8392-156cce364743.jpg: 480x640 2 rectangle-wide-boards, 67.7ms\n",
      "Speed: 1.6ms preprocess, 67.7ms inference, 1.0ms postprocess per image at shape (1, 3, 480, 640)\n"
     ]
    },
    {
     "name": "stderr",
     "output_type": "stream",
     "text": [
      " 30%|███       | 141/470 [00:28<01:22,  3.98it/s]"
     ]
    },
    {
     "name": "stdout",
     "output_type": "stream",
     "text": [
      "\n",
      "image 1/1 d:\\img_processing\\raw_images\\4f49b1f2-b389-4315-b52b-7b618293003c.jpg: 640x480 1 digital-board-medium, 56.8ms\n",
      "Speed: 1.6ms preprocess, 56.8ms inference, 0.9ms postprocess per image at shape (1, 3, 640, 480)\n"
     ]
    },
    {
     "name": "stderr",
     "output_type": "stream",
     "text": [
      " 30%|███       | 142/470 [00:28<01:17,  4.22it/s]"
     ]
    },
    {
     "name": "stdout",
     "output_type": "stream",
     "text": [
      "\n",
      "image 1/1 d:\\img_processing\\raw_images\\4f54a38b-6a1d-4f44-bafe-c00be66cca08.jpg: 640x480 1 mupi, 65.2ms\n",
      "Speed: 1.6ms preprocess, 65.2ms inference, 1.0ms postprocess per image at shape (1, 3, 640, 480)\n"
     ]
    },
    {
     "name": "stderr",
     "output_type": "stream",
     "text": [
      " 30%|███       | 143/470 [00:28<01:15,  4.32it/s]"
     ]
    },
    {
     "name": "stdout",
     "output_type": "stream",
     "text": [
      "\n",
      "image 1/1 d:\\img_processing\\raw_images\\502e095e-38f0-4d4e-adc2-fac93214ec27.jpg: 640x320 1 mupi, 47.6ms\n",
      "Speed: 1.1ms preprocess, 47.6ms inference, 0.8ms postprocess per image at shape (1, 3, 640, 320)\n"
     ]
    },
    {
     "name": "stderr",
     "output_type": "stream",
     "text": [
      " 31%|███       | 144/470 [00:28<01:10,  4.61it/s]"
     ]
    },
    {
     "name": "stdout",
     "output_type": "stream",
     "text": [
      "\n",
      "image 1/1 d:\\img_processing\\raw_images\\5030fc62-ec6c-47ac-bace-54fa282660b7.jpg: 640x480 1 digital-board, 58.3ms\n",
      "Speed: 1.6ms preprocess, 58.3ms inference, 0.8ms postprocess per image at shape (1, 3, 640, 480)\n"
     ]
    },
    {
     "name": "stderr",
     "output_type": "stream",
     "text": [
      " 31%|███       | 145/470 [00:28<01:07,  4.78it/s]"
     ]
    },
    {
     "name": "stdout",
     "output_type": "stream",
     "text": [
      "\n",
      "image 1/1 d:\\img_processing\\raw_images\\5096d63d-9949-4179-aa98-65c4962120c1.jpg: 640x480 1 rectangle-wide-board, 57.6ms\n",
      "Speed: 1.4ms preprocess, 57.6ms inference, 1.0ms postprocess per image at shape (1, 3, 640, 480)\n"
     ]
    },
    {
     "name": "stderr",
     "output_type": "stream",
     "text": [
      " 31%|███       | 146/470 [00:28<01:06,  4.91it/s]"
     ]
    },
    {
     "name": "stdout",
     "output_type": "stream",
     "text": [
      "\n",
      "image 1/1 d:\\img_processing\\raw_images\\50cbde8b-c67e-4ec2-9972-d9687c7c1415.jpg: 640x480 2 rectangle-wide-boards, 54.0ms\n",
      "Speed: 1.8ms preprocess, 54.0ms inference, 0.9ms postprocess per image at shape (1, 3, 640, 480)\n"
     ]
    },
    {
     "name": "stderr",
     "output_type": "stream",
     "text": [
      " 31%|███▏      | 147/470 [00:29<01:20,  4.01it/s]"
     ]
    },
    {
     "name": "stdout",
     "output_type": "stream",
     "text": [
      "\n",
      "image 1/1 d:\\img_processing\\raw_images\\50fb2c24-65ac-4f08-9d1e-0c15a361c801.jpg: 640x320 1 mupi, 50.8ms\n",
      "Speed: 1.2ms preprocess, 50.8ms inference, 0.9ms postprocess per image at shape (1, 3, 640, 320)\n"
     ]
    },
    {
     "name": "stderr",
     "output_type": "stream",
     "text": [
      " 31%|███▏      | 148/470 [00:29<01:16,  4.21it/s]"
     ]
    },
    {
     "name": "stdout",
     "output_type": "stream",
     "text": [
      "\n",
      "image 1/1 d:\\img_processing\\raw_images\\51c5f062-eea5-44bc-a764-192a029b648e.jpg: 640x480 (no detections), 61.3ms\n",
      "Speed: 1.6ms preprocess, 61.3ms inference, 0.5ms postprocess per image at shape (1, 3, 640, 480)\n",
      "\n",
      "image 1/1 d:\\img_processing\\raw_images\\52032601-0320-4a08-850c-7e19b94230ae.jpg: 640x480 1 poster, 59.2ms\n",
      "Speed: 1.7ms preprocess, 59.2ms inference, 1.1ms postprocess per image at shape (1, 3, 640, 480)\n"
     ]
    },
    {
     "name": "stderr",
     "output_type": "stream",
     "text": [
      " 32%|███▏      | 150/470 [00:29<01:02,  5.10it/s]"
     ]
    },
    {
     "name": "stdout",
     "output_type": "stream",
     "text": [
      "\n",
      "image 1/1 d:\\img_processing\\raw_images\\52b5163f-9664-49f3-b923-944e5217fb05.jpg: 640x480 (no detections), 59.3ms\n",
      "Speed: 1.6ms preprocess, 59.3ms inference, 0.9ms postprocess per image at shape (1, 3, 640, 480)\n",
      "\n",
      "image 1/1 d:\\img_processing\\raw_images\\533f63ae-1dc3-49f1-916a-cd1f1e7bf0b5.jpg: 320x640 1 poster, 47.9ms\n",
      "Speed: 1.4ms preprocess, 47.9ms inference, 1.0ms postprocess per image at shape (1, 3, 320, 640)\n"
     ]
    },
    {
     "name": "stderr",
     "output_type": "stream",
     "text": [
      " 32%|███▏      | 152/470 [00:30<00:55,  5.75it/s]"
     ]
    },
    {
     "name": "stdout",
     "output_type": "stream",
     "text": [
      "\n",
      "image 1/1 d:\\img_processing\\raw_images\\53bd79db-0f6f-4b69-8684-05b9d4aece16.jpg: 640x480 1 mupi, 58.5ms\n",
      "Speed: 1.6ms preprocess, 58.5ms inference, 0.9ms postprocess per image at shape (1, 3, 640, 480)\n"
     ]
    },
    {
     "name": "stderr",
     "output_type": "stream",
     "text": [
      " 33%|███▎      | 153/470 [00:30<00:59,  5.36it/s]"
     ]
    },
    {
     "name": "stdout",
     "output_type": "stream",
     "text": [
      "\n",
      "image 1/1 d:\\img_processing\\raw_images\\53ef01e7-37bc-4870-8328-ef6edc4295f5.jpg: 640x480 1 digital-board-medium, 61.4ms\n",
      "Speed: 1.9ms preprocess, 61.4ms inference, 1.3ms postprocess per image at shape (1, 3, 640, 480)\n"
     ]
    },
    {
     "name": "stderr",
     "output_type": "stream",
     "text": [
      " 33%|███▎      | 154/470 [00:30<01:00,  5.21it/s]"
     ]
    },
    {
     "name": "stdout",
     "output_type": "stream",
     "text": [
      "\n",
      "image 1/1 d:\\img_processing\\raw_images\\53f5f7d8-0631-4eed-ac0e-2f3f5afd3cc3.jpg: 640x480 1 mupi, 59.5ms\n",
      "Speed: 1.5ms preprocess, 59.5ms inference, 1.1ms postprocess per image at shape (1, 3, 640, 480)\n"
     ]
    },
    {
     "name": "stderr",
     "output_type": "stream",
     "text": [
      " 33%|███▎      | 155/470 [00:30<01:02,  5.05it/s]"
     ]
    },
    {
     "name": "stdout",
     "output_type": "stream",
     "text": [
      "\n",
      "image 1/1 d:\\img_processing\\raw_images\\550b4518-82cf-475d-adb5-287871a62ae3.jpg: 640x480 1 rectangle-wide-board, 58.5ms\n",
      "Speed: 1.8ms preprocess, 58.5ms inference, 0.8ms postprocess per image at shape (1, 3, 640, 480)\n"
     ]
    },
    {
     "name": "stderr",
     "output_type": "stream",
     "text": [
      " 33%|███▎      | 156/470 [00:31<01:05,  4.80it/s]"
     ]
    },
    {
     "name": "stdout",
     "output_type": "stream",
     "text": [
      "\n",
      "image 1/1 d:\\img_processing\\raw_images\\558cca19-56b3-441c-bd17-2246d6ab4233.jpg: 640x320 1 mupi, 50.9ms\n",
      "Speed: 1.5ms preprocess, 50.9ms inference, 1.0ms postprocess per image at shape (1, 3, 640, 320)\n"
     ]
    },
    {
     "name": "stderr",
     "output_type": "stream",
     "text": [
      " 33%|███▎      | 157/470 [00:31<01:03,  4.93it/s]"
     ]
    },
    {
     "name": "stdout",
     "output_type": "stream",
     "text": [
      "\n",
      "image 1/1 d:\\img_processing\\raw_images\\55b03606-cb64-49bc-b0de-7ac60a6523df.jpg: 640x480 1 mupi, 70.2ms\n",
      "Speed: 1.5ms preprocess, 70.2ms inference, 1.0ms postprocess per image at shape (1, 3, 640, 480)\n"
     ]
    },
    {
     "name": "stderr",
     "output_type": "stream",
     "text": [
      " 34%|███▎      | 158/470 [00:31<01:05,  4.78it/s]"
     ]
    },
    {
     "name": "stdout",
     "output_type": "stream",
     "text": [
      "\n",
      "image 1/1 d:\\img_processing\\raw_images\\56168438-3530-49fc-b3b0-3c8fee4f19f7.jpg: 640x320 1 mupi, 49.9ms\n",
      "Speed: 1.3ms preprocess, 49.9ms inference, 0.8ms postprocess per image at shape (1, 3, 640, 320)\n"
     ]
    },
    {
     "name": "stderr",
     "output_type": "stream",
     "text": [
      " 34%|███▍      | 159/470 [00:31<01:04,  4.84it/s]"
     ]
    },
    {
     "name": "stdout",
     "output_type": "stream",
     "text": [
      "\n",
      "image 1/1 d:\\img_processing\\raw_images\\569b6ed4-5a0b-4a9d-8a9f-ee1a50fce01d.jpg: 640x480 1 rectangle-wide-board, 59.1ms\n",
      "Speed: 1.4ms preprocess, 59.1ms inference, 0.8ms postprocess per image at shape (1, 3, 640, 480)\n"
     ]
    },
    {
     "name": "stderr",
     "output_type": "stream",
     "text": [
      " 34%|███▍      | 160/470 [00:31<01:04,  4.80it/s]"
     ]
    },
    {
     "name": "stdout",
     "output_type": "stream",
     "text": [
      "\n",
      "image 1/1 d:\\img_processing\\raw_images\\56a615c9-cdb6-4bcd-8541-c0e19b4a9176.jpg: 640x480 1 rectangle-wide-board, 57.9ms\n",
      "Speed: 1.9ms preprocess, 57.9ms inference, 1.1ms postprocess per image at shape (1, 3, 640, 480)\n"
     ]
    },
    {
     "name": "stderr",
     "output_type": "stream",
     "text": [
      " 34%|███▍      | 161/470 [00:32<01:04,  4.83it/s]"
     ]
    },
    {
     "name": "stdout",
     "output_type": "stream",
     "text": [
      "\n",
      "image 1/1 d:\\img_processing\\raw_images\\5730e05d-dc07-4738-aedb-04de77bf26e2.jpg: 640x480 1 mupi, 65.4ms\n",
      "Speed: 1.7ms preprocess, 65.4ms inference, 1.0ms postprocess per image at shape (1, 3, 640, 480)\n"
     ]
    },
    {
     "name": "stderr",
     "output_type": "stream",
     "text": [
      " 34%|███▍      | 162/470 [00:32<01:04,  4.81it/s]"
     ]
    },
    {
     "name": "stdout",
     "output_type": "stream",
     "text": [
      "\n",
      "image 1/1 d:\\img_processing\\raw_images\\57a102e7-f696-4c10-8697-451eed8fc1cc.jpg: 640x480 1 digital-board-medium, 61.6ms\n",
      "Speed: 1.7ms preprocess, 61.6ms inference, 0.9ms postprocess per image at shape (1, 3, 640, 480)\n"
     ]
    },
    {
     "name": "stderr",
     "output_type": "stream",
     "text": [
      " 35%|███▍      | 163/470 [00:32<01:04,  4.75it/s]"
     ]
    },
    {
     "name": "stdout",
     "output_type": "stream",
     "text": [
      "\n",
      "image 1/1 d:\\img_processing\\raw_images\\59064e30-b1e3-444c-aa9d-7c828e2e4592.jpg: 640x480 1 mupi, 66.6ms\n",
      "Speed: 1.6ms preprocess, 66.6ms inference, 1.2ms postprocess per image at shape (1, 3, 640, 480)\n"
     ]
    },
    {
     "name": "stderr",
     "output_type": "stream",
     "text": [
      " 35%|███▍      | 164/470 [00:32<01:09,  4.40it/s]"
     ]
    },
    {
     "name": "stdout",
     "output_type": "stream",
     "text": [
      "\n",
      "image 1/1 d:\\img_processing\\raw_images\\59bce6ea-f9a9-4314-b660-2a41a23eb800.jpg: 640x480 1 digital-board, 58.5ms\n",
      "Speed: 1.7ms preprocess, 58.5ms inference, 0.9ms postprocess per image at shape (1, 3, 640, 480)\n"
     ]
    },
    {
     "name": "stderr",
     "output_type": "stream",
     "text": [
      " 35%|███▌      | 165/470 [00:32<01:08,  4.46it/s]"
     ]
    },
    {
     "name": "stdout",
     "output_type": "stream",
     "text": [
      "\n",
      "image 1/1 d:\\img_processing\\raw_images\\59fd0276-a33f-4e8b-8f89-41b85e1e34d2.jpg: 640x480 1 poster, 60.4ms\n",
      "Speed: 2.2ms preprocess, 60.4ms inference, 0.8ms postprocess per image at shape (1, 3, 640, 480)\n"
     ]
    },
    {
     "name": "stderr",
     "output_type": "stream",
     "text": [
      " 35%|███▌      | 166/470 [00:33<01:10,  4.34it/s]"
     ]
    },
    {
     "name": "stdout",
     "output_type": "stream",
     "text": [
      "\n",
      "image 1/1 d:\\img_processing\\raw_images\\5a3eeba4-d361-4da9-9911-fb66412e98a4.jpg: 640x480 1 mupi, 68.6ms\n",
      "Speed: 2.0ms preprocess, 68.6ms inference, 1.0ms postprocess per image at shape (1, 3, 640, 480)\n"
     ]
    },
    {
     "name": "stderr",
     "output_type": "stream",
     "text": [
      " 36%|███▌      | 167/470 [00:33<01:08,  4.45it/s]"
     ]
    },
    {
     "name": "stdout",
     "output_type": "stream",
     "text": [
      "\n",
      "image 1/1 d:\\img_processing\\raw_images\\5acc168f-ecd8-4b75-a099-ecc02ab9ac72.jpg: 640x480 (no detections), 56.0ms\n",
      "Speed: 1.7ms preprocess, 56.0ms inference, 0.6ms postprocess per image at shape (1, 3, 640, 480)\n",
      "\n",
      "image 1/1 d:\\img_processing\\raw_images\\5ad9108b-d002-4d4a-afa0-d1018f461086.jpg: 640x480 (no detections), 53.9ms\n",
      "Speed: 1.7ms preprocess, 53.9ms inference, 0.6ms postprocess per image at shape (1, 3, 640, 480)\n"
     ]
    },
    {
     "name": "stderr",
     "output_type": "stream",
     "text": [
      " 36%|███▌      | 169/470 [00:33<00:46,  6.46it/s]"
     ]
    },
    {
     "name": "stdout",
     "output_type": "stream",
     "text": [
      "\n",
      "image 1/1 d:\\img_processing\\raw_images\\5cccaf30-28e2-4a84-93a1-22877cdab3fa.jpg: 640x320 (no detections), 49.6ms\n",
      "Speed: 1.2ms preprocess, 49.6ms inference, 0.5ms postprocess per image at shape (1, 3, 640, 320)\n",
      "\n",
      "image 1/1 d:\\img_processing\\raw_images\\5d1860d2-3857-41bb-bfbc-f860a82937c6.jpg: 640x320 1 mupi, 49.1ms\n",
      "Speed: 1.3ms preprocess, 49.1ms inference, 0.7ms postprocess per image at shape (1, 3, 640, 320)\n"
     ]
    },
    {
     "name": "stderr",
     "output_type": "stream",
     "text": [
      " 36%|███▋      | 171/470 [00:33<00:42,  6.96it/s]"
     ]
    },
    {
     "name": "stdout",
     "output_type": "stream",
     "text": [
      "\n",
      "image 1/1 d:\\img_processing\\raw_images\\5d197315-f328-4bf0-bdd0-84ee3ac3fe99.jpg: 640x480 1 mupi, 55.1ms\n",
      "Speed: 1.6ms preprocess, 55.1ms inference, 0.8ms postprocess per image at shape (1, 3, 640, 480)\n"
     ]
    },
    {
     "name": "stderr",
     "output_type": "stream",
     "text": [
      " 37%|███▋      | 172/470 [00:34<00:47,  6.28it/s]"
     ]
    },
    {
     "name": "stdout",
     "output_type": "stream",
     "text": [
      "\n",
      "image 1/1 d:\\img_processing\\raw_images\\5d34248a-1e8d-4316-874e-f49279e5e037.jpg: 640x480 1 mupi, 60.1ms\n",
      "Speed: 1.6ms preprocess, 60.1ms inference, 0.8ms postprocess per image at shape (1, 3, 640, 480)\n"
     ]
    },
    {
     "name": "stderr",
     "output_type": "stream",
     "text": [
      " 37%|███▋      | 173/470 [00:34<00:50,  5.83it/s]"
     ]
    },
    {
     "name": "stdout",
     "output_type": "stream",
     "text": [
      "\n",
      "image 1/1 d:\\img_processing\\raw_images\\5dfda1a3-dcaa-412c-a94b-938134f2aa9d.jpg: 640x480 (no detections), 59.2ms\n",
      "Speed: 1.6ms preprocess, 59.2ms inference, 0.8ms postprocess per image at shape (1, 3, 640, 480)\n",
      "\n",
      "image 1/1 d:\\img_processing\\raw_images\\5fc52950-0408-49f8-8656-6b16512a87b6.jpg: 640x480 (no detections), 57.0ms\n",
      "Speed: 1.8ms preprocess, 57.0ms inference, 0.6ms postprocess per image at shape (1, 3, 640, 480)\n"
     ]
    },
    {
     "name": "stderr",
     "output_type": "stream",
     "text": [
      " 37%|███▋      | 175/470 [00:34<00:39,  7.51it/s]"
     ]
    },
    {
     "name": "stdout",
     "output_type": "stream",
     "text": [
      "\n",
      "image 1/1 d:\\img_processing\\raw_images\\6068b3bb-420b-4910-a362-6e01a4f01785.jpg: 640x320 1 mupi, 49.5ms\n",
      "Speed: 1.3ms preprocess, 49.5ms inference, 0.7ms postprocess per image at shape (1, 3, 640, 320)\n"
     ]
    },
    {
     "name": "stderr",
     "output_type": "stream",
     "text": [
      " 37%|███▋      | 176/470 [00:34<00:42,  6.92it/s]"
     ]
    },
    {
     "name": "stdout",
     "output_type": "stream",
     "text": [
      "\n",
      "image 1/1 d:\\img_processing\\raw_images\\6135d731-7242-4fd3-aba0-991455a66cf2.jpg: 640x480 1 digital-board, 53.0ms\n",
      "Speed: 1.7ms preprocess, 53.0ms inference, 0.8ms postprocess per image at shape (1, 3, 640, 480)\n"
     ]
    },
    {
     "name": "stderr",
     "output_type": "stream",
     "text": [
      " 38%|███▊      | 177/470 [00:34<00:46,  6.35it/s]"
     ]
    },
    {
     "name": "stdout",
     "output_type": "stream",
     "text": [
      "\n",
      "image 1/1 d:\\img_processing\\raw_images\\6244f55e-17e3-4e85-9ef3-ed4b81c2205f.jpg: 640x480 1 digital-board-medium, 53.9ms\n",
      "Speed: 1.5ms preprocess, 53.9ms inference, 0.8ms postprocess per image at shape (1, 3, 640, 480)\n"
     ]
    },
    {
     "name": "stderr",
     "output_type": "stream",
     "text": [
      " 38%|███▊      | 178/470 [00:35<00:51,  5.67it/s]"
     ]
    },
    {
     "name": "stdout",
     "output_type": "stream",
     "text": [
      "\n",
      "image 1/1 d:\\img_processing\\raw_images\\6311f730-d60d-4531-86cc-fa0be28bfabd.jpg: 640x480 1 mupi, 59.3ms\n",
      "Speed: 1.7ms preprocess, 59.3ms inference, 0.8ms postprocess per image at shape (1, 3, 640, 480)\n"
     ]
    },
    {
     "name": "stderr",
     "output_type": "stream",
     "text": [
      " 38%|███▊      | 179/470 [00:35<00:53,  5.42it/s]"
     ]
    },
    {
     "name": "stdout",
     "output_type": "stream",
     "text": [
      "\n",
      "image 1/1 d:\\img_processing\\raw_images\\631a44e8-c89c-4147-b943-7d3bc59f2f65.jpg: 640x480 1 mupi, 56.9ms\n",
      "Speed: 1.7ms preprocess, 56.9ms inference, 0.9ms postprocess per image at shape (1, 3, 640, 480)\n"
     ]
    },
    {
     "name": "stderr",
     "output_type": "stream",
     "text": [
      " 38%|███▊      | 180/470 [00:35<00:54,  5.28it/s]"
     ]
    },
    {
     "name": "stdout",
     "output_type": "stream",
     "text": [
      "\n",
      "image 1/1 d:\\img_processing\\raw_images\\632aed8b-1897-4fc1-9148-c975a40d970f.jpg: 640x480 1 mupi, 57.5ms\n",
      "Speed: 1.5ms preprocess, 57.5ms inference, 1.0ms postprocess per image at shape (1, 3, 640, 480)\n"
     ]
    },
    {
     "name": "stderr",
     "output_type": "stream",
     "text": [
      " 39%|███▊      | 181/470 [00:35<00:56,  5.09it/s]"
     ]
    },
    {
     "name": "stdout",
     "output_type": "stream",
     "text": [
      "\n",
      "image 1/1 d:\\img_processing\\raw_images\\63e6a312-bebb-4251-96ac-ffce5980b693.jpg: 640x480 1 mupi, 55.5ms\n",
      "Speed: 1.6ms preprocess, 55.5ms inference, 0.7ms postprocess per image at shape (1, 3, 640, 480)\n"
     ]
    },
    {
     "name": "stderr",
     "output_type": "stream",
     "text": [
      " 39%|███▊      | 182/470 [00:35<00:58,  4.90it/s]"
     ]
    },
    {
     "name": "stdout",
     "output_type": "stream",
     "text": [
      "\n",
      "image 1/1 d:\\img_processing\\raw_images\\641d7cce-86d5-428b-a464-38b51ebc005d.jpg: 640x480 1 rectangle-wide-board, 63.0ms\n",
      "Speed: 1.8ms preprocess, 63.0ms inference, 1.5ms postprocess per image at shape (1, 3, 640, 480)\n"
     ]
    },
    {
     "name": "stderr",
     "output_type": "stream",
     "text": [
      " 39%|███▉      | 183/470 [00:36<00:59,  4.84it/s]"
     ]
    },
    {
     "name": "stdout",
     "output_type": "stream",
     "text": [
      "\n",
      "image 1/1 d:\\img_processing\\raw_images\\64df70f7-22b1-4635-b336-bec15a2bb398.jpg: 640x320 1 mupi, 51.1ms\n",
      "Speed: 1.2ms preprocess, 51.1ms inference, 0.6ms postprocess per image at shape (1, 3, 640, 320)\n"
     ]
    },
    {
     "name": "stderr",
     "output_type": "stream",
     "text": [
      " 39%|███▉      | 184/470 [00:36<01:00,  4.70it/s]"
     ]
    },
    {
     "name": "stdout",
     "output_type": "stream",
     "text": [
      "\n",
      "image 1/1 d:\\img_processing\\raw_images\\6545af79-f2b9-4e33-9efd-8f893dff6daf.jpg: 640x480 1 rectangle-wide-board, 61.5ms\n",
      "Speed: 2.0ms preprocess, 61.5ms inference, 1.1ms postprocess per image at shape (1, 3, 640, 480)\n"
     ]
    },
    {
     "name": "stderr",
     "output_type": "stream",
     "text": [
      " 39%|███▉      | 185/470 [00:36<00:59,  4.78it/s]"
     ]
    },
    {
     "name": "stdout",
     "output_type": "stream",
     "text": [
      "\n",
      "image 1/1 d:\\img_processing\\raw_images\\6584e63d-7a91-4646-93d6-c8be6bc3dc90.jpg: 640x480 1 mupi, 57.0ms\n",
      "Speed: 1.6ms preprocess, 57.0ms inference, 0.9ms postprocess per image at shape (1, 3, 640, 480)\n"
     ]
    },
    {
     "name": "stderr",
     "output_type": "stream",
     "text": [
      " 40%|███▉      | 186/470 [00:36<01:01,  4.60it/s]"
     ]
    },
    {
     "name": "stdout",
     "output_type": "stream",
     "text": [
      "\n",
      "image 1/1 d:\\img_processing\\raw_images\\65b8d309-089b-461f-aaab-3f83de39c523.jpg: 640x480 1 mupi, 55.2ms\n",
      "Speed: 1.5ms preprocess, 55.2ms inference, 1.0ms postprocess per image at shape (1, 3, 640, 480)\n"
     ]
    },
    {
     "name": "stderr",
     "output_type": "stream",
     "text": [
      " 40%|███▉      | 187/470 [00:36<01:00,  4.71it/s]"
     ]
    },
    {
     "name": "stdout",
     "output_type": "stream",
     "text": [
      "\n",
      "image 1/1 d:\\img_processing\\raw_images\\65c12574-670d-4f75-8a26-ecf5eca81382.jpg: 640x480 1 mupi, 53.8ms\n",
      "Speed: 1.7ms preprocess, 53.8ms inference, 0.8ms postprocess per image at shape (1, 3, 640, 480)\n"
     ]
    },
    {
     "name": "stderr",
     "output_type": "stream",
     "text": [
      " 40%|████      | 188/470 [00:37<00:58,  4.82it/s]"
     ]
    },
    {
     "name": "stdout",
     "output_type": "stream",
     "text": [
      "\n",
      "image 1/1 d:\\img_processing\\raw_images\\662147f7-c939-4de6-8af8-b4a8b5fabf57.jpg: 640x480 1 rectangle-wide-board, 60.9ms\n",
      "Speed: 1.6ms preprocess, 60.9ms inference, 1.1ms postprocess per image at shape (1, 3, 640, 480)\n"
     ]
    },
    {
     "name": "stderr",
     "output_type": "stream",
     "text": [
      " 40%|████      | 189/470 [00:37<01:02,  4.49it/s]"
     ]
    },
    {
     "name": "stdout",
     "output_type": "stream",
     "text": [
      "\n",
      "image 1/1 d:\\img_processing\\raw_images\\66664f7a-1e49-4afb-bcfe-70919db4d586.jpg: 640x480 (no detections), 62.1ms\n",
      "Speed: 1.6ms preprocess, 62.1ms inference, 0.6ms postprocess per image at shape (1, 3, 640, 480)\n",
      "\n",
      "image 1/1 d:\\img_processing\\raw_images\\670ed671-e790-40b1-8b20-ad09dbfc2935.jpg: 640x480 1 mupi, 56.7ms\n",
      "Speed: 1.7ms preprocess, 56.7ms inference, 0.8ms postprocess per image at shape (1, 3, 640, 480)\n"
     ]
    },
    {
     "name": "stderr",
     "output_type": "stream",
     "text": [
      " 41%|████      | 191/470 [00:37<00:51,  5.44it/s]"
     ]
    },
    {
     "name": "stdout",
     "output_type": "stream",
     "text": [
      "\n",
      "image 1/1 d:\\img_processing\\raw_images\\674250bc-1f73-4aa0-8e83-19d9e96fad8d.jpg: 640x480 1 poster, 68.5ms\n",
      "Speed: 1.7ms preprocess, 68.5ms inference, 1.3ms postprocess per image at shape (1, 3, 640, 480)\n"
     ]
    },
    {
     "name": "stderr",
     "output_type": "stream",
     "text": [
      " 41%|████      | 192/470 [00:37<00:53,  5.20it/s]"
     ]
    },
    {
     "name": "stdout",
     "output_type": "stream",
     "text": [
      "\n",
      "image 1/1 d:\\img_processing\\raw_images\\6800c4b5-2600-495d-a3c9-c610bd63c8b6.jpg: 640x480 1 digital-board-medium, 67.8ms\n",
      "Speed: 1.5ms preprocess, 67.8ms inference, 0.8ms postprocess per image at shape (1, 3, 640, 480)\n"
     ]
    },
    {
     "name": "stderr",
     "output_type": "stream",
     "text": [
      " 41%|████      | 193/470 [00:38<00:57,  4.81it/s]"
     ]
    },
    {
     "name": "stdout",
     "output_type": "stream",
     "text": [
      "\n",
      "image 1/1 d:\\img_processing\\raw_images\\681b2d81-278f-4e9a-b768-cc7375895f0e.jpg: 640x480 1 digital-board, 70.3ms\n",
      "Speed: 1.6ms preprocess, 70.3ms inference, 1.0ms postprocess per image at shape (1, 3, 640, 480)\n"
     ]
    },
    {
     "name": "stderr",
     "output_type": "stream",
     "text": [
      " 41%|████▏     | 194/470 [00:38<00:58,  4.70it/s]"
     ]
    },
    {
     "name": "stdout",
     "output_type": "stream",
     "text": [
      "\n",
      "image 1/1 d:\\img_processing\\raw_images\\68218e4c-eaf8-4827-a42d-1a012e0ec06f.jpg: 640x480 1 mupi, 67.1ms\n",
      "Speed: 1.9ms preprocess, 67.1ms inference, 1.0ms postprocess per image at shape (1, 3, 640, 480)\n"
     ]
    },
    {
     "name": "stderr",
     "output_type": "stream",
     "text": [
      " 41%|████▏     | 195/470 [00:38<00:58,  4.69it/s]"
     ]
    },
    {
     "name": "stdout",
     "output_type": "stream",
     "text": [
      "\n",
      "image 1/1 d:\\img_processing\\raw_images\\68f1bd95-4226-49bf-86e6-96ec57f6baea.jpg: 640x480 1 rectangle-wide-board, 52.8ms\n",
      "Speed: 1.7ms preprocess, 52.8ms inference, 0.9ms postprocess per image at shape (1, 3, 640, 480)\n"
     ]
    },
    {
     "name": "stderr",
     "output_type": "stream",
     "text": [
      " 42%|████▏     | 196/470 [00:38<00:56,  4.87it/s]"
     ]
    },
    {
     "name": "stdout",
     "output_type": "stream",
     "text": [
      "\n",
      "image 1/1 d:\\img_processing\\raw_images\\69e8ed06-2ca0-4966-91d8-f5f7f9a2d1e6.jpg: 640x480 1 mupi, 56.7ms\n",
      "Speed: 1.7ms preprocess, 56.7ms inference, 1.0ms postprocess per image at shape (1, 3, 640, 480)\n"
     ]
    },
    {
     "name": "stderr",
     "output_type": "stream",
     "text": [
      " 42%|████▏     | 197/470 [00:39<00:58,  4.67it/s]"
     ]
    },
    {
     "name": "stdout",
     "output_type": "stream",
     "text": [
      "\n",
      "image 1/1 d:\\img_processing\\raw_images\\6ab07d19-6f42-41d6-9c17-25ecfe3fab22.jpg: 640x480 (no detections), 62.0ms\n",
      "Speed: 1.7ms preprocess, 62.0ms inference, 0.6ms postprocess per image at shape (1, 3, 640, 480)\n",
      "\n",
      "image 1/1 d:\\img_processing\\raw_images\\6bd7f74d-a959-4d82-9ea7-34b09eeb4bea.jpg: 640x480 1 digital-board, 63.5ms\n",
      "Speed: 1.5ms preprocess, 63.5ms inference, 0.9ms postprocess per image at shape (1, 3, 640, 480)\n"
     ]
    },
    {
     "name": "stderr",
     "output_type": "stream",
     "text": [
      " 42%|████▏     | 199/470 [00:39<00:48,  5.55it/s]"
     ]
    },
    {
     "name": "stdout",
     "output_type": "stream",
     "text": [
      "\n",
      "image 1/1 d:\\img_processing\\raw_images\\6c759f2b-ca72-4c2b-90bf-4a922dcf000d.jpg: 640x480 1 digital-board, 60.4ms\n",
      "Speed: 1.7ms preprocess, 60.4ms inference, 0.9ms postprocess per image at shape (1, 3, 640, 480)\n"
     ]
    },
    {
     "name": "stderr",
     "output_type": "stream",
     "text": [
      " 43%|████▎     | 200/470 [00:39<00:49,  5.48it/s]"
     ]
    },
    {
     "name": "stdout",
     "output_type": "stream",
     "text": [
      "\n",
      "image 1/1 d:\\img_processing\\raw_images\\6d125d3b-3c3d-4498-ae31-d6ea2ceb394a.jpg: 640x480 1 digital-board, 55.3ms\n",
      "Speed: 1.6ms preprocess, 55.3ms inference, 0.8ms postprocess per image at shape (1, 3, 640, 480)\n"
     ]
    },
    {
     "name": "stderr",
     "output_type": "stream",
     "text": [
      " 43%|████▎     | 201/470 [00:39<00:50,  5.30it/s]"
     ]
    },
    {
     "name": "stdout",
     "output_type": "stream",
     "text": [
      "\n",
      "image 1/1 d:\\img_processing\\raw_images\\6d1a1e0a-35f8-4f4e-9d72-d0df001dd838.jpg: 640x480 (no detections), 58.2ms\n",
      "Speed: 1.8ms preprocess, 58.2ms inference, 0.8ms postprocess per image at shape (1, 3, 640, 480)\n",
      "\n",
      "image 1/1 d:\\img_processing\\raw_images\\6d7e4d6c-9e7b-4419-a940-ef72d652f9c5.jpg: 640x320 1 poster, 51.0ms\n",
      "Speed: 1.3ms preprocess, 51.0ms inference, 1.2ms postprocess per image at shape (1, 3, 640, 320)\n"
     ]
    },
    {
     "name": "stderr",
     "output_type": "stream",
     "text": [
      " 43%|████▎     | 203/470 [00:39<00:44,  5.99it/s]"
     ]
    },
    {
     "name": "stdout",
     "output_type": "stream",
     "text": [
      "\n",
      "image 1/1 d:\\img_processing\\raw_images\\6dd91ebc-41ca-4d70-8196-e7b4817a87b4.jpg: 640x480 1 mupi, 61.1ms\n",
      "Speed: 1.6ms preprocess, 61.1ms inference, 0.8ms postprocess per image at shape (1, 3, 640, 480)\n"
     ]
    },
    {
     "name": "stderr",
     "output_type": "stream",
     "text": [
      " 43%|████▎     | 204/470 [00:40<00:46,  5.66it/s]"
     ]
    },
    {
     "name": "stdout",
     "output_type": "stream",
     "text": [
      "\n",
      "image 1/1 d:\\img_processing\\raw_images\\6f12358c-276f-4a9a-80a1-98cbb287cad5.jpg: 480x640 1 digital-board-big, 57.0ms\n",
      "Speed: 1.6ms preprocess, 57.0ms inference, 0.8ms postprocess per image at shape (1, 3, 480, 640)\n"
     ]
    },
    {
     "name": "stderr",
     "output_type": "stream",
     "text": [
      " 44%|████▎     | 205/470 [00:40<00:49,  5.38it/s]"
     ]
    },
    {
     "name": "stdout",
     "output_type": "stream",
     "text": [
      "\n",
      "image 1/1 d:\\img_processing\\raw_images\\7008b81c-9894-4c0b-b29e-6ae9fc5ce775.jpg: 640x480 1 digital-board-medium, 57.2ms\n",
      "Speed: 1.7ms preprocess, 57.2ms inference, 1.0ms postprocess per image at shape (1, 3, 640, 480)\n"
     ]
    },
    {
     "name": "stderr",
     "output_type": "stream",
     "text": [
      " 44%|████▍     | 206/470 [00:40<00:51,  5.16it/s]"
     ]
    },
    {
     "name": "stdout",
     "output_type": "stream",
     "text": [
      "\n",
      "image 1/1 d:\\img_processing\\raw_images\\7048ebe3-9c47-4865-b88a-d412c3ae8d12.jpg: 640x480 (no detections), 61.3ms\n",
      "Speed: 1.5ms preprocess, 61.3ms inference, 0.6ms postprocess per image at shape (1, 3, 640, 480)\n",
      "\n",
      "image 1/1 d:\\img_processing\\raw_images\\71e99f75-d42d-4c52-a818-a816fb8a6ba9.jpg: 640x480 1 mupi, 67.3ms\n",
      "Speed: 1.6ms preprocess, 67.3ms inference, 1.3ms postprocess per image at shape (1, 3, 640, 480)\n"
     ]
    },
    {
     "name": "stderr",
     "output_type": "stream",
     "text": [
      " 44%|████▍     | 208/470 [00:40<00:45,  5.70it/s]"
     ]
    },
    {
     "name": "stdout",
     "output_type": "stream",
     "text": [
      "\n",
      "image 1/1 d:\\img_processing\\raw_images\\723a228a-5ecf-41eb-a981-53203e9cdb85.jpg: 640x480 1 digital-board, 73.0ms\n",
      "Speed: 1.6ms preprocess, 73.0ms inference, 1.1ms postprocess per image at shape (1, 3, 640, 480)\n"
     ]
    },
    {
     "name": "stderr",
     "output_type": "stream",
     "text": [
      " 44%|████▍     | 209/470 [00:41<00:48,  5.35it/s]"
     ]
    },
    {
     "name": "stdout",
     "output_type": "stream",
     "text": [
      "\n",
      "image 1/1 d:\\img_processing\\raw_images\\73eeb345-a594-4905-8c7f-f041fb41ee19.jpg: 640x320 1 mupi, 50.9ms\n",
      "Speed: 1.3ms preprocess, 50.9ms inference, 0.9ms postprocess per image at shape (1, 3, 640, 320)\n"
     ]
    },
    {
     "name": "stderr",
     "output_type": "stream",
     "text": [
      " 45%|████▍     | 210/470 [00:41<00:48,  5.32it/s]"
     ]
    },
    {
     "name": "stdout",
     "output_type": "stream",
     "text": [
      "\n",
      "image 1/1 d:\\img_processing\\raw_images\\7592029f-458c-49f7-9b39-82d7ea4d2cd7.jpg: 640x480 1 digital-board, 61.8ms\n",
      "Speed: 1.7ms preprocess, 61.8ms inference, 0.8ms postprocess per image at shape (1, 3, 640, 480)\n"
     ]
    },
    {
     "name": "stderr",
     "output_type": "stream",
     "text": [
      " 45%|████▍     | 211/470 [00:41<00:49,  5.20it/s]"
     ]
    },
    {
     "name": "stdout",
     "output_type": "stream",
     "text": [
      "\n",
      "image 1/1 d:\\img_processing\\raw_images\\76d5e4b7-385f-48d2-97cb-7001e92178fc.jpg: 640x480 (no detections), 56.5ms\n",
      "Speed: 1.7ms preprocess, 56.5ms inference, 0.6ms postprocess per image at shape (1, 3, 640, 480)\n",
      "\n",
      "image 1/1 d:\\img_processing\\raw_images\\7741e79f-819e-443b-80f7-2c299871480f.jpg: 640x320 1 mupi, 48.1ms\n",
      "Speed: 1.2ms preprocess, 48.1ms inference, 1.0ms postprocess per image at shape (1, 3, 640, 320)\n"
     ]
    },
    {
     "name": "stderr",
     "output_type": "stream",
     "text": [
      " 45%|████▌     | 213/470 [00:41<00:43,  5.88it/s]"
     ]
    },
    {
     "name": "stdout",
     "output_type": "stream",
     "text": [
      "\n",
      "image 1/1 d:\\img_processing\\raw_images\\77467036-63f5-4185-abc2-213c113fd037.jpg: 640x480 1 digital-board, 62.9ms\n",
      "Speed: 1.5ms preprocess, 62.9ms inference, 1.2ms postprocess per image at shape (1, 3, 640, 480)\n"
     ]
    },
    {
     "name": "stderr",
     "output_type": "stream",
     "text": [
      " 46%|████▌     | 214/470 [00:42<00:47,  5.43it/s]"
     ]
    },
    {
     "name": "stdout",
     "output_type": "stream",
     "text": [
      "\n",
      "image 1/1 d:\\img_processing\\raw_images\\776651ce-2eb3-461f-acd9-ef6be7246b9e.jpg: 640x480 1 rectangle-wide-board, 59.5ms\n",
      "Speed: 2.1ms preprocess, 59.5ms inference, 0.8ms postprocess per image at shape (1, 3, 640, 480)\n"
     ]
    },
    {
     "name": "stderr",
     "output_type": "stream",
     "text": [
      " 46%|████▌     | 215/470 [00:42<00:49,  5.15it/s]"
     ]
    },
    {
     "name": "stdout",
     "output_type": "stream",
     "text": [
      "\n",
      "image 1/1 d:\\img_processing\\raw_images\\77b890a7-2739-46d6-a223-c3360bb074d2.jpg: 640x480 1 mupi, 51.8ms\n",
      "Speed: 1.7ms preprocess, 51.8ms inference, 0.8ms postprocess per image at shape (1, 3, 640, 480)\n"
     ]
    },
    {
     "name": "stderr",
     "output_type": "stream",
     "text": [
      " 46%|████▌     | 216/470 [00:42<00:49,  5.17it/s]"
     ]
    },
    {
     "name": "stdout",
     "output_type": "stream",
     "text": [
      "\n",
      "image 1/1 d:\\img_processing\\raw_images\\785fd03c-c67f-4983-8784-6fa14e514ca4.jpg: 640x320 1 mupi, 56.7ms\n",
      "Speed: 1.1ms preprocess, 56.7ms inference, 0.9ms postprocess per image at shape (1, 3, 640, 320)\n"
     ]
    },
    {
     "name": "stderr",
     "output_type": "stream",
     "text": [
      " 46%|████▌     | 217/470 [00:42<00:49,  5.12it/s]"
     ]
    },
    {
     "name": "stdout",
     "output_type": "stream",
     "text": [
      "\n",
      "image 1/1 d:\\img_processing\\raw_images\\789e48ac-8973-4675-8cfe-91e23e48ea99.jpg: 640x480 1 rectangle-wide-board, 55.7ms\n",
      "Speed: 1.7ms preprocess, 55.7ms inference, 0.8ms postprocess per image at shape (1, 3, 640, 480)\n"
     ]
    },
    {
     "name": "stderr",
     "output_type": "stream",
     "text": [
      " 46%|████▋     | 218/470 [00:42<00:49,  5.11it/s]"
     ]
    },
    {
     "name": "stdout",
     "output_type": "stream",
     "text": [
      "\n",
      "image 1/1 d:\\img_processing\\raw_images\\795350a3-db1a-46c1-87ad-9516936318a0.jpg: 640x480 1 digital-board-medium, 57.4ms\n",
      "Speed: 2.1ms preprocess, 57.4ms inference, 0.8ms postprocess per image at shape (1, 3, 640, 480)\n"
     ]
    },
    {
     "name": "stderr",
     "output_type": "stream",
     "text": [
      " 47%|████▋     | 219/470 [00:43<00:49,  5.10it/s]"
     ]
    },
    {
     "name": "stdout",
     "output_type": "stream",
     "text": [
      "\n",
      "image 1/1 d:\\img_processing\\raw_images\\7aea110f-4185-4a8f-a099-c5833bdef2cd.jpg: 640x480 1 rectangle-wide-board, 62.5ms\n",
      "Speed: 1.8ms preprocess, 62.5ms inference, 0.8ms postprocess per image at shape (1, 3, 640, 480)\n"
     ]
    },
    {
     "name": "stderr",
     "output_type": "stream",
     "text": [
      " 47%|████▋     | 220/470 [00:43<00:54,  4.61it/s]"
     ]
    },
    {
     "name": "stdout",
     "output_type": "stream",
     "text": [
      "\n",
      "image 1/1 d:\\img_processing\\raw_images\\7cd83652-a08f-43e2-8659-e07220c94a8d.jpg: 640x480 1 mupi, 63.5ms\n",
      "Speed: 1.5ms preprocess, 63.5ms inference, 1.0ms postprocess per image at shape (1, 3, 640, 480)\n"
     ]
    },
    {
     "name": "stderr",
     "output_type": "stream",
     "text": [
      " 47%|████▋     | 221/470 [00:43<00:56,  4.41it/s]"
     ]
    },
    {
     "name": "stdout",
     "output_type": "stream",
     "text": [
      "\n",
      "image 1/1 d:\\img_processing\\raw_images\\7ce54917-53be-4493-9f28-cc55f11a27bd.jpg: 640x480 1 rectangle-wide-board, 58.6ms\n",
      "Speed: 1.8ms preprocess, 58.6ms inference, 0.9ms postprocess per image at shape (1, 3, 640, 480)\n"
     ]
    },
    {
     "name": "stderr",
     "output_type": "stream",
     "text": [
      " 47%|████▋     | 222/470 [00:43<00:54,  4.54it/s]"
     ]
    },
    {
     "name": "stdout",
     "output_type": "stream",
     "text": [
      "\n",
      "image 1/1 d:\\img_processing\\raw_images\\7d1ca469-7d23-46cc-b832-40a0eded28e6.jpg: 640x480 (no detections), 61.9ms\n",
      "Speed: 2.0ms preprocess, 61.9ms inference, 0.6ms postprocess per image at shape (1, 3, 640, 480)\n",
      "\n",
      "image 1/1 d:\\img_processing\\raw_images\\7de8284d-b42b-4bfa-b307-3e2efc5684d6.jpg: 640x480 (no detections), 59.7ms\n",
      "Speed: 1.8ms preprocess, 59.7ms inference, 0.6ms postprocess per image at shape (1, 3, 640, 480)\n"
     ]
    },
    {
     "name": "stderr",
     "output_type": "stream",
     "text": [
      " 48%|████▊     | 224/470 [00:43<00:38,  6.42it/s]"
     ]
    },
    {
     "name": "stdout",
     "output_type": "stream",
     "text": [
      "\n",
      "image 1/1 d:\\img_processing\\raw_images\\7f5db6d8-5f23-4922-af89-d5ab3b6c5699.jpg: 640x480 1 mupi, 58.2ms\n",
      "Speed: 1.5ms preprocess, 58.2ms inference, 0.8ms postprocess per image at shape (1, 3, 640, 480)\n"
     ]
    },
    {
     "name": "stderr",
     "output_type": "stream",
     "text": [
      " 48%|████▊     | 225/470 [00:44<00:41,  5.89it/s]"
     ]
    },
    {
     "name": "stdout",
     "output_type": "stream",
     "text": [
      "\n",
      "image 1/1 d:\\img_processing\\raw_images\\8098e508-33a8-4eb5-8ec0-c01ea67e6419.jpg: 640x320 1 mupi, 49.4ms\n",
      "Speed: 1.2ms preprocess, 49.4ms inference, 1.0ms postprocess per image at shape (1, 3, 640, 320)\n"
     ]
    },
    {
     "name": "stderr",
     "output_type": "stream",
     "text": [
      " 48%|████▊     | 226/470 [00:44<00:42,  5.74it/s]"
     ]
    },
    {
     "name": "stdout",
     "output_type": "stream",
     "text": [
      "\n",
      "image 1/1 d:\\img_processing\\raw_images\\8125dee7-b85f-4716-beed-608bc48c3199.jpg: 640x480 1 rectangle-wide-board, 72.4ms\n",
      "Speed: 1.9ms preprocess, 72.4ms inference, 1.2ms postprocess per image at shape (1, 3, 640, 480)\n"
     ]
    },
    {
     "name": "stderr",
     "output_type": "stream",
     "text": [
      " 48%|████▊     | 227/470 [00:44<00:46,  5.18it/s]"
     ]
    },
    {
     "name": "stdout",
     "output_type": "stream",
     "text": [
      "\n",
      "image 1/1 d:\\img_processing\\raw_images\\81bc5a35-9990-49ac-b4fd-a82c03201728.jpg: 640x480 (no detections), 54.8ms\n",
      "Speed: 1.7ms preprocess, 54.8ms inference, 0.5ms postprocess per image at shape (1, 3, 640, 480)\n",
      "\n",
      "image 1/1 d:\\img_processing\\raw_images\\82b44ddd-377b-4463-8355-474c5f9e516b.jpg: 640x480 (no detections), 60.6ms\n",
      "Speed: 1.7ms preprocess, 60.6ms inference, 0.7ms postprocess per image at shape (1, 3, 640, 480)\n"
     ]
    },
    {
     "name": "stderr",
     "output_type": "stream",
     "text": [
      " 49%|████▊     | 229/470 [00:44<00:34,  7.04it/s]"
     ]
    },
    {
     "name": "stdout",
     "output_type": "stream",
     "text": [
      "\n",
      "image 1/1 d:\\img_processing\\raw_images\\82cd66e0-1d68-45b9-a733-f5f020e02b0f.jpg: 640x480 (no detections), 62.9ms\n",
      "Speed: 1.6ms preprocess, 62.9ms inference, 0.6ms postprocess per image at shape (1, 3, 640, 480)\n",
      "\n",
      "image 1/1 d:\\img_processing\\raw_images\\84325f6f-dd32-4fa7-baff-84880d6dec96.jpg: 640x480 1 digital-board-medium, 59.9ms\n",
      "Speed: 1.7ms preprocess, 59.9ms inference, 0.9ms postprocess per image at shape (1, 3, 640, 480)\n"
     ]
    },
    {
     "name": "stderr",
     "output_type": "stream",
     "text": [
      " 49%|████▉     | 231/470 [00:45<00:34,  6.89it/s]"
     ]
    },
    {
     "name": "stdout",
     "output_type": "stream",
     "text": [
      "\n",
      "image 1/1 d:\\img_processing\\raw_images\\856fa930-c4f2-40db-8cb9-db00e0135249.jpg: 640x320 1 mupi, 45.8ms\n",
      "Speed: 1.2ms preprocess, 45.8ms inference, 0.9ms postprocess per image at shape (1, 3, 640, 320)\n"
     ]
    },
    {
     "name": "stderr",
     "output_type": "stream",
     "text": [
      " 49%|████▉     | 232/470 [00:45<00:37,  6.39it/s]"
     ]
    },
    {
     "name": "stdout",
     "output_type": "stream",
     "text": [
      "\n",
      "image 1/1 d:\\img_processing\\raw_images\\85a9bb85-3d36-434d-9180-6f25b75927cb.jpg: 640x480 2 rectangle-wide-boards, 58.4ms\n",
      "Speed: 1.6ms preprocess, 58.4ms inference, 0.8ms postprocess per image at shape (1, 3, 640, 480)\n"
     ]
    },
    {
     "name": "stderr",
     "output_type": "stream",
     "text": [
      " 50%|████▉     | 233/470 [00:45<00:46,  5.12it/s]"
     ]
    },
    {
     "name": "stdout",
     "output_type": "stream",
     "text": [
      "\n",
      "image 1/1 d:\\img_processing\\raw_images\\86146753-cc46-4e5d-bba4-fb62120e587f.jpg: 640x480 1 digital-board-medium, 62.0ms\n",
      "Speed: 1.5ms preprocess, 62.0ms inference, 0.7ms postprocess per image at shape (1, 3, 640, 480)\n"
     ]
    },
    {
     "name": "stderr",
     "output_type": "stream",
     "text": [
      " 50%|████▉     | 234/470 [00:45<00:46,  5.09it/s]"
     ]
    },
    {
     "name": "stdout",
     "output_type": "stream",
     "text": [
      "\n",
      "image 1/1 d:\\img_processing\\raw_images\\86c97ae8-ba94-4ab3-9b23-42f0445cb82d.jpg: 640x480 (no detections), 65.2ms\n",
      "Speed: 1.6ms preprocess, 65.2ms inference, 0.6ms postprocess per image at shape (1, 3, 640, 480)\n",
      "\n",
      "image 1/1 d:\\img_processing\\raw_images\\88df726c-7c5e-4d45-a156-d0e5490c7204.jpg: 640x480 1 digital-board-medium, 56.8ms\n",
      "Speed: 1.5ms preprocess, 56.8ms inference, 0.9ms postprocess per image at shape (1, 3, 640, 480)\n"
     ]
    },
    {
     "name": "stderr",
     "output_type": "stream",
     "text": [
      " 50%|█████     | 236/470 [00:46<00:41,  5.71it/s]"
     ]
    },
    {
     "name": "stdout",
     "output_type": "stream",
     "text": [
      "\n",
      "image 1/1 d:\\img_processing\\raw_images\\8a1677c3-eb66-4c3d-9130-c42b7f6d5d45.jpg: 640x480 1 digital-board-medium, 61.3ms\n",
      "Speed: 1.7ms preprocess, 61.3ms inference, 0.7ms postprocess per image at shape (1, 3, 640, 480)\n"
     ]
    },
    {
     "name": "stderr",
     "output_type": "stream",
     "text": [
      " 50%|█████     | 237/470 [00:46<00:42,  5.45it/s]"
     ]
    },
    {
     "name": "stdout",
     "output_type": "stream",
     "text": [
      "\n",
      "image 1/1 d:\\img_processing\\raw_images\\8a3dcfe9-d03e-47f4-9b22-0f8787b0e050.jpg: 640x480 (no detections), 65.1ms\n",
      "Speed: 1.8ms preprocess, 65.1ms inference, 0.7ms postprocess per image at shape (1, 3, 640, 480)\n",
      "\n",
      "image 1/1 d:\\img_processing\\raw_images\\8a46c27e-2f12-407a-a0d5-c2d5451a61b2.jpg: 640x320 1 mupi, 48.3ms\n",
      "Speed: 2.0ms preprocess, 48.3ms inference, 0.7ms postprocess per image at shape (1, 3, 640, 320)\n"
     ]
    },
    {
     "name": "stderr",
     "output_type": "stream",
     "text": [
      " 51%|█████     | 239/470 [00:46<00:39,  5.80it/s]"
     ]
    },
    {
     "name": "stdout",
     "output_type": "stream",
     "text": [
      "\n",
      "image 1/1 d:\\img_processing\\raw_images\\8a965511-2740-4acf-8857-e21bea3d9513.jpg: 640x480 1 digital-board, 66.5ms\n",
      "Speed: 1.7ms preprocess, 66.5ms inference, 0.8ms postprocess per image at shape (1, 3, 640, 480)\n"
     ]
    },
    {
     "name": "stderr",
     "output_type": "stream",
     "text": [
      " 51%|█████     | 240/470 [00:46<00:41,  5.56it/s]"
     ]
    },
    {
     "name": "stdout",
     "output_type": "stream",
     "text": [
      "\n",
      "image 1/1 d:\\img_processing\\raw_images\\8b16c179-ea33-42d1-a477-814dbc031e02.jpg: 640x320 (no detections), 57.4ms\n",
      "Speed: 1.4ms preprocess, 57.4ms inference, 0.4ms postprocess per image at shape (1, 3, 640, 320)\n",
      "\n",
      "image 1/1 d:\\img_processing\\raw_images\\8b776b56-866b-4be4-b6aa-b5aa1634bfa3.jpg: 640x320 1 mupi, 54.9ms\n",
      "Speed: 1.4ms preprocess, 54.9ms inference, 1.2ms postprocess per image at shape (1, 3, 640, 320)\n"
     ]
    },
    {
     "name": "stderr",
     "output_type": "stream",
     "text": [
      " 51%|█████▏    | 242/470 [00:47<00:36,  6.23it/s]"
     ]
    },
    {
     "name": "stdout",
     "output_type": "stream",
     "text": [
      "\n",
      "image 1/1 d:\\img_processing\\raw_images\\8c3c451d-bbe2-4602-9747-a3e16c972ecf.jpg: 640x480 (no detections), 58.5ms\n",
      "Speed: 1.7ms preprocess, 58.5ms inference, 0.5ms postprocess per image at shape (1, 3, 640, 480)\n",
      "\n",
      "image 1/1 d:\\img_processing\\raw_images\\8c69220c-1b49-4859-8bb6-5b1804ef9409.jpg: 640x480 1 rectangle-wide-board, 53.8ms\n",
      "Speed: 1.6ms preprocess, 53.8ms inference, 1.0ms postprocess per image at shape (1, 3, 640, 480)\n"
     ]
    },
    {
     "name": "stderr",
     "output_type": "stream",
     "text": [
      " 52%|█████▏    | 244/470 [00:47<00:34,  6.62it/s]"
     ]
    },
    {
     "name": "stdout",
     "output_type": "stream",
     "text": [
      "\n",
      "image 1/1 d:\\img_processing\\raw_images\\8c69b8ec-8fdd-44e5-9fb9-893b86023a1d.jpg: 640x480 (no detections), 55.6ms\n",
      "Speed: 1.9ms preprocess, 55.6ms inference, 0.5ms postprocess per image at shape (1, 3, 640, 480)\n",
      "\n",
      "image 1/1 d:\\img_processing\\raw_images\\8c69ca9d-4d38-4320-a3aa-4356e62ba8ab.jpg: 640x480 1 rectangle-wide-board, 63.0ms\n",
      "Speed: 1.6ms preprocess, 63.0ms inference, 1.1ms postprocess per image at shape (1, 3, 640, 480)\n"
     ]
    },
    {
     "name": "stderr",
     "output_type": "stream",
     "text": [
      " 52%|█████▏    | 246/470 [00:47<00:32,  6.82it/s]"
     ]
    },
    {
     "name": "stdout",
     "output_type": "stream",
     "text": [
      "\n",
      "image 1/1 d:\\img_processing\\raw_images\\8d5a1b2b-bee8-4b30-8e5f-21f6d21abde3.jpg: 640x480 1 digital-board-medium, 58.4ms\n",
      "Speed: 1.8ms preprocess, 58.4ms inference, 0.8ms postprocess per image at shape (1, 3, 640, 480)\n"
     ]
    },
    {
     "name": "stderr",
     "output_type": "stream",
     "text": [
      " 53%|█████▎    | 247/470 [00:47<00:34,  6.37it/s]"
     ]
    },
    {
     "name": "stdout",
     "output_type": "stream",
     "text": [
      "\n",
      "image 1/1 d:\\img_processing\\raw_images\\8dba1162-5213-475b-beb4-55d45b1cfc86.jpg: 640x480 1 mupi, 59.5ms\n",
      "Speed: 1.8ms preprocess, 59.5ms inference, 0.7ms postprocess per image at shape (1, 3, 640, 480)\n"
     ]
    },
    {
     "name": "stderr",
     "output_type": "stream",
     "text": [
      " 53%|█████▎    | 248/470 [00:47<00:37,  5.98it/s]"
     ]
    },
    {
     "name": "stdout",
     "output_type": "stream",
     "text": [
      "\n",
      "image 1/1 d:\\img_processing\\raw_images\\8f0f8dd5-8517-4ca3-a248-2c467414b4d3.jpg: 640x480 1 digital-board, 58.2ms\n",
      "Speed: 1.5ms preprocess, 58.2ms inference, 0.9ms postprocess per image at shape (1, 3, 640, 480)\n"
     ]
    },
    {
     "name": "stderr",
     "output_type": "stream",
     "text": [
      " 53%|█████▎    | 249/470 [00:48<00:38,  5.74it/s]"
     ]
    },
    {
     "name": "stdout",
     "output_type": "stream",
     "text": [
      "\n",
      "image 1/1 d:\\img_processing\\raw_images\\8f52bab2-2750-4f2a-bbc6-7666eb2865b1.jpg: 640x480 1 poster, 66.0ms\n",
      "Speed: 1.6ms preprocess, 66.0ms inference, 1.0ms postprocess per image at shape (1, 3, 640, 480)\n"
     ]
    },
    {
     "name": "stderr",
     "output_type": "stream",
     "text": [
      " 53%|█████▎    | 250/470 [00:48<00:40,  5.46it/s]"
     ]
    },
    {
     "name": "stdout",
     "output_type": "stream",
     "text": [
      "\n",
      "image 1/1 d:\\img_processing\\raw_images\\8fa02d0e-0d3b-4698-8f79-9b3c375a3651.jpg: 640x480 1 mupi, 64.1ms\n",
      "Speed: 1.5ms preprocess, 64.1ms inference, 0.8ms postprocess per image at shape (1, 3, 640, 480)\n"
     ]
    },
    {
     "name": "stderr",
     "output_type": "stream",
     "text": [
      " 53%|█████▎    | 251/470 [00:48<00:44,  4.92it/s]"
     ]
    },
    {
     "name": "stdout",
     "output_type": "stream",
     "text": [
      "\n",
      "image 1/1 d:\\img_processing\\raw_images\\904c82d6-aeec-4bef-92c3-be4de27e991b.jpg: 640x480 1 digital-board, 1 mupi, 60.3ms\n",
      "Speed: 1.8ms preprocess, 60.3ms inference, 1.0ms postprocess per image at shape (1, 3, 640, 480)\n"
     ]
    },
    {
     "name": "stderr",
     "output_type": "stream",
     "text": [
      " 54%|█████▎    | 252/470 [00:48<00:50,  4.29it/s]"
     ]
    },
    {
     "name": "stdout",
     "output_type": "stream",
     "text": [
      "\n",
      "image 1/1 d:\\img_processing\\raw_images\\9056e0ee-c008-4a9b-a7f7-e4b575282ef9.jpg: 640x480 1 digital-board, 58.6ms\n",
      "Speed: 1.8ms preprocess, 58.6ms inference, 0.7ms postprocess per image at shape (1, 3, 640, 480)\n"
     ]
    },
    {
     "name": "stderr",
     "output_type": "stream",
     "text": [
      " 54%|█████▍    | 253/470 [00:49<00:48,  4.45it/s]"
     ]
    },
    {
     "name": "stdout",
     "output_type": "stream",
     "text": [
      "\n",
      "image 1/1 d:\\img_processing\\raw_images\\906af373-7c6e-4d7d-b08e-a2786ac97cac.jpg: 640x480 1 mupi, 64.0ms\n",
      "Speed: 2.0ms preprocess, 64.0ms inference, 0.8ms postprocess per image at shape (1, 3, 640, 480)\n"
     ]
    },
    {
     "name": "stderr",
     "output_type": "stream",
     "text": [
      " 54%|█████▍    | 254/470 [00:49<00:48,  4.50it/s]"
     ]
    },
    {
     "name": "stdout",
     "output_type": "stream",
     "text": [
      "\n",
      "image 1/1 d:\\img_processing\\raw_images\\913d54af-c7d9-44d8-9b3a-feb7b4bcc192.jpg: 640x480 1 mupi, 61.0ms\n",
      "Speed: 1.7ms preprocess, 61.0ms inference, 0.7ms postprocess per image at shape (1, 3, 640, 480)\n"
     ]
    },
    {
     "name": "stderr",
     "output_type": "stream",
     "text": [
      " 54%|█████▍    | 255/470 [00:49<00:46,  4.63it/s]"
     ]
    },
    {
     "name": "stdout",
     "output_type": "stream",
     "text": [
      "\n",
      "image 1/1 d:\\img_processing\\raw_images\\918602d0-8b9a-4ad3-b3e1-2c8d568dc18f.jpg: 640x480 1 mupi, 57.8ms\n",
      "Speed: 1.6ms preprocess, 57.8ms inference, 0.6ms postprocess per image at shape (1, 3, 640, 480)\n"
     ]
    },
    {
     "name": "stderr",
     "output_type": "stream",
     "text": [
      " 54%|█████▍    | 256/470 [00:49<00:48,  4.45it/s]"
     ]
    },
    {
     "name": "stdout",
     "output_type": "stream",
     "text": [
      "\n",
      "image 1/1 d:\\img_processing\\raw_images\\91d473a2-c752-452c-b08b-34ed26329fa0.jpg: 640x480 1 mupi, 59.0ms\n",
      "Speed: 1.7ms preprocess, 59.0ms inference, 0.8ms postprocess per image at shape (1, 3, 640, 480)\n"
     ]
    },
    {
     "name": "stderr",
     "output_type": "stream",
     "text": [
      " 55%|█████▍    | 257/470 [00:50<00:46,  4.60it/s]"
     ]
    },
    {
     "name": "stdout",
     "output_type": "stream",
     "text": [
      "\n",
      "image 1/1 d:\\img_processing\\raw_images\\91fed063-3044-46b3-9116-4adbc730aa89.jpg: 640x480 1 digital-board, 59.1ms\n",
      "Speed: 2.2ms preprocess, 59.1ms inference, 0.8ms postprocess per image at shape (1, 3, 640, 480)\n"
     ]
    },
    {
     "name": "stderr",
     "output_type": "stream",
     "text": [
      " 55%|█████▍    | 258/470 [00:50<00:44,  4.75it/s]"
     ]
    },
    {
     "name": "stdout",
     "output_type": "stream",
     "text": [
      "\n",
      "image 1/1 d:\\img_processing\\raw_images\\9307b6d0-ff23-40c7-b374-d2c30392b6ca.jpg: 640x480 (no detections), 57.7ms\n",
      "Speed: 1.5ms preprocess, 57.7ms inference, 0.5ms postprocess per image at shape (1, 3, 640, 480)\n",
      "\n",
      "image 1/1 d:\\img_processing\\raw_images\\9354e06a-f7c3-468b-9d7c-e771ca8c5c0c.jpg: 640x480 (no detections), 53.5ms\n",
      "Speed: 1.5ms preprocess, 53.5ms inference, 0.5ms postprocess per image at shape (1, 3, 640, 480)\n"
     ]
    },
    {
     "name": "stderr",
     "output_type": "stream",
     "text": [
      " 55%|█████▌    | 260/470 [00:50<00:31,  6.76it/s]"
     ]
    },
    {
     "name": "stdout",
     "output_type": "stream",
     "text": [
      "\n",
      "image 1/1 d:\\img_processing\\raw_images\\938e226c-54a4-45ad-bf12-26c57fd54771.jpg: 480x640 1 rectangle-wide-board, 71.3ms\n",
      "Speed: 1.5ms preprocess, 71.3ms inference, 0.8ms postprocess per image at shape (1, 3, 480, 640)\n"
     ]
    },
    {
     "name": "stderr",
     "output_type": "stream",
     "text": [
      " 56%|█████▌    | 261/470 [00:50<00:35,  5.96it/s]"
     ]
    },
    {
     "name": "stdout",
     "output_type": "stream",
     "text": [
      "\n",
      "image 1/1 d:\\img_processing\\raw_images\\9449f960-aa20-4518-afce-5210b28d6b48.jpg: 640x480 1 rectangle-wide-board, 59.3ms\n",
      "Speed: 1.5ms preprocess, 59.3ms inference, 0.9ms postprocess per image at shape (1, 3, 640, 480)\n"
     ]
    },
    {
     "name": "stderr",
     "output_type": "stream",
     "text": [
      " 56%|█████▌    | 262/470 [00:50<00:36,  5.73it/s]"
     ]
    },
    {
     "name": "stdout",
     "output_type": "stream",
     "text": [
      "\n",
      "image 1/1 d:\\img_processing\\raw_images\\9476ac76-705c-404b-a0e1-d7dc809432dc.jpg: 640x320 1 mupi, 51.0ms\n",
      "Speed: 1.5ms preprocess, 51.0ms inference, 1.0ms postprocess per image at shape (1, 3, 640, 320)\n"
     ]
    },
    {
     "name": "stderr",
     "output_type": "stream",
     "text": [
      " 56%|█████▌    | 263/470 [00:50<00:36,  5.69it/s]"
     ]
    },
    {
     "name": "stdout",
     "output_type": "stream",
     "text": [
      "\n",
      "image 1/1 d:\\img_processing\\raw_images\\94d8dc75-ce7b-4f6e-a847-9fb6406d378d.jpg: 640x320 1 mupi, 49.8ms\n",
      "Speed: 1.5ms preprocess, 49.8ms inference, 0.7ms postprocess per image at shape (1, 3, 640, 320)\n"
     ]
    },
    {
     "name": "stderr",
     "output_type": "stream",
     "text": [
      " 56%|█████▌    | 264/470 [00:51<00:36,  5.70it/s]"
     ]
    },
    {
     "name": "stdout",
     "output_type": "stream",
     "text": [
      "\n",
      "image 1/1 d:\\img_processing\\raw_images\\95777323-4f50-49ec-9dc8-bfae580e51ab.jpg: 640x480 1 mupi, 69.1ms\n",
      "Speed: 1.6ms preprocess, 69.1ms inference, 0.8ms postprocess per image at shape (1, 3, 640, 480)\n"
     ]
    },
    {
     "name": "stderr",
     "output_type": "stream",
     "text": [
      " 56%|█████▋    | 265/470 [00:51<00:37,  5.43it/s]"
     ]
    },
    {
     "name": "stdout",
     "output_type": "stream",
     "text": [
      "\n",
      "image 1/1 d:\\img_processing\\raw_images\\9583b027-60d5-4fcf-bbc7-c7351875dec6.jpg: 640x480 1 rectangle-wide-board, 55.5ms\n",
      "Speed: 1.8ms preprocess, 55.5ms inference, 0.8ms postprocess per image at shape (1, 3, 640, 480)\n"
     ]
    },
    {
     "name": "stderr",
     "output_type": "stream",
     "text": [
      " 57%|█████▋    | 266/470 [00:51<00:39,  5.22it/s]"
     ]
    },
    {
     "name": "stdout",
     "output_type": "stream",
     "text": [
      "\n",
      "image 1/1 d:\\img_processing\\raw_images\\95ec7d99-5ccd-43da-bec7-ff700d838d37.jpg: 640x480 1 mupi, 55.2ms\n",
      "Speed: 1.7ms preprocess, 55.2ms inference, 0.8ms postprocess per image at shape (1, 3, 640, 480)\n"
     ]
    },
    {
     "name": "stderr",
     "output_type": "stream",
     "text": [
      " 57%|█████▋    | 267/470 [00:51<00:40,  5.03it/s]"
     ]
    },
    {
     "name": "stdout",
     "output_type": "stream",
     "text": [
      "\n",
      "image 1/1 d:\\img_processing\\raw_images\\96176ab6-3f17-4cee-9361-7cff076c8e85.jpg: 640x480 1 digital-board-medium, 58.4ms\n",
      "Speed: 1.7ms preprocess, 58.4ms inference, 0.7ms postprocess per image at shape (1, 3, 640, 480)\n"
     ]
    },
    {
     "name": "stderr",
     "output_type": "stream",
     "text": [
      " 57%|█████▋    | 268/470 [00:51<00:40,  5.01it/s]"
     ]
    },
    {
     "name": "stdout",
     "output_type": "stream",
     "text": [
      "\n",
      "image 1/1 d:\\img_processing\\raw_images\\96acc00f-262e-4f45-8712-cb3fad2603ca.jpg: 480x640 2 rectangle-wide-boards, 59.0ms\n",
      "Speed: 1.8ms preprocess, 59.0ms inference, 0.7ms postprocess per image at shape (1, 3, 480, 640)\n"
     ]
    },
    {
     "name": "stderr",
     "output_type": "stream",
     "text": [
      " 57%|█████▋    | 269/470 [00:52<00:46,  4.31it/s]"
     ]
    },
    {
     "name": "stdout",
     "output_type": "stream",
     "text": [
      "\n",
      "image 1/1 d:\\img_processing\\raw_images\\96c8766e-884d-4d36-8daa-69c5224ea646.jpg: 640x320 1 mupi, 57.3ms\n",
      "Speed: 1.2ms preprocess, 57.3ms inference, 0.8ms postprocess per image at shape (1, 3, 640, 320)\n"
     ]
    },
    {
     "name": "stderr",
     "output_type": "stream",
     "text": [
      " 57%|█████▋    | 270/470 [00:52<00:44,  4.52it/s]"
     ]
    },
    {
     "name": "stdout",
     "output_type": "stream",
     "text": [
      "\n",
      "image 1/1 d:\\img_processing\\raw_images\\96ffe1aa-1f30-4eff-9c77-dc6139de2f3c.jpg: 640x320 1 mupi, 49.2ms\n",
      "Speed: 1.4ms preprocess, 49.2ms inference, 0.8ms postprocess per image at shape (1, 3, 640, 320)\n"
     ]
    },
    {
     "name": "stderr",
     "output_type": "stream",
     "text": [
      " 58%|█████▊    | 271/470 [00:52<00:42,  4.68it/s]"
     ]
    },
    {
     "name": "stdout",
     "output_type": "stream",
     "text": [
      "\n",
      "image 1/1 d:\\img_processing\\raw_images\\9809e43c-e701-4f91-88a0-e9357a7013a4.jpg: 640x480 1 digital-board-medium, 61.9ms\n",
      "Speed: 1.6ms preprocess, 61.9ms inference, 0.7ms postprocess per image at shape (1, 3, 640, 480)\n"
     ]
    },
    {
     "name": "stderr",
     "output_type": "stream",
     "text": [
      " 58%|█████▊    | 272/470 [00:52<00:41,  4.79it/s]"
     ]
    },
    {
     "name": "stdout",
     "output_type": "stream",
     "text": [
      "\n",
      "image 1/1 d:\\img_processing\\raw_images\\9864e7e5-2dbb-4670-a6e6-01abbe68fa7b.jpg: 640x480 1 digital-board-medium, 59.7ms\n",
      "Speed: 1.7ms preprocess, 59.7ms inference, 0.8ms postprocess per image at shape (1, 3, 640, 480)\n"
     ]
    },
    {
     "name": "stderr",
     "output_type": "stream",
     "text": [
      " 58%|█████▊    | 273/470 [00:53<00:41,  4.78it/s]"
     ]
    },
    {
     "name": "stdout",
     "output_type": "stream",
     "text": [
      "\n",
      "image 1/1 d:\\img_processing\\raw_images\\9883f93f-db20-4156-bd20-299564592056.jpg: 480x640 1 rectangle-wide-board, 58.3ms\n",
      "Speed: 1.6ms preprocess, 58.3ms inference, 0.8ms postprocess per image at shape (1, 3, 480, 640)\n"
     ]
    },
    {
     "name": "stderr",
     "output_type": "stream",
     "text": [
      " 58%|█████▊    | 274/470 [00:53<00:40,  4.83it/s]"
     ]
    },
    {
     "name": "stdout",
     "output_type": "stream",
     "text": [
      "\n",
      "image 1/1 d:\\img_processing\\raw_images\\98ff7fae-db14-4821-bb5f-53202ce36edc.jpg: 640x480 1 mupi, 62.6ms\n",
      "Speed: 1.5ms preprocess, 62.6ms inference, 0.8ms postprocess per image at shape (1, 3, 640, 480)\n"
     ]
    },
    {
     "name": "stderr",
     "output_type": "stream",
     "text": [
      " 59%|█████▊    | 275/470 [00:53<00:40,  4.87it/s]"
     ]
    },
    {
     "name": "stdout",
     "output_type": "stream",
     "text": [
      "\n",
      "image 1/1 d:\\img_processing\\raw_images\\99560f87-b58f-46ba-9d80-7cd6fa95454f.jpg: 640x480 (no detections), 57.7ms\n",
      "Speed: 1.8ms preprocess, 57.7ms inference, 0.5ms postprocess per image at shape (1, 3, 640, 480)\n",
      "\n",
      "image 1/1 d:\\img_processing\\raw_images\\9a3233db-9a63-4304-9d99-7c69d5bf3fda.jpg: 640x480 (no detections), 64.3ms\n",
      "Speed: 1.5ms preprocess, 64.3ms inference, 0.5ms postprocess per image at shape (1, 3, 640, 480)\n"
     ]
    },
    {
     "name": "stderr",
     "output_type": "stream",
     "text": [
      " 59%|█████▉    | 277/470 [00:53<00:28,  6.80it/s]"
     ]
    },
    {
     "name": "stdout",
     "output_type": "stream",
     "text": [
      "\n",
      "image 1/1 d:\\img_processing\\raw_images\\9a456761-3989-4fe5-aee8-57f968cfbc0a.jpg: 640x480 1 rectangle-wide-board, 63.6ms\n",
      "Speed: 1.5ms preprocess, 63.6ms inference, 0.9ms postprocess per image at shape (1, 3, 640, 480)\n"
     ]
    },
    {
     "name": "stderr",
     "output_type": "stream",
     "text": [
      " 59%|█████▉    | 278/470 [00:53<00:31,  6.01it/s]"
     ]
    },
    {
     "name": "stdout",
     "output_type": "stream",
     "text": [
      "\n",
      "image 1/1 d:\\img_processing\\raw_images\\9b10946b-4485-4769-bf5f-09140a5137cf.jpg: 640x320 1 mupi, 46.9ms\n",
      "Speed: 1.3ms preprocess, 46.9ms inference, 0.9ms postprocess per image at shape (1, 3, 640, 320)\n"
     ]
    },
    {
     "name": "stderr",
     "output_type": "stream",
     "text": [
      " 59%|█████▉    | 279/470 [00:54<00:32,  5.83it/s]"
     ]
    },
    {
     "name": "stdout",
     "output_type": "stream",
     "text": [
      "\n",
      "image 1/1 d:\\img_processing\\raw_images\\9b525c36-da0b-4de9-93ee-a7bf74acac12.jpg: 640x320 1 mupi, 56.3ms\n",
      "Speed: 1.6ms preprocess, 56.3ms inference, 1.2ms postprocess per image at shape (1, 3, 640, 320)\n"
     ]
    },
    {
     "name": "stderr",
     "output_type": "stream",
     "text": [
      " 60%|█████▉    | 280/470 [00:54<00:35,  5.37it/s]"
     ]
    },
    {
     "name": "stdout",
     "output_type": "stream",
     "text": [
      "\n",
      "image 1/1 d:\\img_processing\\raw_images\\9bc36571-5d06-49c6-89c5-038162dd067e.jpg: 640x480 1 digital-board, 66.5ms\n",
      "Speed: 1.7ms preprocess, 66.5ms inference, 0.9ms postprocess per image at shape (1, 3, 640, 480)\n"
     ]
    },
    {
     "name": "stderr",
     "output_type": "stream",
     "text": [
      " 60%|█████▉    | 281/470 [00:54<00:36,  5.24it/s]"
     ]
    },
    {
     "name": "stdout",
     "output_type": "stream",
     "text": [
      "\n",
      "image 1/1 d:\\img_processing\\raw_images\\9cc76aa4-3f6b-490a-917e-39d80f9278d8.jpg: 640x480 (no detections), 65.1ms\n",
      "Speed: 2.1ms preprocess, 65.1ms inference, 0.6ms postprocess per image at shape (1, 3, 640, 480)\n",
      "\n",
      "image 1/1 d:\\img_processing\\raw_images\\9ce85871-0270-4db0-86eb-0c8a77f7d6e8.jpg: 640x480 1 rectangle-wide-board, 61.8ms\n",
      "Speed: 1.8ms preprocess, 61.8ms inference, 1.0ms postprocess per image at shape (1, 3, 640, 480)\n"
     ]
    },
    {
     "name": "stderr",
     "output_type": "stream",
     "text": [
      " 60%|██████    | 283/470 [00:54<00:31,  5.86it/s]"
     ]
    },
    {
     "name": "stdout",
     "output_type": "stream",
     "text": [
      "\n",
      "image 1/1 d:\\img_processing\\raw_images\\9d425795-6180-4b18-9044-9da195aae208.jpg: 640x480 1 poster, 65.9ms\n",
      "Speed: 1.7ms preprocess, 65.9ms inference, 0.7ms postprocess per image at shape (1, 3, 640, 480)\n"
     ]
    },
    {
     "name": "stderr",
     "output_type": "stream",
     "text": [
      " 60%|██████    | 284/470 [00:54<00:33,  5.60it/s]"
     ]
    },
    {
     "name": "stdout",
     "output_type": "stream",
     "text": [
      "\n",
      "image 1/1 d:\\img_processing\\raw_images\\9d45f8b8-04a5-4d56-a633-bb64be2dfb0c.jpg: 640x480 1 mupi, 56.9ms\n",
      "Speed: 1.8ms preprocess, 56.9ms inference, 0.7ms postprocess per image at shape (1, 3, 640, 480)\n"
     ]
    },
    {
     "name": "stderr",
     "output_type": "stream",
     "text": [
      " 61%|██████    | 285/470 [00:55<00:34,  5.37it/s]"
     ]
    },
    {
     "name": "stdout",
     "output_type": "stream",
     "text": [
      "\n",
      "image 1/1 d:\\img_processing\\raw_images\\9d9c7c01-8466-418b-9408-fe932828b002.jpg: 640x480 1 digital-board, 55.3ms\n",
      "Speed: 1.7ms preprocess, 55.3ms inference, 0.7ms postprocess per image at shape (1, 3, 640, 480)\n"
     ]
    },
    {
     "name": "stderr",
     "output_type": "stream",
     "text": [
      " 61%|██████    | 286/470 [00:55<00:34,  5.29it/s]"
     ]
    },
    {
     "name": "stdout",
     "output_type": "stream",
     "text": [
      "\n",
      "image 1/1 d:\\img_processing\\raw_images\\9f5a29e6-ecd2-43f4-ae57-2bde5ea9bbe9.jpg: 640x480 1 rectangle-wide-board, 54.1ms\n",
      "Speed: 1.6ms preprocess, 54.1ms inference, 0.7ms postprocess per image at shape (1, 3, 640, 480)\n"
     ]
    },
    {
     "name": "stderr",
     "output_type": "stream",
     "text": [
      " 61%|██████    | 287/470 [00:55<00:34,  5.28it/s]"
     ]
    },
    {
     "name": "stdout",
     "output_type": "stream",
     "text": [
      "\n",
      "image 1/1 d:\\img_processing\\raw_images\\9f80a1bb-ec0c-4e29-a49d-265055e11a28.jpg: 640x320 1 digital-board-medium, 44.1ms\n",
      "Speed: 1.3ms preprocess, 44.1ms inference, 0.7ms postprocess per image at shape (1, 3, 640, 320)\n"
     ]
    },
    {
     "name": "stderr",
     "output_type": "stream",
     "text": [
      " 61%|██████▏   | 288/470 [00:55<00:34,  5.34it/s]"
     ]
    },
    {
     "name": "stdout",
     "output_type": "stream",
     "text": [
      "\n",
      "image 1/1 d:\\img_processing\\raw_images\\9fbe7d2f-2aa0-4c46-8639-62a8047c92aa.jpg: 640x320 1 mupi, 49.7ms\n",
      "Speed: 1.3ms preprocess, 49.7ms inference, 0.7ms postprocess per image at shape (1, 3, 640, 320)\n"
     ]
    },
    {
     "name": "stderr",
     "output_type": "stream",
     "text": [
      " 61%|██████▏   | 289/470 [00:55<00:35,  5.03it/s]"
     ]
    },
    {
     "name": "stdout",
     "output_type": "stream",
     "text": [
      "\n",
      "image 1/1 d:\\img_processing\\raw_images\\a07f77ce-5c08-48a4-a886-4b27cc68232b.jpg: 640x480 (no detections), 59.7ms\n",
      "Speed: 1.7ms preprocess, 59.7ms inference, 0.5ms postprocess per image at shape (1, 3, 640, 480)\n",
      "\n",
      "image 1/1 d:\\img_processing\\raw_images\\a0bdb7d1-d99c-4ebe-b2fc-bfae4b9dc961.jpg: 640x480 1 rectangle-wide-board, 56.1ms\n",
      "Speed: 1.7ms preprocess, 56.1ms inference, 0.8ms postprocess per image at shape (1, 3, 640, 480)\n"
     ]
    },
    {
     "name": "stderr",
     "output_type": "stream",
     "text": [
      " 62%|██████▏   | 291/470 [00:56<00:30,  5.92it/s]"
     ]
    },
    {
     "name": "stdout",
     "output_type": "stream",
     "text": [
      "\n",
      "image 1/1 d:\\img_processing\\raw_images\\a0fdd3b3-af1f-454d-9b4f-8b0d1c5fd32e.jpg: 640x480 1 rectangle-wide-board, 53.0ms\n",
      "Speed: 1.7ms preprocess, 53.0ms inference, 0.7ms postprocess per image at shape (1, 3, 640, 480)\n"
     ]
    },
    {
     "name": "stderr",
     "output_type": "stream",
     "text": [
      " 62%|██████▏   | 292/470 [00:56<00:31,  5.59it/s]"
     ]
    },
    {
     "name": "stdout",
     "output_type": "stream",
     "text": [
      "\n",
      "image 1/1 d:\\img_processing\\raw_images\\a1419615-2500-4fcb-8432-de8082fbc409.jpg: 640x480 1 mupi, 52.9ms\n",
      "Speed: 1.5ms preprocess, 52.9ms inference, 0.8ms postprocess per image at shape (1, 3, 640, 480)\n"
     ]
    },
    {
     "name": "stderr",
     "output_type": "stream",
     "text": [
      " 62%|██████▏   | 293/470 [00:56<00:35,  5.05it/s]"
     ]
    },
    {
     "name": "stdout",
     "output_type": "stream",
     "text": [
      "\n",
      "image 1/1 d:\\img_processing\\raw_images\\a18052de-67d4-4316-aaef-d95a2f7e27de.jpg: 640x480 1 digital-board-medium, 52.5ms\n",
      "Speed: 1.9ms preprocess, 52.5ms inference, 0.7ms postprocess per image at shape (1, 3, 640, 480)\n"
     ]
    },
    {
     "name": "stderr",
     "output_type": "stream",
     "text": [
      " 63%|██████▎   | 294/470 [00:56<00:34,  5.05it/s]"
     ]
    },
    {
     "name": "stdout",
     "output_type": "stream",
     "text": [
      "\n",
      "image 1/1 d:\\img_processing\\raw_images\\a1bb6fed-c61f-43a6-a861-51acaf8e45c3.jpg: 640x480 1 mupi, 57.8ms\n",
      "Speed: 1.8ms preprocess, 57.8ms inference, 0.7ms postprocess per image at shape (1, 3, 640, 480)\n"
     ]
    },
    {
     "name": "stderr",
     "output_type": "stream",
     "text": [
      " 63%|██████▎   | 295/470 [00:57<00:34,  5.10it/s]"
     ]
    },
    {
     "name": "stdout",
     "output_type": "stream",
     "text": [
      "\n",
      "image 1/1 d:\\img_processing\\raw_images\\a2aa22ae-11e7-4df3-9fe8-298ea6ae7c70.jpg: 640x480 1 rectangle-wide-board, 55.2ms\n",
      "Speed: 1.6ms preprocess, 55.2ms inference, 0.7ms postprocess per image at shape (1, 3, 640, 480)\n"
     ]
    },
    {
     "name": "stderr",
     "output_type": "stream",
     "text": [
      " 63%|██████▎   | 296/470 [00:57<00:33,  5.15it/s]"
     ]
    },
    {
     "name": "stdout",
     "output_type": "stream",
     "text": [
      "\n",
      "image 1/1 d:\\img_processing\\raw_images\\a2e26da8-ebe1-4a64-85d1-980a3cc1fb67.jpg: 640x320 1 mupi, 46.5ms\n",
      "Speed: 1.4ms preprocess, 46.5ms inference, 0.7ms postprocess per image at shape (1, 3, 640, 320)\n"
     ]
    },
    {
     "name": "stderr",
     "output_type": "stream",
     "text": [
      " 63%|██████▎   | 297/470 [00:57<00:32,  5.28it/s]"
     ]
    },
    {
     "name": "stdout",
     "output_type": "stream",
     "text": [
      "\n",
      "image 1/1 d:\\img_processing\\raw_images\\a341788b-1fa4-4fee-9e09-e1f113786047.jpg: 640x320 1 mupi, 43.8ms\n",
      "Speed: 1.7ms preprocess, 43.8ms inference, 0.6ms postprocess per image at shape (1, 3, 640, 320)\n"
     ]
    },
    {
     "name": "stderr",
     "output_type": "stream",
     "text": [
      " 63%|██████▎   | 298/470 [00:57<00:32,  5.28it/s]"
     ]
    },
    {
     "name": "stdout",
     "output_type": "stream",
     "text": [
      "\n",
      "image 1/1 d:\\img_processing\\raw_images\\a347d6f9-d82b-423a-8650-123c681cdd9c.jpg: 640x320 1 poster, 43.4ms\n",
      "Speed: 1.5ms preprocess, 43.4ms inference, 1.1ms postprocess per image at shape (1, 3, 640, 320)\n"
     ]
    },
    {
     "name": "stderr",
     "output_type": "stream",
     "text": [
      " 64%|██████▎   | 299/470 [00:57<00:31,  5.37it/s]"
     ]
    },
    {
     "name": "stdout",
     "output_type": "stream",
     "text": [
      "\n",
      "image 1/1 d:\\img_processing\\raw_images\\a38201d6-3253-47d2-a269-a8aff222fe65.jpg: 640x480 1 mupi, 58.7ms\n",
      "Speed: 1.6ms preprocess, 58.7ms inference, 0.7ms postprocess per image at shape (1, 3, 640, 480)\n"
     ]
    },
    {
     "name": "stderr",
     "output_type": "stream",
     "text": [
      " 64%|██████▍   | 300/470 [00:58<00:32,  5.20it/s]"
     ]
    },
    {
     "name": "stdout",
     "output_type": "stream",
     "text": [
      "\n",
      "image 1/1 d:\\img_processing\\raw_images\\a3cc30a3-b806-4d35-8c37-3751f5642d5a.jpg: 640x480 1 digital-board-big, 51.2ms\n",
      "Speed: 1.5ms preprocess, 51.2ms inference, 0.8ms postprocess per image at shape (1, 3, 640, 480)\n"
     ]
    },
    {
     "name": "stderr",
     "output_type": "stream",
     "text": [
      " 64%|██████▍   | 301/470 [00:58<00:32,  5.25it/s]"
     ]
    },
    {
     "name": "stdout",
     "output_type": "stream",
     "text": [
      "\n",
      "image 1/1 d:\\img_processing\\raw_images\\a3e83b13-b28e-441b-9d86-162e5210045c.jpg: 640x480 1 digital-board-medium, 54.2ms\n",
      "Speed: 2.0ms preprocess, 54.2ms inference, 0.9ms postprocess per image at shape (1, 3, 640, 480)\n"
     ]
    },
    {
     "name": "stderr",
     "output_type": "stream",
     "text": [
      " 64%|██████▍   | 302/470 [00:58<00:31,  5.29it/s]"
     ]
    },
    {
     "name": "stdout",
     "output_type": "stream",
     "text": [
      "\n",
      "image 1/1 d:\\img_processing\\raw_images\\a3f06650-eaae-431c-bae7-b0b0d6ebe088.jpg: 640x480 1 rectangle-wide-board, 52.4ms\n",
      "Speed: 1.7ms preprocess, 52.4ms inference, 0.7ms postprocess per image at shape (1, 3, 640, 480)\n"
     ]
    },
    {
     "name": "stderr",
     "output_type": "stream",
     "text": [
      " 64%|██████▍   | 303/470 [00:58<00:32,  5.18it/s]"
     ]
    },
    {
     "name": "stdout",
     "output_type": "stream",
     "text": [
      "\n",
      "image 1/1 d:\\img_processing\\raw_images\\a4d3d550-0a47-44ee-93f6-43e165b021db.jpg: 640x480 1 mupi, 58.3ms\n",
      "Speed: 2.3ms preprocess, 58.3ms inference, 0.8ms postprocess per image at shape (1, 3, 640, 480)\n"
     ]
    },
    {
     "name": "stderr",
     "output_type": "stream",
     "text": [
      " 65%|██████▍   | 304/470 [00:58<00:32,  5.10it/s]"
     ]
    },
    {
     "name": "stdout",
     "output_type": "stream",
     "text": [
      "\n",
      "image 1/1 d:\\img_processing\\raw_images\\a679ff7e-92f2-46be-9eab-020df427132d.jpg: 640x480 1 digital-board, 62.4ms\n",
      "Speed: 1.7ms preprocess, 62.4ms inference, 0.7ms postprocess per image at shape (1, 3, 640, 480)\n"
     ]
    },
    {
     "name": "stderr",
     "output_type": "stream",
     "text": [
      " 65%|██████▍   | 305/470 [00:58<00:32,  5.11it/s]"
     ]
    },
    {
     "name": "stdout",
     "output_type": "stream",
     "text": [
      "\n",
      "image 1/1 d:\\img_processing\\raw_images\\a76e77c4-0051-4aa4-bd51-ab26fd7e227d.jpg: 640x480 1 mupi, 63.7ms\n",
      "Speed: 2.0ms preprocess, 63.7ms inference, 0.7ms postprocess per image at shape (1, 3, 640, 480)\n"
     ]
    },
    {
     "name": "stderr",
     "output_type": "stream",
     "text": [
      " 65%|██████▌   | 306/470 [00:59<00:33,  4.91it/s]"
     ]
    },
    {
     "name": "stdout",
     "output_type": "stream",
     "text": [
      "\n",
      "image 1/1 d:\\img_processing\\raw_images\\a7e3da39-53f5-4bca-b499-e9dc402a3232.jpg: 320x640 1 poster, 43.1ms\n",
      "Speed: 1.3ms preprocess, 43.1ms inference, 0.6ms postprocess per image at shape (1, 3, 320, 640)\n"
     ]
    },
    {
     "name": "stderr",
     "output_type": "stream",
     "text": [
      " 65%|██████▌   | 307/470 [00:59<00:32,  4.95it/s]"
     ]
    },
    {
     "name": "stdout",
     "output_type": "stream",
     "text": [
      "\n",
      "image 1/1 d:\\img_processing\\raw_images\\a8e17d0b-9eba-479d-811b-840650c4878f.jpg: 480x640 1 digital-board-big, 54.7ms\n",
      "Speed: 1.6ms preprocess, 54.7ms inference, 0.7ms postprocess per image at shape (1, 3, 480, 640)\n"
     ]
    },
    {
     "name": "stderr",
     "output_type": "stream",
     "text": [
      " 66%|██████▌   | 308/470 [00:59<00:35,  4.50it/s]"
     ]
    },
    {
     "name": "stdout",
     "output_type": "stream",
     "text": [
      "\n",
      "image 1/1 d:\\img_processing\\raw_images\\a928a737-7127-4249-bf2a-790e9c7f5d42.jpg: 640x480 1 mupi, 67.9ms\n",
      "Speed: 1.9ms preprocess, 67.9ms inference, 0.8ms postprocess per image at shape (1, 3, 640, 480)\n"
     ]
    },
    {
     "name": "stderr",
     "output_type": "stream",
     "text": [
      " 66%|██████▌   | 309/470 [00:59<00:35,  4.54it/s]"
     ]
    },
    {
     "name": "stdout",
     "output_type": "stream",
     "text": [
      "\n",
      "image 1/1 d:\\img_processing\\raw_images\\a938907c-5dfa-4cce-b0c8-c0038299d0ab.jpg: 640x320 1 digital-board-medium, 47.7ms\n",
      "Speed: 1.5ms preprocess, 47.7ms inference, 0.6ms postprocess per image at shape (1, 3, 640, 320)\n"
     ]
    },
    {
     "name": "stderr",
     "output_type": "stream",
     "text": [
      " 66%|██████▌   | 310/470 [01:00<00:33,  4.71it/s]"
     ]
    },
    {
     "name": "stdout",
     "output_type": "stream",
     "text": [
      "\n",
      "image 1/1 d:\\img_processing\\raw_images\\a93d924f-00e6-44b5-a31b-007ea0920a6f.jpg: 640x480 1 digital-board-medium, 53.4ms\n",
      "Speed: 1.6ms preprocess, 53.4ms inference, 0.7ms postprocess per image at shape (1, 3, 640, 480)\n"
     ]
    },
    {
     "name": "stderr",
     "output_type": "stream",
     "text": [
      " 66%|██████▌   | 311/470 [01:00<00:32,  4.91it/s]"
     ]
    },
    {
     "name": "stdout",
     "output_type": "stream",
     "text": [
      "\n",
      "image 1/1 d:\\img_processing\\raw_images\\a987957f-074b-487b-8447-d7d399cec88a.jpg: 640x320 1 mupi, 51.6ms\n",
      "Speed: 1.2ms preprocess, 51.6ms inference, 0.8ms postprocess per image at shape (1, 3, 640, 320)\n"
     ]
    },
    {
     "name": "stderr",
     "output_type": "stream",
     "text": [
      " 66%|██████▋   | 312/470 [01:00<00:31,  4.99it/s]"
     ]
    },
    {
     "name": "stdout",
     "output_type": "stream",
     "text": [
      "\n",
      "image 1/1 d:\\img_processing\\raw_images\\a999f0ca-75dd-4804-904a-415542df6a12.jpg: 640x480 1 digital-board-medium, 60.7ms\n",
      "Speed: 2.0ms preprocess, 60.7ms inference, 0.7ms postprocess per image at shape (1, 3, 640, 480)\n"
     ]
    },
    {
     "name": "stderr",
     "output_type": "stream",
     "text": [
      " 67%|██████▋   | 313/470 [01:00<00:32,  4.83it/s]"
     ]
    },
    {
     "name": "stdout",
     "output_type": "stream",
     "text": [
      "\n",
      "image 1/1 d:\\img_processing\\raw_images\\a9ae565b-3852-446d-accf-3532f2f263c1.jpg: 480x640 2 rectangle-wide-boards, 56.3ms\n",
      "Speed: 1.6ms preprocess, 56.3ms inference, 0.9ms postprocess per image at shape (1, 3, 480, 640)\n"
     ]
    },
    {
     "name": "stderr",
     "output_type": "stream",
     "text": [
      " 67%|██████▋   | 314/470 [01:01<00:38,  4.08it/s]"
     ]
    },
    {
     "name": "stdout",
     "output_type": "stream",
     "text": [
      "\n",
      "image 1/1 d:\\img_processing\\raw_images\\ab6adfdb-5e6c-4993-8fc4-ea0ffc21f229.jpg: 640x480 1 poster, 54.8ms\n",
      "Speed: 2.3ms preprocess, 54.8ms inference, 0.8ms postprocess per image at shape (1, 3, 640, 480)\n"
     ]
    },
    {
     "name": "stderr",
     "output_type": "stream",
     "text": [
      " 67%|██████▋   | 315/470 [01:01<00:38,  4.07it/s]"
     ]
    },
    {
     "name": "stdout",
     "output_type": "stream",
     "text": [
      "\n",
      "image 1/1 d:\\img_processing\\raw_images\\ab9f60d6-444a-4120-8fef-bec29868cc08.jpg: 640x480 1 digital-board, 62.2ms\n",
      "Speed: 1.8ms preprocess, 62.2ms inference, 0.7ms postprocess per image at shape (1, 3, 640, 480)\n"
     ]
    },
    {
     "name": "stderr",
     "output_type": "stream",
     "text": [
      " 67%|██████▋   | 316/470 [01:01<00:35,  4.30it/s]"
     ]
    },
    {
     "name": "stdout",
     "output_type": "stream",
     "text": [
      "\n",
      "image 1/1 d:\\img_processing\\raw_images\\ac2eb529-ae26-4124-adcd-6114a0944d0d.jpg: 640x480 1 mupi, 58.3ms\n",
      "Speed: 1.5ms preprocess, 58.3ms inference, 0.8ms postprocess per image at shape (1, 3, 640, 480)\n"
     ]
    },
    {
     "name": "stderr",
     "output_type": "stream",
     "text": [
      " 67%|██████▋   | 317/470 [01:01<00:34,  4.39it/s]"
     ]
    },
    {
     "name": "stdout",
     "output_type": "stream",
     "text": [
      "\n",
      "image 1/1 d:\\img_processing\\raw_images\\ad270376-1574-4077-8af3-ad3bd3f94e60.jpg: 640x480 2 digital-board-mediums, 59.6ms\n",
      "Speed: 1.9ms preprocess, 59.6ms inference, 0.9ms postprocess per image at shape (1, 3, 640, 480)\n"
     ]
    },
    {
     "name": "stderr",
     "output_type": "stream",
     "text": [
      " 68%|██████▊   | 318/470 [01:02<00:40,  3.76it/s]"
     ]
    },
    {
     "name": "stdout",
     "output_type": "stream",
     "text": [
      "\n",
      "image 1/1 d:\\img_processing\\raw_images\\ae639277-0362-4bc5-9bef-cdbcc30d6108.jpg: 640x480 1 digital-board-medium, 57.0ms\n",
      "Speed: 2.3ms preprocess, 57.0ms inference, 0.8ms postprocess per image at shape (1, 3, 640, 480)\n"
     ]
    },
    {
     "name": "stderr",
     "output_type": "stream",
     "text": [
      " 68%|██████▊   | 319/470 [01:02<00:37,  4.00it/s]"
     ]
    },
    {
     "name": "stdout",
     "output_type": "stream",
     "text": [
      "\n",
      "image 1/1 d:\\img_processing\\raw_images\\af796179-9102-4ea7-8e33-6e23e8c515bb.jpg: 640x480 1 digital-board-medium, 55.2ms\n",
      "Speed: 1.6ms preprocess, 55.2ms inference, 0.7ms postprocess per image at shape (1, 3, 640, 480)\n"
     ]
    },
    {
     "name": "stderr",
     "output_type": "stream",
     "text": [
      " 68%|██████▊   | 320/470 [01:02<00:35,  4.26it/s]"
     ]
    },
    {
     "name": "stdout",
     "output_type": "stream",
     "text": [
      "\n",
      "image 1/1 d:\\img_processing\\raw_images\\b14a6f5e-659e-4242-bf83-acd471878925.jpg: 640x480 1 digital-board, 57.9ms\n",
      "Speed: 1.6ms preprocess, 57.9ms inference, 1.2ms postprocess per image at shape (1, 3, 640, 480)\n"
     ]
    },
    {
     "name": "stderr",
     "output_type": "stream",
     "text": [
      " 68%|██████▊   | 321/470 [01:02<00:33,  4.45it/s]"
     ]
    },
    {
     "name": "stdout",
     "output_type": "stream",
     "text": [
      "\n",
      "image 1/1 d:\\img_processing\\raw_images\\b198cae8-01bb-4bc8-9d0f-522082d3e82a.jpg: 640x480 (no detections), 57.3ms\n",
      "Speed: 1.7ms preprocess, 57.3ms inference, 0.5ms postprocess per image at shape (1, 3, 640, 480)\n",
      "\n",
      "image 1/1 d:\\img_processing\\raw_images\\b1fefa0e-1d67-435b-b914-7ce076ff40b2.jpg: 640x480 1 mupi, 55.8ms\n",
      "Speed: 1.7ms preprocess, 55.8ms inference, 1.2ms postprocess per image at shape (1, 3, 640, 480)\n"
     ]
    },
    {
     "name": "stderr",
     "output_type": "stream",
     "text": [
      " 69%|██████▊   | 323/470 [01:02<00:28,  5.25it/s]"
     ]
    },
    {
     "name": "stdout",
     "output_type": "stream",
     "text": [
      "\n",
      "image 1/1 d:\\img_processing\\raw_images\\b37e4d60-7c0e-4998-a7ab-f514643a0c64.jpg: 640x480 (no detections), 58.6ms\n",
      "Speed: 1.6ms preprocess, 58.6ms inference, 0.5ms postprocess per image at shape (1, 3, 640, 480)\n",
      "\n",
      "image 1/1 d:\\img_processing\\raw_images\\b4a0d704-7c3e-459a-979e-0b39595104a1.jpg: 640x480 1 mupi, 57.0ms\n",
      "Speed: 1.9ms preprocess, 57.0ms inference, 1.0ms postprocess per image at shape (1, 3, 640, 480)\n"
     ]
    },
    {
     "name": "stderr",
     "output_type": "stream",
     "text": [
      " 69%|██████▉   | 325/470 [01:03<00:25,  5.78it/s]"
     ]
    },
    {
     "name": "stdout",
     "output_type": "stream",
     "text": [
      "\n",
      "image 1/1 d:\\img_processing\\raw_images\\b53f918c-65d9-4514-bb2f-8741426ae961.jpg: 640x320 1 mupi, 56.8ms\n",
      "Speed: 1.3ms preprocess, 56.8ms inference, 1.4ms postprocess per image at shape (1, 3, 640, 320)\n"
     ]
    },
    {
     "name": "stderr",
     "output_type": "stream",
     "text": [
      " 69%|██████▉   | 326/470 [01:03<00:25,  5.55it/s]"
     ]
    },
    {
     "name": "stdout",
     "output_type": "stream",
     "text": [
      "\n",
      "image 1/1 d:\\img_processing\\raw_images\\b64b9683-3b7d-4617-8fe1-a6ca16542067.jpg: 640x480 1 digital-board, 55.1ms\n",
      "Speed: 1.6ms preprocess, 55.1ms inference, 0.8ms postprocess per image at shape (1, 3, 640, 480)\n"
     ]
    },
    {
     "name": "stderr",
     "output_type": "stream",
     "text": [
      " 70%|██████▉   | 327/470 [01:03<00:26,  5.47it/s]"
     ]
    },
    {
     "name": "stdout",
     "output_type": "stream",
     "text": [
      "\n",
      "image 1/1 d:\\img_processing\\raw_images\\b7974b92-599a-4e62-9327-3979005742c4.jpg: 480x640 1 rectangle-wide-board, 58.7ms\n",
      "Speed: 1.8ms preprocess, 58.7ms inference, 0.8ms postprocess per image at shape (1, 3, 480, 640)\n"
     ]
    },
    {
     "name": "stderr",
     "output_type": "stream",
     "text": [
      " 70%|██████▉   | 328/470 [01:03<00:27,  5.24it/s]"
     ]
    },
    {
     "name": "stdout",
     "output_type": "stream",
     "text": [
      "\n",
      "image 1/1 d:\\img_processing\\raw_images\\b8032f61-c416-4468-a52d-a2df0b188ec1.jpg: 640x480 1 mupi, 54.8ms\n",
      "Speed: 1.8ms preprocess, 54.8ms inference, 0.7ms postprocess per image at shape (1, 3, 640, 480)\n"
     ]
    },
    {
     "name": "stderr",
     "output_type": "stream",
     "text": [
      " 70%|███████   | 329/470 [01:04<00:27,  5.22it/s]"
     ]
    },
    {
     "name": "stdout",
     "output_type": "stream",
     "text": [
      "\n",
      "image 1/1 d:\\img_processing\\raw_images\\b8725e51-faef-45ca-8624-2079140afb9e.jpg: 640x480 1 mupi, 63.9ms\n",
      "Speed: 1.6ms preprocess, 63.9ms inference, 1.3ms postprocess per image at shape (1, 3, 640, 480)\n"
     ]
    },
    {
     "name": "stderr",
     "output_type": "stream",
     "text": [
      " 70%|███████   | 330/470 [01:04<00:27,  5.01it/s]"
     ]
    },
    {
     "name": "stdout",
     "output_type": "stream",
     "text": [
      "\n",
      "image 1/1 d:\\img_processing\\raw_images\\b8c2817c-71b5-428c-9adc-fa56e3f4b4a6.jpg: 640x480 (no detections), 69.5ms\n",
      "Speed: 1.6ms preprocess, 69.5ms inference, 0.5ms postprocess per image at shape (1, 3, 640, 480)\n",
      "\n",
      "image 1/1 d:\\img_processing\\raw_images\\b9304061-3c3c-453f-811c-d366c49a84ce.jpg: 480x640 1 rectangle-wide-board, 58.6ms\n",
      "Speed: 1.7ms preprocess, 58.6ms inference, 1.0ms postprocess per image at shape (1, 3, 480, 640)\n"
     ]
    },
    {
     "name": "stderr",
     "output_type": "stream",
     "text": [
      " 71%|███████   | 332/470 [01:04<00:24,  5.57it/s]"
     ]
    },
    {
     "name": "stdout",
     "output_type": "stream",
     "text": [
      "\n",
      "image 1/1 d:\\img_processing\\raw_images\\b95bf089-50a0-47ac-91ec-ad1286cbc9cd.jpg: 640x480 1 rectangle-wide-board, 58.6ms\n",
      "Speed: 1.7ms preprocess, 58.6ms inference, 0.9ms postprocess per image at shape (1, 3, 640, 480)\n"
     ]
    },
    {
     "name": "stderr",
     "output_type": "stream",
     "text": [
      " 71%|███████   | 333/470 [01:04<00:25,  5.40it/s]"
     ]
    },
    {
     "name": "stdout",
     "output_type": "stream",
     "text": [
      "\n",
      "image 1/1 d:\\img_processing\\raw_images\\b96c99f4-fb1a-4891-bf15-78609445450c.jpg: 640x480 1 mupi, 61.0ms\n",
      "Speed: 1.6ms preprocess, 61.0ms inference, 0.7ms postprocess per image at shape (1, 3, 640, 480)\n"
     ]
    },
    {
     "name": "stderr",
     "output_type": "stream",
     "text": [
      " 71%|███████   | 334/470 [01:05<00:27,  4.95it/s]"
     ]
    },
    {
     "name": "stdout",
     "output_type": "stream",
     "text": [
      "\n",
      "image 1/1 d:\\img_processing\\raw_images\\b96e7a0a-402e-46ea-a3a7-3b481cd037fe.jpg: 640x480 1 poster, 55.7ms\n",
      "Speed: 1.7ms preprocess, 55.7ms inference, 0.8ms postprocess per image at shape (1, 3, 640, 480)\n"
     ]
    },
    {
     "name": "stderr",
     "output_type": "stream",
     "text": [
      " 71%|███████▏  | 335/470 [01:05<00:27,  4.95it/s]"
     ]
    },
    {
     "name": "stdout",
     "output_type": "stream",
     "text": [
      "\n",
      "image 1/1 d:\\img_processing\\raw_images\\b9937167-286d-4600-86cc-777deadc1f34.jpg: 640x480 1 rectangle-wide-board, 55.0ms\n",
      "Speed: 1.7ms preprocess, 55.0ms inference, 0.7ms postprocess per image at shape (1, 3, 640, 480)\n"
     ]
    },
    {
     "name": "stderr",
     "output_type": "stream",
     "text": [
      " 71%|███████▏  | 336/470 [01:05<00:26,  4.99it/s]"
     ]
    },
    {
     "name": "stdout",
     "output_type": "stream",
     "text": [
      "\n",
      "image 1/1 d:\\img_processing\\raw_images\\b9a3208c-4bdd-46dd-aa42-ae3c1aa35a05.jpg: 640x480 1 poster, 59.1ms\n",
      "Speed: 1.9ms preprocess, 59.1ms inference, 0.9ms postprocess per image at shape (1, 3, 640, 480)\n"
     ]
    },
    {
     "name": "stderr",
     "output_type": "stream",
     "text": [
      " 72%|███████▏  | 337/470 [01:05<00:30,  4.38it/s]"
     ]
    },
    {
     "name": "stdout",
     "output_type": "stream",
     "text": [
      "\n",
      "image 1/1 d:\\img_processing\\raw_images\\b9e8fc12-c175-491f-a1bf-b96b8bf2a1cb.jpg: 640x480 1 mupi, 58.9ms\n",
      "Speed: 1.7ms preprocess, 58.9ms inference, 0.7ms postprocess per image at shape (1, 3, 640, 480)\n"
     ]
    },
    {
     "name": "stderr",
     "output_type": "stream",
     "text": [
      " 72%|███████▏  | 338/470 [01:05<00:29,  4.44it/s]"
     ]
    },
    {
     "name": "stdout",
     "output_type": "stream",
     "text": [
      "\n",
      "image 1/1 d:\\img_processing\\raw_images\\bad5df1e-1c36-498d-af0c-39d7055b725c.jpg: 640x480 1 digital-board-medium, 59.0ms\n",
      "Speed: 1.7ms preprocess, 59.0ms inference, 1.3ms postprocess per image at shape (1, 3, 640, 480)\n"
     ]
    },
    {
     "name": "stderr",
     "output_type": "stream",
     "text": [
      " 72%|███████▏  | 339/470 [01:06<00:29,  4.50it/s]"
     ]
    },
    {
     "name": "stdout",
     "output_type": "stream",
     "text": [
      "\n",
      "image 1/1 d:\\img_processing\\raw_images\\bb4f3ea1-2373-489a-893d-e084b23eb35b.jpg: 640x480 1 mupi, 54.5ms\n",
      "Speed: 1.5ms preprocess, 54.5ms inference, 0.8ms postprocess per image at shape (1, 3, 640, 480)\n"
     ]
    },
    {
     "name": "stderr",
     "output_type": "stream",
     "text": [
      " 72%|███████▏  | 340/470 [01:06<00:28,  4.56it/s]"
     ]
    },
    {
     "name": "stdout",
     "output_type": "stream",
     "text": [
      "\n",
      "image 1/1 d:\\img_processing\\raw_images\\bb7c8bdb-578b-43f3-8c25-794bf6ed8a42.jpg: 640x480 1 mupi, 55.2ms\n",
      "Speed: 1.7ms preprocess, 55.2ms inference, 1.0ms postprocess per image at shape (1, 3, 640, 480)\n"
     ]
    },
    {
     "name": "stderr",
     "output_type": "stream",
     "text": [
      " 73%|███████▎  | 341/470 [01:06<00:27,  4.67it/s]"
     ]
    },
    {
     "name": "stdout",
     "output_type": "stream",
     "text": [
      "\n",
      "image 1/1 d:\\img_processing\\raw_images\\bb906cdd-4808-467e-9159-a3c7c02326fc.jpg: 640x480 1 digital-board-medium, 53.9ms\n",
      "Speed: 1.6ms preprocess, 53.9ms inference, 0.8ms postprocess per image at shape (1, 3, 640, 480)\n"
     ]
    },
    {
     "name": "stderr",
     "output_type": "stream",
     "text": [
      " 73%|███████▎  | 342/470 [01:06<00:28,  4.46it/s]"
     ]
    },
    {
     "name": "stdout",
     "output_type": "stream",
     "text": [
      "\n",
      "image 1/1 d:\\img_processing\\raw_images\\bc82efb2-029e-4cd1-b2cf-b694ca604337.jpg: 640x480 1 digital-board-big, 1 mupi, 67.7ms\n",
      "Speed: 2.3ms preprocess, 67.7ms inference, 0.8ms postprocess per image at shape (1, 3, 640, 480)\n"
     ]
    },
    {
     "name": "stderr",
     "output_type": "stream",
     "text": [
      " 73%|███████▎  | 343/470 [01:07<00:34,  3.63it/s]"
     ]
    },
    {
     "name": "stdout",
     "output_type": "stream",
     "text": [
      "\n",
      "image 1/1 d:\\img_processing\\raw_images\\bd21fb8f-c635-4cc1-80c5-4779f7bc80a5.jpg: 640x480 1 mupi, 73.5ms\n",
      "Speed: 1.9ms preprocess, 73.5ms inference, 1.1ms postprocess per image at shape (1, 3, 640, 480)\n"
     ]
    },
    {
     "name": "stderr",
     "output_type": "stream",
     "text": [
      " 73%|███████▎  | 344/470 [01:07<00:33,  3.72it/s]"
     ]
    },
    {
     "name": "stdout",
     "output_type": "stream",
     "text": [
      "\n",
      "image 1/1 d:\\img_processing\\raw_images\\bd3b00d2-868f-48e8-b84e-3d268ec00d62.jpg: 640x320 1 poster, 48.1ms\n",
      "Speed: 1.3ms preprocess, 48.1ms inference, 0.8ms postprocess per image at shape (1, 3, 640, 320)\n"
     ]
    },
    {
     "name": "stderr",
     "output_type": "stream",
     "text": [
      " 73%|███████▎  | 345/470 [01:07<00:34,  3.65it/s]"
     ]
    },
    {
     "name": "stdout",
     "output_type": "stream",
     "text": [
      "\n",
      "image 1/1 d:\\img_processing\\raw_images\\bd66f59a-76f1-4007-8775-b48f40444fdb.jpg: 640x480 1 rectangle-wide-board, 64.2ms\n",
      "Speed: 1.6ms preprocess, 64.2ms inference, 0.9ms postprocess per image at shape (1, 3, 640, 480)\n"
     ]
    },
    {
     "name": "stderr",
     "output_type": "stream",
     "text": [
      " 74%|███████▎  | 346/470 [01:08<00:32,  3.81it/s]"
     ]
    },
    {
     "name": "stdout",
     "output_type": "stream",
     "text": [
      "\n",
      "image 1/1 d:\\img_processing\\raw_images\\bd6e96ff-3226-4bbe-9c49-38e55d499da9.jpg: 640x320 1 mupi, 53.1ms\n",
      "Speed: 1.4ms preprocess, 53.1ms inference, 1.1ms postprocess per image at shape (1, 3, 640, 320)\n"
     ]
    },
    {
     "name": "stderr",
     "output_type": "stream",
     "text": [
      " 74%|███████▍  | 347/470 [01:08<00:29,  4.11it/s]"
     ]
    },
    {
     "name": "stdout",
     "output_type": "stream",
     "text": [
      "\n",
      "image 1/1 d:\\img_processing\\raw_images\\bf1cd4b7-8de7-45a8-b4db-48b0d7d00e43.jpg: 640x480 1 mupi, 62.5ms\n",
      "Speed: 1.7ms preprocess, 62.5ms inference, 0.9ms postprocess per image at shape (1, 3, 640, 480)\n"
     ]
    },
    {
     "name": "stderr",
     "output_type": "stream",
     "text": [
      " 74%|███████▍  | 348/470 [01:08<00:29,  4.10it/s]"
     ]
    },
    {
     "name": "stdout",
     "output_type": "stream",
     "text": [
      "\n",
      "image 1/1 d:\\img_processing\\raw_images\\bf2e6ef8-2e11-4365-9775-609e92895387.jpg: 640x480 (no detections), 74.1ms\n",
      "Speed: 1.7ms preprocess, 74.1ms inference, 0.6ms postprocess per image at shape (1, 3, 640, 480)\n",
      "\n",
      "image 1/1 d:\\img_processing\\raw_images\\bf795ea9-7f91-4bdf-b4cb-a2153073b735.jpg: 640x320 1 mupi, 53.3ms\n",
      "Speed: 1.5ms preprocess, 53.3ms inference, 1.0ms postprocess per image at shape (1, 3, 640, 320)\n"
     ]
    },
    {
     "name": "stderr",
     "output_type": "stream",
     "text": [
      " 74%|███████▍  | 350/470 [01:08<00:24,  4.96it/s]"
     ]
    },
    {
     "name": "stdout",
     "output_type": "stream",
     "text": [
      "\n",
      "image 1/1 d:\\img_processing\\raw_images\\bfdeb08e-29ce-4b3b-b71d-a627c61aadc0.jpg: 640x320 1 poster, 45.0ms\n",
      "Speed: 1.2ms preprocess, 45.0ms inference, 0.8ms postprocess per image at shape (1, 3, 640, 320)\n"
     ]
    },
    {
     "name": "stderr",
     "output_type": "stream",
     "text": [
      " 75%|███████▍  | 351/470 [01:08<00:24,  4.87it/s]"
     ]
    },
    {
     "name": "stdout",
     "output_type": "stream",
     "text": [
      "\n",
      "image 1/1 d:\\img_processing\\raw_images\\c03cbcfa-bfc4-4dc8-a6a1-a145a1b115ea.jpg: 640x320 1 mupi, 44.9ms\n",
      "Speed: 1.7ms preprocess, 44.9ms inference, 0.7ms postprocess per image at shape (1, 3, 640, 320)\n"
     ]
    },
    {
     "name": "stderr",
     "output_type": "stream",
     "text": [
      " 75%|███████▍  | 352/470 [01:09<00:24,  4.91it/s]"
     ]
    },
    {
     "name": "stdout",
     "output_type": "stream",
     "text": [
      "\n",
      "image 1/1 d:\\img_processing\\raw_images\\c0a81c0b-5ca7-41cf-bdfa-8eeacd9b54a5.jpg: 640x480 1 poster, 51.8ms\n",
      "Speed: 1.6ms preprocess, 51.8ms inference, 0.7ms postprocess per image at shape (1, 3, 640, 480)\n"
     ]
    },
    {
     "name": "stderr",
     "output_type": "stream",
     "text": [
      " 75%|███████▌  | 353/470 [01:09<00:23,  4.96it/s]"
     ]
    },
    {
     "name": "stdout",
     "output_type": "stream",
     "text": [
      "\n",
      "image 1/1 d:\\img_processing\\raw_images\\c0dc86eb-87fb-479d-938d-f2656b386533.jpg: 640x480 (no detections), 59.5ms\n",
      "Speed: 1.5ms preprocess, 59.5ms inference, 0.5ms postprocess per image at shape (1, 3, 640, 480)\n",
      "\n",
      "image 1/1 d:\\img_processing\\raw_images\\c189a9b6-a866-48e7-8b75-a4622fb5947f.jpg: 640x320 1 mupi, 52.9ms\n",
      "Speed: 1.4ms preprocess, 52.9ms inference, 0.8ms postprocess per image at shape (1, 3, 640, 320)\n"
     ]
    },
    {
     "name": "stderr",
     "output_type": "stream",
     "text": [
      " 76%|███████▌  | 355/470 [01:09<00:20,  5.73it/s]"
     ]
    },
    {
     "name": "stdout",
     "output_type": "stream",
     "text": [
      "\n",
      "image 1/1 d:\\img_processing\\raw_images\\c1f130d2-8d44-4d93-89fc-06adad0585ea.jpg: 640x480 (no detections), 59.3ms\n",
      "Speed: 1.6ms preprocess, 59.3ms inference, 0.5ms postprocess per image at shape (1, 3, 640, 480)\n",
      "\n",
      "image 1/1 d:\\img_processing\\raw_images\\c256e382-539c-4136-9486-0592de38b0b1.jpg: 640x480 (no detections), 56.5ms\n",
      "Speed: 1.6ms preprocess, 56.5ms inference, 0.5ms postprocess per image at shape (1, 3, 640, 480)\n"
     ]
    },
    {
     "name": "stderr",
     "output_type": "stream",
     "text": [
      " 76%|███████▌  | 357/470 [01:09<00:15,  7.34it/s]"
     ]
    },
    {
     "name": "stdout",
     "output_type": "stream",
     "text": [
      "\n",
      "image 1/1 d:\\img_processing\\raw_images\\c2950fae-da14-4d7a-b852-a318e937ca96.jpg: 640x480 1 digital-board, 53.8ms\n",
      "Speed: 2.6ms preprocess, 53.8ms inference, 0.8ms postprocess per image at shape (1, 3, 640, 480)\n"
     ]
    },
    {
     "name": "stderr",
     "output_type": "stream",
     "text": [
      " 76%|███████▌  | 358/470 [01:09<00:16,  6.76it/s]"
     ]
    },
    {
     "name": "stdout",
     "output_type": "stream",
     "text": [
      "\n",
      "image 1/1 d:\\img_processing\\raw_images\\c2cb4a11-6ae3-4274-bd6c-a7be218b7244.jpg: 640x480 1 digital-board-medium, 51.9ms\n",
      "Speed: 2.2ms preprocess, 51.9ms inference, 0.7ms postprocess per image at shape (1, 3, 640, 480)\n"
     ]
    },
    {
     "name": "stderr",
     "output_type": "stream",
     "text": [
      " 76%|███████▋  | 359/470 [01:10<00:17,  6.37it/s]"
     ]
    },
    {
     "name": "stdout",
     "output_type": "stream",
     "text": [
      "\n",
      "image 1/1 d:\\img_processing\\raw_images\\c2e1ddc3-8fe5-4957-83d7-fd15b827b23a.jpg: 640x480 (no detections), 55.1ms\n",
      "Speed: 1.8ms preprocess, 55.1ms inference, 0.6ms postprocess per image at shape (1, 3, 640, 480)\n",
      "\n",
      "image 1/1 d:\\img_processing\\raw_images\\c3fb1561-9ce4-45af-a456-6db0868e1711.jpg: 640x320 1 mupi, 45.9ms\n",
      "Speed: 1.2ms preprocess, 45.9ms inference, 0.8ms postprocess per image at shape (1, 3, 640, 320)\n"
     ]
    },
    {
     "name": "stderr",
     "output_type": "stream",
     "text": [
      " 77%|███████▋  | 361/470 [01:10<00:15,  6.94it/s]"
     ]
    },
    {
     "name": "stdout",
     "output_type": "stream",
     "text": [
      "\n",
      "image 1/1 d:\\img_processing\\raw_images\\c41bd524-a6bf-46eb-8146-fae951d94cba.jpg: 640x480 1 mupi, 56.7ms\n",
      "Speed: 1.6ms preprocess, 56.7ms inference, 0.8ms postprocess per image at shape (1, 3, 640, 480)\n"
     ]
    },
    {
     "name": "stderr",
     "output_type": "stream",
     "text": [
      " 77%|███████▋  | 362/470 [01:10<00:16,  6.40it/s]"
     ]
    },
    {
     "name": "stdout",
     "output_type": "stream",
     "text": [
      "\n",
      "image 1/1 d:\\img_processing\\raw_images\\c48fb346-8b98-407d-80a7-60a296f26e8a.jpg: 640x480 1 digital-board, 55.0ms\n",
      "Speed: 1.6ms preprocess, 55.0ms inference, 0.7ms postprocess per image at shape (1, 3, 640, 480)\n"
     ]
    },
    {
     "name": "stderr",
     "output_type": "stream",
     "text": [
      " 77%|███████▋  | 363/470 [01:10<00:18,  5.89it/s]"
     ]
    },
    {
     "name": "stdout",
     "output_type": "stream",
     "text": [
      "\n",
      "image 1/1 d:\\img_processing\\raw_images\\c4a00367-3ed7-40c0-8907-27cafb7e77cb.jpg: 640x480 (no detections), 56.9ms\n",
      "Speed: 1.9ms preprocess, 56.9ms inference, 0.4ms postprocess per image at shape (1, 3, 640, 480)\n",
      "\n",
      "image 1/1 d:\\img_processing\\raw_images\\c4f55268-9b99-4f51-8c53-22e35373b429.jpg: 640x480 (no detections), 54.8ms\n",
      "Speed: 1.7ms preprocess, 54.8ms inference, 0.6ms postprocess per image at shape (1, 3, 640, 480)\n"
     ]
    },
    {
     "name": "stderr",
     "output_type": "stream",
     "text": [
      " 78%|███████▊  | 365/470 [01:10<00:13,  7.64it/s]"
     ]
    },
    {
     "name": "stdout",
     "output_type": "stream",
     "text": [
      "\n",
      "image 1/1 d:\\img_processing\\raw_images\\c52f00d0-c24b-416d-bd0e-be1833854231.jpg: 640x480 1 digital-board-medium, 53.6ms\n",
      "Speed: 1.7ms preprocess, 53.6ms inference, 0.8ms postprocess per image at shape (1, 3, 640, 480)\n"
     ]
    },
    {
     "name": "stderr",
     "output_type": "stream",
     "text": [
      " 78%|███████▊  | 366/470 [01:11<00:15,  6.79it/s]"
     ]
    },
    {
     "name": "stdout",
     "output_type": "stream",
     "text": [
      "\n",
      "image 1/1 d:\\img_processing\\raw_images\\c5425375-67f1-4ba7-ab15-f0e717066072.jpg: 640x480 1 digital-board-big, 1 mupi, 52.2ms\n",
      "Speed: 1.5ms preprocess, 52.2ms inference, 0.7ms postprocess per image at shape (1, 3, 640, 480)\n"
     ]
    },
    {
     "name": "stderr",
     "output_type": "stream",
     "text": [
      " 78%|███████▊  | 367/470 [01:11<00:20,  5.10it/s]"
     ]
    },
    {
     "name": "stdout",
     "output_type": "stream",
     "text": [
      "\n",
      "image 1/1 d:\\img_processing\\raw_images\\c5936b54-404b-4fc4-ae68-94d51d505824.jpg: 640x480 1 poster, 58.6ms\n",
      "Speed: 1.6ms preprocess, 58.6ms inference, 0.7ms postprocess per image at shape (1, 3, 640, 480)\n"
     ]
    },
    {
     "name": "stderr",
     "output_type": "stream",
     "text": [
      " 78%|███████▊  | 368/470 [01:11<00:20,  4.93it/s]"
     ]
    },
    {
     "name": "stdout",
     "output_type": "stream",
     "text": [
      "\n",
      "image 1/1 d:\\img_processing\\raw_images\\c66945bb-c7cf-4e54-893a-7a3093eb3870.jpg: 640x480 1 digital-board-big, 53.9ms\n",
      "Speed: 1.6ms preprocess, 53.9ms inference, 1.2ms postprocess per image at shape (1, 3, 640, 480)\n"
     ]
    },
    {
     "name": "stderr",
     "output_type": "stream",
     "text": [
      " 79%|███████▊  | 369/470 [01:11<00:20,  4.93it/s]"
     ]
    },
    {
     "name": "stdout",
     "output_type": "stream",
     "text": [
      "\n",
      "image 1/1 d:\\img_processing\\raw_images\\c6a4ae93-3977-4728-9d9f-13641cf6a69b.jpg: 640x480 1 digital-board-medium, 55.0ms\n",
      "Speed: 1.8ms preprocess, 55.0ms inference, 0.9ms postprocess per image at shape (1, 3, 640, 480)\n"
     ]
    },
    {
     "name": "stderr",
     "output_type": "stream",
     "text": [
      " 79%|███████▊  | 370/470 [01:12<00:20,  4.90it/s]"
     ]
    },
    {
     "name": "stdout",
     "output_type": "stream",
     "text": [
      "\n",
      "image 1/1 d:\\img_processing\\raw_images\\c88b6bab-a4c4-4ff9-abda-6a858179bedc.jpg: 640x480 1 digital-board-medium, 56.0ms\n",
      "Speed: 1.5ms preprocess, 56.0ms inference, 0.9ms postprocess per image at shape (1, 3, 640, 480)\n"
     ]
    },
    {
     "name": "stderr",
     "output_type": "stream",
     "text": [
      " 79%|███████▉  | 371/470 [01:12<00:19,  5.01it/s]"
     ]
    },
    {
     "name": "stdout",
     "output_type": "stream",
     "text": [
      "\n",
      "image 1/1 d:\\img_processing\\raw_images\\c8a6bcfc-573e-41c8-9196-45bd55e9da08.jpg: 480x640 1 rectangle-wide-board, 52.6ms\n",
      "Speed: 2.1ms preprocess, 52.6ms inference, 0.8ms postprocess per image at shape (1, 3, 480, 640)\n"
     ]
    },
    {
     "name": "stderr",
     "output_type": "stream",
     "text": [
      " 79%|███████▉  | 372/470 [01:12<00:20,  4.82it/s]"
     ]
    },
    {
     "name": "stdout",
     "output_type": "stream",
     "text": [
      "\n",
      "image 1/1 d:\\img_processing\\raw_images\\c9124aac-520a-4f97-97d8-2c1581d31b0a.jpg: 640x480 1 mupi, 52.1ms\n",
      "Speed: 1.7ms preprocess, 52.1ms inference, 0.7ms postprocess per image at shape (1, 3, 640, 480)\n"
     ]
    },
    {
     "name": "stderr",
     "output_type": "stream",
     "text": [
      " 79%|███████▉  | 373/470 [01:12<00:19,  4.98it/s]"
     ]
    },
    {
     "name": "stdout",
     "output_type": "stream",
     "text": [
      "\n",
      "image 1/1 d:\\img_processing\\raw_images\\c91a0d24-ab17-42a4-8bf9-b54f02d6c2f5.jpg: 640x480 1 mupi, 54.9ms\n",
      "Speed: 1.8ms preprocess, 54.9ms inference, 0.8ms postprocess per image at shape (1, 3, 640, 480)\n"
     ]
    },
    {
     "name": "stderr",
     "output_type": "stream",
     "text": [
      " 80%|███████▉  | 374/470 [01:12<00:19,  5.01it/s]"
     ]
    },
    {
     "name": "stdout",
     "output_type": "stream",
     "text": [
      "\n",
      "image 1/1 d:\\img_processing\\raw_images\\c96a5545-305b-450e-b463-7851f1f385fe.jpg: 640x480 1 digital-board, 54.7ms\n",
      "Speed: 1.9ms preprocess, 54.7ms inference, 0.8ms postprocess per image at shape (1, 3, 640, 480)\n"
     ]
    },
    {
     "name": "stderr",
     "output_type": "stream",
     "text": [
      " 80%|███████▉  | 375/470 [01:13<00:18,  5.14it/s]"
     ]
    },
    {
     "name": "stdout",
     "output_type": "stream",
     "text": [
      "\n",
      "image 1/1 d:\\img_processing\\raw_images\\c995f137-7d6c-4d2c-83fd-6999711960f7.jpg: 640x320 1 mupi, 42.2ms\n",
      "Speed: 1.6ms preprocess, 42.2ms inference, 0.7ms postprocess per image at shape (1, 3, 640, 320)\n"
     ]
    },
    {
     "name": "stderr",
     "output_type": "stream",
     "text": [
      " 80%|████████  | 376/470 [01:13<00:17,  5.31it/s]"
     ]
    },
    {
     "name": "stdout",
     "output_type": "stream",
     "text": [
      "\n",
      "image 1/1 d:\\img_processing\\raw_images\\ca0966da-8cc5-4182-a266-703045c304d0.jpg: 640x320 1 digital-board-medium, 45.5ms\n",
      "Speed: 1.4ms preprocess, 45.5ms inference, 0.6ms postprocess per image at shape (1, 3, 640, 320)\n"
     ]
    },
    {
     "name": "stderr",
     "output_type": "stream",
     "text": [
      " 80%|████████  | 377/470 [01:13<00:17,  5.30it/s]"
     ]
    },
    {
     "name": "stdout",
     "output_type": "stream",
     "text": [
      "\n",
      "image 1/1 d:\\img_processing\\raw_images\\cab51c79-cecf-433b-9fc0-69f6517f9c81.jpg: 640x480 1 mupi, 52.5ms\n",
      "Speed: 1.7ms preprocess, 52.5ms inference, 0.7ms postprocess per image at shape (1, 3, 640, 480)\n"
     ]
    },
    {
     "name": "stderr",
     "output_type": "stream",
     "text": [
      " 80%|████████  | 378/470 [01:13<00:17,  5.19it/s]"
     ]
    },
    {
     "name": "stdout",
     "output_type": "stream",
     "text": [
      "\n",
      "image 1/1 d:\\img_processing\\raw_images\\cb549acc-878b-4bae-b3dd-43cf87b90f40.jpg: 640x480 1 digital-board, 51.6ms\n",
      "Speed: 1.6ms preprocess, 51.6ms inference, 0.7ms postprocess per image at shape (1, 3, 640, 480)\n"
     ]
    },
    {
     "name": "stderr",
     "output_type": "stream",
     "text": [
      " 81%|████████  | 379/470 [01:13<00:17,  5.23it/s]"
     ]
    },
    {
     "name": "stdout",
     "output_type": "stream",
     "text": [
      "\n",
      "image 1/1 d:\\img_processing\\raw_images\\cbb872b7-b504-415d-bf14-82053195a27e.jpg: 640x480 1 rectangle-wide-board, 56.0ms\n",
      "Speed: 1.5ms preprocess, 56.0ms inference, 0.7ms postprocess per image at shape (1, 3, 640, 480)\n"
     ]
    },
    {
     "name": "stderr",
     "output_type": "stream",
     "text": [
      " 81%|████████  | 380/470 [01:14<00:17,  5.13it/s]"
     ]
    },
    {
     "name": "stdout",
     "output_type": "stream",
     "text": [
      "\n",
      "image 1/1 d:\\img_processing\\raw_images\\cbba91b2-0caa-4413-b7d3-cd9dcadec93b.jpg: 640x480 (no detections), 58.5ms\n",
      "Speed: 1.6ms preprocess, 58.5ms inference, 0.5ms postprocess per image at shape (1, 3, 640, 480)\n",
      "\n",
      "image 1/1 d:\\img_processing\\raw_images\\cbc7063f-cc09-4c0d-9fad-4f057fb83c24.jpg: 640x480 1 digital-board-big, 52.5ms\n",
      "Speed: 1.6ms preprocess, 52.5ms inference, 0.9ms postprocess per image at shape (1, 3, 640, 480)\n"
     ]
    },
    {
     "name": "stderr",
     "output_type": "stream",
     "text": [
      " 81%|████████▏ | 382/470 [01:14<00:15,  5.55it/s]"
     ]
    },
    {
     "name": "stdout",
     "output_type": "stream",
     "text": [
      "\n",
      "image 1/1 d:\\img_processing\\raw_images\\ce5ecb34-bb9b-479a-aff0-2d43668d1031.jpg: 640x480 1 poster, 62.1ms\n",
      "Speed: 1.7ms preprocess, 62.1ms inference, 0.8ms postprocess per image at shape (1, 3, 640, 480)\n"
     ]
    },
    {
     "name": "stderr",
     "output_type": "stream",
     "text": [
      " 81%|████████▏ | 383/470 [01:14<00:17,  4.94it/s]"
     ]
    },
    {
     "name": "stdout",
     "output_type": "stream",
     "text": [
      "\n",
      "image 1/1 d:\\img_processing\\raw_images\\ce91329e-dd95-455b-beb0-04cb9e34a05f.jpg: 640x480 (no detections), 63.7ms\n",
      "Speed: 1.5ms preprocess, 63.7ms inference, 0.6ms postprocess per image at shape (1, 3, 640, 480)\n",
      "\n",
      "image 1/1 d:\\img_processing\\raw_images\\cf64bea1-6747-4fb6-8c83-0147fb30c2fd.jpg: 640x480 1 rectangle-wide-board, 65.1ms\n",
      "Speed: 2.0ms preprocess, 65.1ms inference, 1.4ms postprocess per image at shape (1, 3, 640, 480)\n"
     ]
    },
    {
     "name": "stderr",
     "output_type": "stream",
     "text": [
      " 82%|████████▏ | 385/470 [01:14<00:15,  5.55it/s]"
     ]
    },
    {
     "name": "stdout",
     "output_type": "stream",
     "text": [
      "\n",
      "image 1/1 d:\\img_processing\\raw_images\\cf92fcf1-cdea-481d-b487-deb62bef95f4.jpg: 640x480 1 digital-board, 68.7ms\n",
      "Speed: 2.8ms preprocess, 68.7ms inference, 0.9ms postprocess per image at shape (1, 3, 640, 480)\n"
     ]
    },
    {
     "name": "stderr",
     "output_type": "stream",
     "text": [
      " 82%|████████▏ | 386/470 [01:15<00:15,  5.29it/s]"
     ]
    },
    {
     "name": "stdout",
     "output_type": "stream",
     "text": [
      "\n",
      "image 1/1 d:\\img_processing\\raw_images\\d0782cd1-2249-4d71-b150-52626116cbfc.jpg: 640x480 1 mupi, 59.0ms\n",
      "Speed: 1.7ms preprocess, 59.0ms inference, 1.0ms postprocess per image at shape (1, 3, 640, 480)\n"
     ]
    },
    {
     "name": "stderr",
     "output_type": "stream",
     "text": [
      " 82%|████████▏ | 387/470 [01:15<00:17,  4.79it/s]"
     ]
    },
    {
     "name": "stdout",
     "output_type": "stream",
     "text": [
      "\n",
      "image 1/1 d:\\img_processing\\raw_images\\d0b1e6c3-24b0-4e3e-be17-97bdce2caded.jpg: 640x480 1 rectangle-wide-board, 57.0ms\n",
      "Speed: 1.7ms preprocess, 57.0ms inference, 1.0ms postprocess per image at shape (1, 3, 640, 480)\n"
     ]
    },
    {
     "name": "stderr",
     "output_type": "stream",
     "text": [
      " 83%|████████▎ | 388/470 [01:15<00:17,  4.81it/s]"
     ]
    },
    {
     "name": "stdout",
     "output_type": "stream",
     "text": [
      "\n",
      "image 1/1 d:\\img_processing\\raw_images\\d14fafd7-4f21-4d94-852e-fcda3a6977a0.jpg: 640x480 1 mupi, 53.6ms\n",
      "Speed: 1.5ms preprocess, 53.6ms inference, 1.1ms postprocess per image at shape (1, 3, 640, 480)\n"
     ]
    },
    {
     "name": "stderr",
     "output_type": "stream",
     "text": [
      " 83%|████████▎ | 389/470 [01:15<00:16,  4.87it/s]"
     ]
    },
    {
     "name": "stdout",
     "output_type": "stream",
     "text": [
      "\n",
      "image 1/1 d:\\img_processing\\raw_images\\d151fc85-19a4-4b0b-be66-e57c71b069b5.jpg: 640x480 1 mupi, 53.5ms\n",
      "Speed: 1.8ms preprocess, 53.5ms inference, 0.8ms postprocess per image at shape (1, 3, 640, 480)\n"
     ]
    },
    {
     "name": "stderr",
     "output_type": "stream",
     "text": [
      " 83%|████████▎ | 390/470 [01:16<00:16,  4.90it/s]"
     ]
    },
    {
     "name": "stdout",
     "output_type": "stream",
     "text": [
      "\n",
      "image 1/1 d:\\img_processing\\raw_images\\d29e19ea-7b98-4361-87a1-9e263edea420.jpg: 640x320 1 mupi, 44.2ms\n",
      "Speed: 1.3ms preprocess, 44.2ms inference, 0.7ms postprocess per image at shape (1, 3, 640, 320)\n"
     ]
    },
    {
     "name": "stderr",
     "output_type": "stream",
     "text": [
      " 83%|████████▎ | 391/470 [01:16<00:15,  4.96it/s]"
     ]
    },
    {
     "name": "stdout",
     "output_type": "stream",
     "text": [
      "\n",
      "image 1/1 d:\\img_processing\\raw_images\\d2a9e2f0-2b9b-46cc-a1c0-a5e6aa35d5cc.jpg: 640x320 1 mupi, 41.4ms\n",
      "Speed: 1.6ms preprocess, 41.4ms inference, 0.7ms postprocess per image at shape (1, 3, 640, 320)\n"
     ]
    },
    {
     "name": "stderr",
     "output_type": "stream",
     "text": [
      " 83%|████████▎ | 392/470 [01:16<00:16,  4.78it/s]"
     ]
    },
    {
     "name": "stdout",
     "output_type": "stream",
     "text": [
      "\n",
      "image 1/1 d:\\img_processing\\raw_images\\d2b70f9d-0585-4157-b4a9-2c43f52d152b.jpg: 640x480 1 mupi, 49.0ms\n",
      "Speed: 1.7ms preprocess, 49.0ms inference, 1.4ms postprocess per image at shape (1, 3, 640, 480)\n"
     ]
    },
    {
     "name": "stderr",
     "output_type": "stream",
     "text": [
      " 84%|████████▎ | 393/470 [01:16<00:15,  4.88it/s]"
     ]
    },
    {
     "name": "stdout",
     "output_type": "stream",
     "text": [
      "\n",
      "image 1/1 d:\\img_processing\\raw_images\\d4148276-c15a-4d86-9101-d130409b01b4.jpg: 640x480 1 mupi, 53.2ms\n",
      "Speed: 1.9ms preprocess, 53.2ms inference, 0.9ms postprocess per image at shape (1, 3, 640, 480)\n"
     ]
    },
    {
     "name": "stderr",
     "output_type": "stream",
     "text": [
      " 84%|████████▍ | 394/470 [01:16<00:15,  4.94it/s]"
     ]
    },
    {
     "name": "stdout",
     "output_type": "stream",
     "text": [
      "\n",
      "image 1/1 d:\\img_processing\\raw_images\\d4622cb3-17f2-482b-8fce-8a14af94abdf.jpg: 640x480 1 mupi, 55.2ms\n",
      "Speed: 1.7ms preprocess, 55.2ms inference, 0.8ms postprocess per image at shape (1, 3, 640, 480)\n"
     ]
    },
    {
     "name": "stderr",
     "output_type": "stream",
     "text": [
      " 84%|████████▍ | 395/470 [01:17<00:15,  4.93it/s]"
     ]
    },
    {
     "name": "stdout",
     "output_type": "stream",
     "text": [
      "\n",
      "image 1/1 d:\\img_processing\\raw_images\\d4e54dfe-b07e-4fff-b6fa-6bb9adb79a12.jpg: 640x480 1 mupi, 54.0ms\n",
      "Speed: 1.6ms preprocess, 54.0ms inference, 0.8ms postprocess per image at shape (1, 3, 640, 480)\n"
     ]
    },
    {
     "name": "stderr",
     "output_type": "stream",
     "text": [
      " 84%|████████▍ | 396/470 [01:17<00:14,  4.97it/s]"
     ]
    },
    {
     "name": "stdout",
     "output_type": "stream",
     "text": [
      "\n",
      "image 1/1 d:\\img_processing\\raw_images\\d505e93e-4372-4329-8a84-7e94760952db.jpg: 640x320 1 mupi, 43.4ms\n",
      "Speed: 1.2ms preprocess, 43.4ms inference, 0.6ms postprocess per image at shape (1, 3, 640, 320)\n"
     ]
    },
    {
     "name": "stderr",
     "output_type": "stream",
     "text": [
      " 84%|████████▍ | 397/470 [01:17<00:14,  5.13it/s]"
     ]
    },
    {
     "name": "stdout",
     "output_type": "stream",
     "text": [
      "\n",
      "image 1/1 d:\\img_processing\\raw_images\\d810d5de-6f2a-4049-bc21-225e4a631691.jpg: 640x320 1 mupi, 50.3ms\n",
      "Speed: 1.4ms preprocess, 50.3ms inference, 0.7ms postprocess per image at shape (1, 3, 640, 320)\n"
     ]
    },
    {
     "name": "stderr",
     "output_type": "stream",
     "text": [
      " 85%|████████▍ | 398/470 [01:17<00:13,  5.16it/s]"
     ]
    },
    {
     "name": "stdout",
     "output_type": "stream",
     "text": [
      "\n",
      "image 1/1 d:\\img_processing\\raw_images\\d8a92e55-7efe-451d-be5f-f1f000fbf005.jpg: 640x480 1 mupi, 55.3ms\n",
      "Speed: 1.7ms preprocess, 55.3ms inference, 0.7ms postprocess per image at shape (1, 3, 640, 480)\n"
     ]
    },
    {
     "name": "stderr",
     "output_type": "stream",
     "text": [
      " 85%|████████▍ | 399/470 [01:17<00:13,  5.12it/s]"
     ]
    },
    {
     "name": "stdout",
     "output_type": "stream",
     "text": [
      "\n",
      "image 1/1 d:\\img_processing\\raw_images\\d985cba1-9f30-4ee6-9c10-61b5645f1997.jpg: 640x480 (no detections), 67.5ms\n",
      "Speed: 1.7ms preprocess, 67.5ms inference, 0.6ms postprocess per image at shape (1, 3, 640, 480)\n",
      "\n",
      "image 1/1 d:\\img_processing\\raw_images\\d9b7aca8-7a87-461b-8f2c-b7fcf9ea7799.jpg: 640x480 1 digital-board, 56.5ms\n",
      "Speed: 1.7ms preprocess, 56.5ms inference, 1.1ms postprocess per image at shape (1, 3, 640, 480)\n"
     ]
    },
    {
     "name": "stderr",
     "output_type": "stream",
     "text": [
      " 85%|████████▌ | 401/470 [01:18<00:11,  5.93it/s]"
     ]
    },
    {
     "name": "stdout",
     "output_type": "stream",
     "text": [
      "\n",
      "image 1/1 d:\\img_processing\\raw_images\\da3a3a13-366b-4082-871a-047f7498e12f.jpg: 640x480 1 rectangle-wide-board, 71.5ms\n",
      "Speed: 1.8ms preprocess, 71.5ms inference, 1.0ms postprocess per image at shape (1, 3, 640, 480)\n"
     ]
    },
    {
     "name": "stderr",
     "output_type": "stream",
     "text": [
      " 86%|████████▌ | 402/470 [01:18<00:12,  5.57it/s]"
     ]
    },
    {
     "name": "stdout",
     "output_type": "stream",
     "text": [
      "\n",
      "image 1/1 d:\\img_processing\\raw_images\\dab700fc-82eb-49b5-b683-ba4c8c9a8435.jpg: 640x480 1 mupi, 59.4ms\n",
      "Speed: 1.7ms preprocess, 59.4ms inference, 0.8ms postprocess per image at shape (1, 3, 640, 480)\n"
     ]
    },
    {
     "name": "stderr",
     "output_type": "stream",
     "text": [
      " 86%|████████▌ | 403/470 [01:18<00:12,  5.31it/s]"
     ]
    },
    {
     "name": "stdout",
     "output_type": "stream",
     "text": [
      "\n",
      "image 1/1 d:\\img_processing\\raw_images\\dafca299-e6f0-4dd9-81bc-774d281eaef4.jpg: 480x640 1 digital-board-big, 52.4ms\n",
      "Speed: 1.7ms preprocess, 52.4ms inference, 0.8ms postprocess per image at shape (1, 3, 480, 640)\n"
     ]
    },
    {
     "name": "stderr",
     "output_type": "stream",
     "text": [
      " 86%|████████▌ | 404/470 [01:18<00:13,  4.87it/s]"
     ]
    },
    {
     "name": "stdout",
     "output_type": "stream",
     "text": [
      "\n",
      "image 1/1 d:\\img_processing\\raw_images\\db615e0d-cd16-48c4-8b29-c915bae5afcb.jpg: 640x480 1 mupi, 52.8ms\n",
      "Speed: 1.7ms preprocess, 52.8ms inference, 0.6ms postprocess per image at shape (1, 3, 640, 480)\n"
     ]
    },
    {
     "name": "stderr",
     "output_type": "stream",
     "text": [
      " 86%|████████▌ | 405/470 [01:19<00:13,  5.00it/s]"
     ]
    },
    {
     "name": "stdout",
     "output_type": "stream",
     "text": [
      "\n",
      "image 1/1 d:\\img_processing\\raw_images\\dc2d8e89-19c9-4604-bc7a-6ec142530a59.jpg: 640x480 1 mupi, 48.0ms\n",
      "Speed: 1.8ms preprocess, 48.0ms inference, 0.7ms postprocess per image at shape (1, 3, 640, 480)\n"
     ]
    },
    {
     "name": "stderr",
     "output_type": "stream",
     "text": [
      " 86%|████████▋ | 406/470 [01:19<00:12,  5.18it/s]"
     ]
    },
    {
     "name": "stdout",
     "output_type": "stream",
     "text": [
      "\n",
      "image 1/1 d:\\img_processing\\raw_images\\dc3c6247-d5d1-48ca-aadc-215120a7ff00.jpg: 640x480 1 digital-board-medium, 53.3ms\n",
      "Speed: 1.8ms preprocess, 53.3ms inference, 0.8ms postprocess per image at shape (1, 3, 640, 480)\n"
     ]
    },
    {
     "name": "stderr",
     "output_type": "stream",
     "text": [
      " 87%|████████▋ | 407/470 [01:19<00:12,  5.25it/s]"
     ]
    },
    {
     "name": "stdout",
     "output_type": "stream",
     "text": [
      "\n",
      "image 1/1 d:\\img_processing\\raw_images\\dc7d817d-fc7e-435d-be8c-43a0a79e8901.jpg: 640x480 1 mupi, 54.5ms\n",
      "Speed: 1.7ms preprocess, 54.5ms inference, 0.8ms postprocess per image at shape (1, 3, 640, 480)\n"
     ]
    },
    {
     "name": "stderr",
     "output_type": "stream",
     "text": [
      " 87%|████████▋ | 408/470 [01:19<00:12,  5.15it/s]"
     ]
    },
    {
     "name": "stdout",
     "output_type": "stream",
     "text": [
      "\n",
      "image 1/1 d:\\img_processing\\raw_images\\dc85f328-bb63-4c63-841c-58b33aef2e54.jpg: 640x480 1 mupi, 55.6ms\n",
      "Speed: 1.8ms preprocess, 55.6ms inference, 0.8ms postprocess per image at shape (1, 3, 640, 480)\n"
     ]
    },
    {
     "name": "stderr",
     "output_type": "stream",
     "text": [
      " 87%|████████▋ | 409/470 [01:19<00:12,  4.89it/s]"
     ]
    },
    {
     "name": "stdout",
     "output_type": "stream",
     "text": [
      "\n",
      "image 1/1 d:\\img_processing\\raw_images\\dc8703cf-50f8-4aec-8e5c-7f03a6449d32.jpg: 640x480 1 mupi, 54.1ms\n",
      "Speed: 1.6ms preprocess, 54.1ms inference, 0.8ms postprocess per image at shape (1, 3, 640, 480)\n"
     ]
    },
    {
     "name": "stderr",
     "output_type": "stream",
     "text": [
      " 87%|████████▋ | 410/470 [01:20<00:12,  4.78it/s]"
     ]
    },
    {
     "name": "stdout",
     "output_type": "stream",
     "text": [
      "\n",
      "image 1/1 d:\\img_processing\\raw_images\\dca76a93-ead1-4ae7-aa2d-1dcf78743bd8.jpg: 640x320 1 mupi, 49.2ms\n",
      "Speed: 1.1ms preprocess, 49.2ms inference, 0.7ms postprocess per image at shape (1, 3, 640, 320)\n"
     ]
    },
    {
     "name": "stderr",
     "output_type": "stream",
     "text": [
      " 87%|████████▋ | 411/470 [01:20<00:11,  4.94it/s]"
     ]
    },
    {
     "name": "stdout",
     "output_type": "stream",
     "text": [
      "\n",
      "image 1/1 d:\\img_processing\\raw_images\\ddd65bfb-f584-4f48-af4f-ab36e442c09f.jpg: 640x480 1 poster, 50.6ms\n",
      "Speed: 1.8ms preprocess, 50.6ms inference, 0.7ms postprocess per image at shape (1, 3, 640, 480)\n"
     ]
    },
    {
     "name": "stderr",
     "output_type": "stream",
     "text": [
      " 88%|████████▊ | 412/470 [01:20<00:12,  4.69it/s]"
     ]
    },
    {
     "name": "stdout",
     "output_type": "stream",
     "text": [
      "\n",
      "image 1/1 d:\\img_processing\\raw_images\\de858b01-9dfb-4866-842e-88f2bfb78933.jpg: 640x320 1 mupi, 42.7ms\n",
      "Speed: 1.4ms preprocess, 42.7ms inference, 0.7ms postprocess per image at shape (1, 3, 640, 320)\n"
     ]
    },
    {
     "name": "stderr",
     "output_type": "stream",
     "text": [
      " 88%|████████▊ | 413/470 [01:20<00:11,  4.82it/s]"
     ]
    },
    {
     "name": "stdout",
     "output_type": "stream",
     "text": [
      "\n",
      "image 1/1 d:\\img_processing\\raw_images\\e00a3ed1-523b-4330-ace2-b12f6c9d4822.jpg: 640x320 1 mupi, 47.5ms\n",
      "Speed: 1.6ms preprocess, 47.5ms inference, 0.7ms postprocess per image at shape (1, 3, 640, 320)\n"
     ]
    },
    {
     "name": "stderr",
     "output_type": "stream",
     "text": [
      " 88%|████████▊ | 414/470 [01:20<00:11,  4.96it/s]"
     ]
    },
    {
     "name": "stdout",
     "output_type": "stream",
     "text": [
      "\n",
      "image 1/1 d:\\img_processing\\raw_images\\e0b93f55-903d-44d1-a534-5da526876670.jpg: 640x480 1 mupi, 56.5ms\n",
      "Speed: 2.7ms preprocess, 56.5ms inference, 0.6ms postprocess per image at shape (1, 3, 640, 480)\n"
     ]
    },
    {
     "name": "stderr",
     "output_type": "stream",
     "text": [
      " 88%|████████▊ | 415/470 [01:21<00:10,  5.01it/s]"
     ]
    },
    {
     "name": "stdout",
     "output_type": "stream",
     "text": [
      "\n",
      "image 1/1 d:\\img_processing\\raw_images\\e18fdf07-edc2-4085-bb34-e54f4099b89f.jpg: 640x480 1 digital-board, 48.7ms\n",
      "Speed: 1.7ms preprocess, 48.7ms inference, 1.2ms postprocess per image at shape (1, 3, 640, 480)\n"
     ]
    },
    {
     "name": "stderr",
     "output_type": "stream",
     "text": [
      " 89%|████████▊ | 416/470 [01:21<00:10,  5.11it/s]"
     ]
    },
    {
     "name": "stdout",
     "output_type": "stream",
     "text": [
      "\n",
      "image 1/1 d:\\img_processing\\raw_images\\e25760f8-b453-409c-bb97-c80e1b777438.jpg: 640x480 1 digital-board, 52.6ms\n",
      "Speed: 1.8ms preprocess, 52.6ms inference, 0.7ms postprocess per image at shape (1, 3, 640, 480)\n"
     ]
    },
    {
     "name": "stderr",
     "output_type": "stream",
     "text": [
      " 89%|████████▊ | 417/470 [01:21<00:10,  5.23it/s]"
     ]
    },
    {
     "name": "stdout",
     "output_type": "stream",
     "text": [
      "\n",
      "image 1/1 d:\\img_processing\\raw_images\\e25a03a5-13fc-4632-91fb-2d4de2c9a336.jpg: 640x480 (no detections), 59.7ms\n",
      "Speed: 1.8ms preprocess, 59.7ms inference, 0.5ms postprocess per image at shape (1, 3, 640, 480)\n",
      "\n",
      "image 1/1 d:\\img_processing\\raw_images\\e31c68e3-c06f-4ae7-a146-265974ea03d6.jpg: 640x480 1 digital-board, 55.7ms\n",
      "Speed: 1.7ms preprocess, 55.7ms inference, 0.8ms postprocess per image at shape (1, 3, 640, 480)\n"
     ]
    },
    {
     "name": "stderr",
     "output_type": "stream",
     "text": [
      " 89%|████████▉ | 419/470 [01:21<00:08,  6.11it/s]"
     ]
    },
    {
     "name": "stdout",
     "output_type": "stream",
     "text": [
      "\n",
      "image 1/1 d:\\img_processing\\raw_images\\e3b57684-fdfb-4f38-8241-1dadd9ebfe33.jpg: 640x480 1 digital-board-medium, 52.1ms\n",
      "Speed: 1.9ms preprocess, 52.1ms inference, 0.9ms postprocess per image at shape (1, 3, 640, 480)\n"
     ]
    },
    {
     "name": "stderr",
     "output_type": "stream",
     "text": [
      " 89%|████████▉ | 420/470 [01:21<00:08,  5.85it/s]"
     ]
    },
    {
     "name": "stdout",
     "output_type": "stream",
     "text": [
      "\n",
      "image 1/1 d:\\img_processing\\raw_images\\e414bd22-9c06-4789-82ff-1ac0dc55eb90.jpg: 640x320 1 poster, 41.4ms\n",
      "Speed: 1.7ms preprocess, 41.4ms inference, 0.8ms postprocess per image at shape (1, 3, 640, 320)\n"
     ]
    },
    {
     "name": "stderr",
     "output_type": "stream",
     "text": [
      " 90%|████████▉ | 421/470 [01:22<00:08,  5.83it/s]"
     ]
    },
    {
     "name": "stdout",
     "output_type": "stream",
     "text": [
      "\n",
      "image 1/1 d:\\img_processing\\raw_images\\e44b9b43-342c-40a3-8d13-3b5d28ad147b.jpg: 640x480 1 mupi, 54.1ms\n",
      "Speed: 1.5ms preprocess, 54.1ms inference, 0.7ms postprocess per image at shape (1, 3, 640, 480)\n"
     ]
    },
    {
     "name": "stderr",
     "output_type": "stream",
     "text": [
      " 90%|████████▉ | 422/470 [01:22<00:09,  5.26it/s]"
     ]
    },
    {
     "name": "stdout",
     "output_type": "stream",
     "text": [
      "\n",
      "image 1/1 d:\\img_processing\\raw_images\\e4776fee-8a8d-4448-acfb-a1f9cf5f64e6.jpg: 640x480 1 mupi, 51.2ms\n",
      "Speed: 1.6ms preprocess, 51.2ms inference, 0.9ms postprocess per image at shape (1, 3, 640, 480)\n"
     ]
    },
    {
     "name": "stderr",
     "output_type": "stream",
     "text": [
      " 90%|█████████ | 423/470 [01:22<00:09,  5.15it/s]"
     ]
    },
    {
     "name": "stdout",
     "output_type": "stream",
     "text": [
      "\n",
      "image 1/1 d:\\img_processing\\raw_images\\e56cbe2f-39dd-4cf4-875e-80941ae2026f.jpg: 640x480 1 digital-board-medium, 54.9ms\n",
      "Speed: 1.7ms preprocess, 54.9ms inference, 0.8ms postprocess per image at shape (1, 3, 640, 480)\n"
     ]
    },
    {
     "name": "stderr",
     "output_type": "stream",
     "text": [
      " 90%|█████████ | 424/470 [01:22<00:09,  5.07it/s]"
     ]
    },
    {
     "name": "stdout",
     "output_type": "stream",
     "text": [
      "\n",
      "image 1/1 d:\\img_processing\\raw_images\\e5afa44d-54fc-4a4e-a628-5519b76fcd59.jpg: 640x480 1 digital-board-medium, 51.5ms\n",
      "Speed: 2.4ms preprocess, 51.5ms inference, 0.7ms postprocess per image at shape (1, 3, 640, 480)\n"
     ]
    },
    {
     "name": "stderr",
     "output_type": "stream",
     "text": [
      " 90%|█████████ | 425/470 [01:22<00:08,  5.02it/s]"
     ]
    },
    {
     "name": "stdout",
     "output_type": "stream",
     "text": [
      "\n",
      "image 1/1 d:\\img_processing\\raw_images\\e5b3ed7c-4ad0-40e6-8c0b-c39614b1ed36.jpg: 640x480 (no detections), 52.7ms\n",
      "Speed: 2.7ms preprocess, 52.7ms inference, 0.5ms postprocess per image at shape (1, 3, 640, 480)\n",
      "\n",
      "image 1/1 d:\\img_processing\\raw_images\\e5d7447a-6d37-4eba-a147-ae4b3a0672fa.jpg: 640x320 1 mupi, 47.0ms\n",
      "Speed: 1.2ms preprocess, 47.0ms inference, 0.8ms postprocess per image at shape (1, 3, 640, 320)\n"
     ]
    },
    {
     "name": "stderr",
     "output_type": "stream",
     "text": [
      " 91%|█████████ | 427/470 [01:23<00:07,  6.06it/s]"
     ]
    },
    {
     "name": "stdout",
     "output_type": "stream",
     "text": [
      "\n",
      "image 1/1 d:\\img_processing\\raw_images\\e60f0bd8-3a22-49d8-a614-30e8611ba108.jpg: 640x480 1 rectangle-wide-board, 51.2ms\n",
      "Speed: 2.1ms preprocess, 51.2ms inference, 0.7ms postprocess per image at shape (1, 3, 640, 480)\n"
     ]
    },
    {
     "name": "stderr",
     "output_type": "stream",
     "text": [
      " 91%|█████████ | 428/470 [01:23<00:07,  5.91it/s]"
     ]
    },
    {
     "name": "stdout",
     "output_type": "stream",
     "text": [
      "\n",
      "image 1/1 d:\\img_processing\\raw_images\\e6a8f90e-3808-4199-a892-fc4620ee1699.jpg: 640x320 1 mupi, 43.6ms\n",
      "Speed: 1.3ms preprocess, 43.6ms inference, 0.6ms postprocess per image at shape (1, 3, 640, 320)\n"
     ]
    },
    {
     "name": "stderr",
     "output_type": "stream",
     "text": [
      " 91%|█████████▏| 429/470 [01:23<00:06,  5.87it/s]"
     ]
    },
    {
     "name": "stdout",
     "output_type": "stream",
     "text": [
      "\n",
      "image 1/1 d:\\img_processing\\raw_images\\e6df0646-2049-4de7-8463-5354af0ac236.jpg: 640x480 1 rectangle-wide-board, 52.7ms\n",
      "Speed: 1.7ms preprocess, 52.7ms inference, 0.7ms postprocess per image at shape (1, 3, 640, 480)\n"
     ]
    },
    {
     "name": "stderr",
     "output_type": "stream",
     "text": [
      " 91%|█████████▏| 430/470 [01:23<00:07,  5.57it/s]"
     ]
    },
    {
     "name": "stdout",
     "output_type": "stream",
     "text": [
      "\n",
      "image 1/1 d:\\img_processing\\raw_images\\e739a438-94c0-4523-8f90-563eac94500e.jpg: 640x480 1 mupi, 54.4ms\n",
      "Speed: 1.6ms preprocess, 54.4ms inference, 0.7ms postprocess per image at shape (1, 3, 640, 480)\n"
     ]
    },
    {
     "name": "stderr",
     "output_type": "stream",
     "text": [
      " 92%|█████████▏| 431/470 [01:23<00:07,  5.00it/s]"
     ]
    },
    {
     "name": "stdout",
     "output_type": "stream",
     "text": [
      "\n",
      "image 1/1 d:\\img_processing\\raw_images\\e79fc7f5-d62a-440b-82d0-4ec5ccd1118b.jpg: 640x480 1 poster, 55.7ms\n",
      "Speed: 1.8ms preprocess, 55.7ms inference, 0.7ms postprocess per image at shape (1, 3, 640, 480)\n"
     ]
    },
    {
     "name": "stderr",
     "output_type": "stream",
     "text": [
      " 92%|█████████▏| 432/470 [01:24<00:08,  4.56it/s]"
     ]
    },
    {
     "name": "stdout",
     "output_type": "stream",
     "text": [
      "\n",
      "image 1/1 d:\\img_processing\\raw_images\\e86c637d-2ccd-4c9c-a77f-1037ebeede18.jpg: 640x480 1 mupi, 54.7ms\n",
      "Speed: 1.8ms preprocess, 54.7ms inference, 0.8ms postprocess per image at shape (1, 3, 640, 480)\n"
     ]
    },
    {
     "name": "stderr",
     "output_type": "stream",
     "text": [
      " 92%|█████████▏| 433/470 [01:24<00:08,  4.54it/s]"
     ]
    },
    {
     "name": "stdout",
     "output_type": "stream",
     "text": [
      "\n",
      "image 1/1 d:\\img_processing\\raw_images\\e8ba2332-2adf-4fb0-8499-fe1be21438d1.jpg: 640x480 1 digital-board-medium, 57.7ms\n",
      "Speed: 1.8ms preprocess, 57.7ms inference, 0.8ms postprocess per image at shape (1, 3, 640, 480)\n"
     ]
    },
    {
     "name": "stderr",
     "output_type": "stream",
     "text": [
      " 92%|█████████▏| 434/470 [01:24<00:07,  4.61it/s]"
     ]
    },
    {
     "name": "stdout",
     "output_type": "stream",
     "text": [
      "\n",
      "image 1/1 d:\\img_processing\\raw_images\\e8da8d50-75b9-44b3-afe9-c7f37cfa5cd9.jpg: 640x480 1 digital-board-medium, 57.6ms\n",
      "Speed: 2.1ms preprocess, 57.6ms inference, 0.7ms postprocess per image at shape (1, 3, 640, 480)\n"
     ]
    },
    {
     "name": "stderr",
     "output_type": "stream",
     "text": [
      " 93%|█████████▎| 435/470 [01:24<00:07,  4.74it/s]"
     ]
    },
    {
     "name": "stdout",
     "output_type": "stream",
     "text": [
      "\n",
      "image 1/1 d:\\img_processing\\raw_images\\e90d359e-f987-4475-b127-a35377aa5cf5.jpg: 640x480 1 digital-board-medium, 61.8ms\n",
      "Speed: 1.7ms preprocess, 61.8ms inference, 1.4ms postprocess per image at shape (1, 3, 640, 480)\n"
     ]
    },
    {
     "name": "stderr",
     "output_type": "stream",
     "text": [
      " 93%|█████████▎| 436/470 [01:25<00:07,  4.48it/s]"
     ]
    },
    {
     "name": "stdout",
     "output_type": "stream",
     "text": [
      "\n",
      "image 1/1 d:\\img_processing\\raw_images\\e9c1b549-6514-45cd-af04-95cc6de250a7.jpg: 640x320 1 mupi, 51.9ms\n",
      "Speed: 1.2ms preprocess, 51.9ms inference, 0.7ms postprocess per image at shape (1, 3, 640, 320)\n"
     ]
    },
    {
     "name": "stderr",
     "output_type": "stream",
     "text": [
      " 93%|█████████▎| 437/470 [01:25<00:06,  4.73it/s]"
     ]
    },
    {
     "name": "stdout",
     "output_type": "stream",
     "text": [
      "\n",
      "image 1/1 d:\\img_processing\\raw_images\\ebedc611-924e-44df-aeae-67373ca44d2d.jpg: 640x320 1 mupi, 53.2ms\n",
      "Speed: 1.5ms preprocess, 53.2ms inference, 0.8ms postprocess per image at shape (1, 3, 640, 320)\n"
     ]
    },
    {
     "name": "stderr",
     "output_type": "stream",
     "text": [
      " 93%|█████████▎| 438/470 [01:25<00:06,  4.88it/s]"
     ]
    },
    {
     "name": "stdout",
     "output_type": "stream",
     "text": [
      "\n",
      "image 1/1 d:\\img_processing\\raw_images\\ec1c7db6-2a5f-49fb-b0ad-8bfdfeb7fd26.jpg: 640x480 1 digital-board-medium, 60.9ms\n",
      "Speed: 1.8ms preprocess, 60.9ms inference, 0.8ms postprocess per image at shape (1, 3, 640, 480)\n"
     ]
    },
    {
     "name": "stderr",
     "output_type": "stream",
     "text": [
      " 93%|█████████▎| 439/470 [01:25<00:06,  4.73it/s]"
     ]
    },
    {
     "name": "stdout",
     "output_type": "stream",
     "text": [
      "\n",
      "image 1/1 d:\\img_processing\\raw_images\\eccda547-cc03-411e-9798-b1ff5a5d818d.jpg: 640x480 1 mupi, 56.5ms\n",
      "Speed: 1.6ms preprocess, 56.5ms inference, 0.9ms postprocess per image at shape (1, 3, 640, 480)\n"
     ]
    },
    {
     "name": "stderr",
     "output_type": "stream",
     "text": [
      " 94%|█████████▎| 440/470 [01:25<00:06,  4.65it/s]"
     ]
    },
    {
     "name": "stdout",
     "output_type": "stream",
     "text": [
      "\n",
      "image 1/1 d:\\img_processing\\raw_images\\ee680fa0-1b42-49bf-83d0-4a4c0cdc5037.jpg: 640x480 1 rectangle-wide-board, 64.6ms\n",
      "Speed: 1.7ms preprocess, 64.6ms inference, 0.8ms postprocess per image at shape (1, 3, 640, 480)\n"
     ]
    },
    {
     "name": "stderr",
     "output_type": "stream",
     "text": [
      " 94%|█████████▍| 441/470 [01:26<00:06,  4.69it/s]"
     ]
    },
    {
     "name": "stdout",
     "output_type": "stream",
     "text": [
      "\n",
      "image 1/1 d:\\img_processing\\raw_images\\eedc5bfe-ac96-4b64-9b9c-d6cea6d38c2a.jpg: 640x320 1 mupi, 46.9ms\n",
      "Speed: 1.6ms preprocess, 46.9ms inference, 0.8ms postprocess per image at shape (1, 3, 640, 320)\n"
     ]
    },
    {
     "name": "stderr",
     "output_type": "stream",
     "text": [
      " 94%|█████████▍| 442/470 [01:26<00:05,  4.86it/s]"
     ]
    },
    {
     "name": "stdout",
     "output_type": "stream",
     "text": [
      "\n",
      "image 1/1 d:\\img_processing\\raw_images\\ef4ba5c2-c589-4bf4-9aaf-32723fa37953.jpg: 640x480 1 rectangle-wide-board, 70.4ms\n",
      "Speed: 1.8ms preprocess, 70.4ms inference, 1.1ms postprocess per image at shape (1, 3, 640, 480)\n"
     ]
    },
    {
     "name": "stderr",
     "output_type": "stream",
     "text": [
      " 94%|█████████▍| 443/470 [01:26<00:05,  4.79it/s]"
     ]
    },
    {
     "name": "stdout",
     "output_type": "stream",
     "text": [
      "\n",
      "image 1/1 d:\\img_processing\\raw_images\\f00d4f13-ec54-478c-8a42-ac7f6362de26.jpg: 640x480 1 rectangle-wide-board, 61.3ms\n",
      "Speed: 1.9ms preprocess, 61.3ms inference, 0.7ms postprocess per image at shape (1, 3, 640, 480)\n"
     ]
    },
    {
     "name": "stderr",
     "output_type": "stream",
     "text": [
      " 94%|█████████▍| 444/470 [01:26<00:05,  4.83it/s]"
     ]
    },
    {
     "name": "stdout",
     "output_type": "stream",
     "text": [
      "\n",
      "image 1/1 d:\\img_processing\\raw_images\\f1152713-060b-4c0b-b001-d9e7caf37944.jpg: 640x320 (no detections), 47.0ms\n",
      "Speed: 1.2ms preprocess, 47.0ms inference, 0.4ms postprocess per image at shape (1, 3, 640, 320)\n",
      "\n",
      "image 1/1 d:\\img_processing\\raw_images\\f23cb19a-3170-465c-b9a9-99dc07471f39.jpg: 640x480 1 digital-board, 59.4ms\n",
      "Speed: 1.7ms preprocess, 59.4ms inference, 1.2ms postprocess per image at shape (1, 3, 640, 480)\n"
     ]
    },
    {
     "name": "stderr",
     "output_type": "stream",
     "text": [
      " 95%|█████████▍| 446/470 [01:26<00:04,  5.88it/s]"
     ]
    },
    {
     "name": "stdout",
     "output_type": "stream",
     "text": [
      "\n",
      "image 1/1 d:\\img_processing\\raw_images\\f2a2621e-87b6-4c98-affd-9dc91d2bd50e.jpg: 640x480 1 poster, 55.8ms\n",
      "Speed: 1.7ms preprocess, 55.8ms inference, 0.9ms postprocess per image at shape (1, 3, 640, 480)\n"
     ]
    },
    {
     "name": "stderr",
     "output_type": "stream",
     "text": [
      " 95%|█████████▌| 447/470 [01:27<00:04,  5.69it/s]"
     ]
    },
    {
     "name": "stdout",
     "output_type": "stream",
     "text": [
      "\n",
      "image 1/1 d:\\img_processing\\raw_images\\f340345d-3b92-45d4-8489-394abdf353e5.jpg: 640x480 1 digital-board, 54.7ms\n",
      "Speed: 1.7ms preprocess, 54.7ms inference, 1.0ms postprocess per image at shape (1, 3, 640, 480)\n"
     ]
    },
    {
     "name": "stderr",
     "output_type": "stream",
     "text": [
      " 95%|█████████▌| 448/470 [01:27<00:03,  5.56it/s]"
     ]
    },
    {
     "name": "stdout",
     "output_type": "stream",
     "text": [
      "\n",
      "image 1/1 d:\\img_processing\\raw_images\\f38334a6-e53b-4370-9056-99432dbd0c39.jpg: 640x480 (no detections), 55.5ms\n",
      "Speed: 1.8ms preprocess, 55.5ms inference, 0.5ms postprocess per image at shape (1, 3, 640, 480)\n",
      "\n",
      "image 1/1 d:\\img_processing\\raw_images\\f3e0ab1c-de2a-4858-8c91-f823266199ac.jpg: 640x480 1 digital-board, 51.7ms\n",
      "Speed: 1.7ms preprocess, 51.7ms inference, 1.0ms postprocess per image at shape (1, 3, 640, 480)\n"
     ]
    },
    {
     "name": "stderr",
     "output_type": "stream",
     "text": [
      " 96%|█████████▌| 450/470 [01:27<00:03,  6.21it/s]"
     ]
    },
    {
     "name": "stdout",
     "output_type": "stream",
     "text": [
      "\n",
      "image 1/1 d:\\img_processing\\raw_images\\f5815eb4-12c2-46e0-ac3d-29097c6ad417.jpg: 640x480 1 digital-board-medium, 52.8ms\n",
      "Speed: 1.7ms preprocess, 52.8ms inference, 0.8ms postprocess per image at shape (1, 3, 640, 480)\n"
     ]
    },
    {
     "name": "stderr",
     "output_type": "stream",
     "text": [
      " 96%|█████████▌| 451/470 [01:27<00:03,  5.99it/s]"
     ]
    },
    {
     "name": "stdout",
     "output_type": "stream",
     "text": [
      "\n",
      "image 1/1 d:\\img_processing\\raw_images\\f59458b7-7cec-4295-937d-651ecf308781.jpg: 640x480 1 poster, 73.1ms\n",
      "Speed: 1.7ms preprocess, 73.1ms inference, 0.9ms postprocess per image at shape (1, 3, 640, 480)\n"
     ]
    },
    {
     "name": "stderr",
     "output_type": "stream",
     "text": [
      " 96%|█████████▌| 452/470 [01:28<00:03,  5.62it/s]"
     ]
    },
    {
     "name": "stdout",
     "output_type": "stream",
     "text": [
      "\n",
      "image 1/1 d:\\img_processing\\raw_images\\f68831dc-875f-46e2-a551-7f2af0f83a30.jpg: 640x480 1 rectangle-wide-board, 58.6ms\n",
      "Speed: 1.6ms preprocess, 58.6ms inference, 0.8ms postprocess per image at shape (1, 3, 640, 480)\n"
     ]
    },
    {
     "name": "stderr",
     "output_type": "stream",
     "text": [
      " 96%|█████████▋| 453/470 [01:28<00:03,  5.49it/s]"
     ]
    },
    {
     "name": "stdout",
     "output_type": "stream",
     "text": [
      "\n",
      "image 1/1 d:\\img_processing\\raw_images\\f7e7c389-0415-4c1c-bb37-c741dc39b672.jpg: 640x480 (no detections), 53.1ms\n",
      "Speed: 1.7ms preprocess, 53.1ms inference, 0.5ms postprocess per image at shape (1, 3, 640, 480)\n",
      "\n",
      "image 1/1 d:\\img_processing\\raw_images\\fa3b780d-92cf-489f-8651-7c47a7cd0cf9.jpg: 640x480 1 mupi, 54.8ms\n",
      "Speed: 1.6ms preprocess, 54.8ms inference, 0.8ms postprocess per image at shape (1, 3, 640, 480)\n"
     ]
    },
    {
     "name": "stderr",
     "output_type": "stream",
     "text": [
      " 97%|█████████▋| 455/470 [01:28<00:02,  6.16it/s]"
     ]
    },
    {
     "name": "stdout",
     "output_type": "stream",
     "text": [
      "\n",
      "image 1/1 d:\\img_processing\\raw_images\\fb25095b-b8c4-4538-9500-4760dfa68ce0.jpg: 640x480 1 mupi, 58.6ms\n",
      "Speed: 1.6ms preprocess, 58.6ms inference, 1.3ms postprocess per image at shape (1, 3, 640, 480)\n"
     ]
    },
    {
     "name": "stderr",
     "output_type": "stream",
     "text": [
      " 97%|█████████▋| 456/470 [01:28<00:02,  5.63it/s]"
     ]
    },
    {
     "name": "stdout",
     "output_type": "stream",
     "text": [
      "\n",
      "image 1/1 d:\\img_processing\\raw_images\\fc17b17d-bd9b-4228-b87d-858e6332a76e.jpg: 640x480 1 rectangle-wide-board, 56.7ms\n",
      "Speed: 1.9ms preprocess, 56.7ms inference, 0.8ms postprocess per image at shape (1, 3, 640, 480)\n"
     ]
    },
    {
     "name": "stderr",
     "output_type": "stream",
     "text": [
      " 97%|█████████▋| 457/470 [01:28<00:02,  5.54it/s]"
     ]
    },
    {
     "name": "stdout",
     "output_type": "stream",
     "text": [
      "\n",
      "image 1/1 d:\\img_processing\\raw_images\\fc27b248-dd44-41d3-9750-68063e41ab44.jpg: 640x480 1 mupi, 55.8ms\n",
      "Speed: 1.8ms preprocess, 55.8ms inference, 1.0ms postprocess per image at shape (1, 3, 640, 480)\n"
     ]
    },
    {
     "name": "stderr",
     "output_type": "stream",
     "text": [
      " 97%|█████████▋| 458/470 [01:29<00:02,  5.42it/s]"
     ]
    },
    {
     "name": "stdout",
     "output_type": "stream",
     "text": [
      "\n",
      "image 1/1 d:\\img_processing\\raw_images\\fc4abd2f-35b9-48e9-8edc-93359d121635.jpg: 640x480 1 digital-board-medium, 55.8ms\n",
      "Speed: 1.7ms preprocess, 55.8ms inference, 0.8ms postprocess per image at shape (1, 3, 640, 480)\n"
     ]
    },
    {
     "name": "stderr",
     "output_type": "stream",
     "text": [
      " 98%|█████████▊| 459/470 [01:29<00:02,  5.38it/s]"
     ]
    },
    {
     "name": "stdout",
     "output_type": "stream",
     "text": [
      "\n",
      "image 1/1 d:\\img_processing\\raw_images\\fc61cbac-c93e-4808-a5b1-6d2770896fe0.jpg: 640x480 1 rectangle-wide-board, 60.5ms\n",
      "Speed: 1.9ms preprocess, 60.5ms inference, 0.8ms postprocess per image at shape (1, 3, 640, 480)\n"
     ]
    },
    {
     "name": "stderr",
     "output_type": "stream",
     "text": [
      " 98%|█████████▊| 460/470 [01:29<00:01,  5.06it/s]"
     ]
    },
    {
     "name": "stdout",
     "output_type": "stream",
     "text": [
      "\n",
      "image 1/1 d:\\img_processing\\raw_images\\fc919e8d-6d06-40a5-b595-63a50a267b58.jpg: 640x480 1 poster, 52.2ms\n",
      "Speed: 1.6ms preprocess, 52.2ms inference, 0.7ms postprocess per image at shape (1, 3, 640, 480)\n"
     ]
    },
    {
     "name": "stderr",
     "output_type": "stream",
     "text": [
      " 98%|█████████▊| 461/470 [01:29<00:01,  5.14it/s]"
     ]
    },
    {
     "name": "stdout",
     "output_type": "stream",
     "text": [
      "\n",
      "image 1/1 d:\\img_processing\\raw_images\\fdaf7d81-27fa-465f-b300-245d03860941.jpg: 640x320 1 digital-board-medium, 46.6ms\n",
      "Speed: 1.3ms preprocess, 46.6ms inference, 0.6ms postprocess per image at shape (1, 3, 640, 320)\n"
     ]
    },
    {
     "name": "stderr",
     "output_type": "stream",
     "text": [
      " 98%|█████████▊| 462/470 [01:29<00:01,  5.28it/s]"
     ]
    },
    {
     "name": "stdout",
     "output_type": "stream",
     "text": [
      "\n",
      "image 1/1 d:\\img_processing\\raw_images\\fe45c2d5-6f52-47f3-8194-38b388cea992.jpg: 640x480 1 digital-board-medium, 60.0ms\n",
      "Speed: 1.5ms preprocess, 60.0ms inference, 0.9ms postprocess per image at shape (1, 3, 640, 480)\n"
     ]
    },
    {
     "name": "stderr",
     "output_type": "stream",
     "text": [
      " 99%|█████████▊| 463/470 [01:30<00:01,  4.96it/s]"
     ]
    },
    {
     "name": "stdout",
     "output_type": "stream",
     "text": [
      "\n",
      "image 1/1 d:\\img_processing\\raw_images\\fe6a639f-99fe-47d1-a112-0126dd383a59.jpg: 640x480 1 rectangle-wide-board, 60.7ms\n",
      "Speed: 1.7ms preprocess, 60.7ms inference, 0.8ms postprocess per image at shape (1, 3, 640, 480)\n"
     ]
    },
    {
     "name": "stderr",
     "output_type": "stream",
     "text": [
      " 99%|█████████▊| 464/470 [01:30<00:01,  4.95it/s]"
     ]
    },
    {
     "name": "stdout",
     "output_type": "stream",
     "text": [
      "\n",
      "image 1/1 d:\\img_processing\\raw_images\\fe838f92-01b6-4e33-96bc-39356f9a2f1f.jpg: 640x480 1 mupi, 79.1ms\n",
      "Speed: 1.8ms preprocess, 79.1ms inference, 1.2ms postprocess per image at shape (1, 3, 640, 480)\n"
     ]
    },
    {
     "name": "stderr",
     "output_type": "stream",
     "text": [
      " 99%|█████████▉| 465/470 [01:30<00:01,  4.70it/s]"
     ]
    },
    {
     "name": "stdout",
     "output_type": "stream",
     "text": [
      "\n",
      "image 1/1 d:\\img_processing\\raw_images\\ff1567e5-c9e9-41f5-adce-5294428e15c3.jpg: 640x480 (no detections), 58.1ms\n",
      "Speed: 1.8ms preprocess, 58.1ms inference, 0.6ms postprocess per image at shape (1, 3, 640, 480)\n",
      "\n",
      "image 1/1 d:\\img_processing\\raw_images\\ff516c0d-f5e9-4021-a7fd-971f5c64dbf8.jpg: 640x480 1 poster, 56.7ms\n",
      "Speed: 1.6ms preprocess, 56.7ms inference, 0.7ms postprocess per image at shape (1, 3, 640, 480)\n"
     ]
    },
    {
     "name": "stderr",
     "output_type": "stream",
     "text": [
      " 99%|█████████▉| 467/470 [01:30<00:00,  5.26it/s]"
     ]
    },
    {
     "name": "stdout",
     "output_type": "stream",
     "text": [
      "\n",
      "image 1/1 d:\\img_processing\\raw_images\\ff655c9b-d598-4c28-93b6-287fe106731e.jpg: 640x480 (no detections), 54.3ms\n",
      "Speed: 2.5ms preprocess, 54.3ms inference, 0.5ms postprocess per image at shape (1, 3, 640, 480)\n",
      "\n",
      "image 1/1 d:\\img_processing\\raw_images\\ff896ae8-a892-4d46-a06b-82af69b71ed4.jpg: 640x480 1 mupi, 53.6ms\n",
      "Speed: 1.9ms preprocess, 53.6ms inference, 0.8ms postprocess per image at shape (1, 3, 640, 480)\n"
     ]
    },
    {
     "name": "stderr",
     "output_type": "stream",
     "text": [
      "100%|█████████▉| 469/470 [01:31<00:00,  5.99it/s]"
     ]
    },
    {
     "name": "stdout",
     "output_type": "stream",
     "text": [
      "\n",
      "image 1/1 d:\\img_processing\\raw_images\\ffe4822b-0ef4-469f-be5d-3af4216db3ae.jpg: 640x480 1 digital-board-big, 52.3ms\n",
      "Speed: 2.1ms preprocess, 52.3ms inference, 0.7ms postprocess per image at shape (1, 3, 640, 480)\n"
     ]
    },
    {
     "name": "stderr",
     "output_type": "stream",
     "text": [
      "100%|██████████| 470/470 [01:31<00:00,  5.15it/s]\n"
     ]
    }
   ],
   "source": [
    "import json\n",
    "from tqdm import tqdm\n",
    "\n",
    "all_data = []\n",
    "for img_file in tqdm(list(Path(input_dir).glob(\"*.jpg\"))):\n",
    "    cropped_imgs = crop_and_save_billboards(str(img_file), model, output_dir)\n",
    "    for crop_img in cropped_imgs:\n",
    "        text = extract_text(crop_img)\n",
    "        all_data.append({\n",
    "            \"original_image\": img_file.name,\n",
    "            \"cropped_image\": Path(crop_img).name,\n",
    "            \"text\": text\n",
    "        })\n",
    "\n",
    "# Save to JSON\n",
    "with open(\"billboard_text_data.json\", \"w\", encoding=\"utf-8\") as f:\n",
    "    json.dump(all_data, f, indent=2, ensure_ascii=False)"
   ]
  },
  {
   "cell_type": "markdown",
   "id": "86bc597b",
   "metadata": {},
   "source": [
    "### ✅ Output saved to `billboard_text_data.json`\n",
    "You can now use this structured text data for lead gen, indexing, or analytics."
   ]
  },
  {
   "cell_type": "code",
   "execution_count": 12,
   "id": "d0bc88a0",
   "metadata": {},
   "outputs": [],
   "source": [
    "import pytesseract\n",
    "\n",
    "pytesseract.pytesseract.tesseract_cmd = r'C:\\Program Files\\Tesseract-OCR\\tesseract.exe'"
   ]
  },
  {
   "cell_type": "code",
   "execution_count": 14,
   "id": "b286f4bd",
   "metadata": {},
   "outputs": [
    {
     "name": "stdout",
     "output_type": "stream",
     "text": [
      "\n"
     ]
    }
   ],
   "source": [
    "import pytesseract\n",
    "from PIL import Image\n",
    "\n",
    "pytesseract.pytesseract.tesseract_cmd = r'C:\\Program Files\\Tesseract-OCR\\tesseract.exe'\n",
    "\n",
    "print(pytesseract.image_to_string(Image.new('RGB', (100, 50), color='white')))\n"
   ]
  }
 ],
 "metadata": {
  "kernelspec": {
   "display_name": "venv",
   "language": "python",
   "name": "python3"
  },
  "language_info": {
   "codemirror_mode": {
    "name": "ipython",
    "version": 3
   },
   "file_extension": ".py",
   "mimetype": "text/x-python",
   "name": "python",
   "nbconvert_exporter": "python",
   "pygments_lexer": "ipython3",
   "version": "3.12.6"
  }
 },
 "nbformat": 4,
 "nbformat_minor": 5
}
